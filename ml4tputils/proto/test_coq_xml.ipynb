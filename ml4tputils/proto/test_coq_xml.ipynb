{
 "cells": [
  {
   "cell_type": "code",
   "execution_count": null,
   "metadata": {
    "collapsed": true
   },
   "outputs": [],
   "source": [
    "import socket\n",
    "from contextlib import closing\n",
    "\n",
    "def find_free_port():\n",
    "    with closing(socket.socket(socket.AF_INET, socket.SOCK_STREAM)) as s:\n",
    "        s.bind(('', 0))\n",
    "        return s.getsockname()[1]\n",
    "    \n",
    "write_port = find_free_port()\n",
    "read_port = find_free_port()\n",
    "print(write_port, read_port)"
   ]
  },
  {
   "cell_type": "code",
   "execution_count": 4,
   "metadata": {},
   "outputs": [
    {
     "name": "stdout",
     "output_type": "stream",
     "text": [
      "<value val=\"good\"><pair><state_id val=\"2\"/><pair><union val=\"in_l\"><unit/></union><string></string></pair></pair></value>\n"
     ]
    }
   ],
   "source": [
    "from subprocess import Popen, PIPE, STDOUT\n",
    "\n",
    "p = Popen([\"coqtop\", \"-main-channel\", \"stdfds\", \"-ideslave\"], stdout=PIPE, stdin=PIPE, stderr=STDOUT)    \n",
    "\n",
    "msg1 = b\"\"\"\n",
    "<call val=\"Add\">\n",
    "  <pair>\n",
    "    <pair>\n",
    "      <string>Definition foobar: forall n: nat, n = n.</string>\n",
    "      <int>0</int>\n",
    "    </pair>\n",
    "    <pair>\n",
    "      <state_id val=\"1\"/>\n",
    "      <bool val=\"true\"/>\n",
    "    </pair>\n",
    "  </pair>\n",
    "</call>\n",
    "\n",
    "\"\"\"\n",
    "\n",
    "msg2 = b\"\"\"\n",
    "<call val=\"Add\">\n",
    "  <pair>\n",
    "    <pair>\n",
    "      <string>Proof.</string>\n",
    "      <int>0</int>\n",
    "    </pair>\n",
    "    <pair>\n",
    "      <state_id val=\"2\"/>\n",
    "      <bool val=\"true\"/>\n",
    "    </pair>\n",
    "  </pair>\n",
    "</call>\n",
    "\"\"\"\n",
    "\n",
    "# x = p.stdin.write(msg1)\n",
    "# print(type(x), x)\n",
    "# print(p.poll())\n",
    "# p.stdin.flush()\n",
    "# print(\"HERE\", p.stdout.read())\n",
    "# p.close()\n",
    "# print(p.stdin.write(msg2))\n",
    "# print(p.stdout.read())\n",
    "\n",
    "# print(p.stdin.write(msg2))\n",
    "\n",
    "grep_stdout = p.communicate(input=msg1)[0]\n",
    "#grep_stdout = p.communicate(input=msg2)[0]\n",
    "print(grep_stdout.decode())"
   ]
  },
  {
   "cell_type": "code",
   "execution_count": null,
   "metadata": {
    "collapsed": true
   },
   "outputs": [],
   "source": [
    "import subprocess as sp\n",
    "\n",
    "# coqtop -main-channel stdfds -ideslave\n",
    "x = sp.call([\"coqtop\", \"-main-channel\", \"stdfds\", \"-ideslave\"], shell=True)\n",
    "print(x)"
   ]
  },
  {
   "cell_type": "code",
   "execution_count": null,
   "metadata": {
    "collapsed": true
   },
   "outputs": [],
   "source": [
    "from subprocess import Popen, PIPE, STDOUT\n",
    "p = Popen([\"coqtop\", \"-main-channel\", \"stdfds\", \"-ideslave\"], stdout=PIPE, stdin=PIPE, stderr=PIPE)\n",
    "stdout_data = p.communicate(input='data_to_write')[0]\n"
   ]
  },
  {
   "cell_type": "code",
   "execution_count": null,
   "metadata": {
    "collapsed": true
   },
   "outputs": [],
   "source": []
  }
 ],
 "metadata": {
  "kernelspec": {
   "display_name": "ragnarok3",
   "language": "python",
   "name": "ragnarok3"
  },
  "language_info": {
   "codemirror_mode": {
    "name": "ipython",
    "version": 3
   },
   "file_extension": ".py",
   "mimetype": "text/x-python",
   "name": "python",
   "nbconvert_exporter": "python",
   "pygments_lexer": "ipython3",
   "version": "3.6.2"
  }
 },
 "nbformat": 4,
 "nbformat_minor": 2
}
