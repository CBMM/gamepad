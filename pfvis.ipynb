{
 "cells": [
  {
   "cell_type": "code",
   "execution_count": 7,
   "metadata": {},
   "outputs": [
    {
     "name": "stdout",
     "output_type": "stream",
     "text": [
      "==================================================\n",
      "Visualizing file: /Users/dehuang/Documents/research/ml4tp/ex/foo9.dump\n",
      "progress: 0.00% @ plus_zero\n",
      "progress: 24.28% @ S_comm\n",
      "progress: 65.26% @ plus_comm\n",
      "progress: 65.48% @ plus_comm\n",
      "------------------------------------------------\n",
      "Visualizing lemma: plus_comm\n"
     ]
    },
    {
     "data": {
      "text/html": [
       "<script>requirejs.config({paths: { 'plotly': ['https://cdn.plot.ly/plotly-latest.min']},});if(!window.Plotly) {{require(['plotly'],function(plotly) {window.Plotly=plotly;});}}</script>"
      ],
      "text/vnd.plotly.v1+html": [
       "<script>requirejs.config({paths: { 'plotly': ['https://cdn.plot.ly/plotly-latest.min']},});if(!window.Plotly) {{require(['plotly'],function(plotly) {window.Plotly=plotly;});}}</script>"
      ]
     },
     "metadata": {},
     "output_type": "display_data"
    },
    {
     "data": {
      "application/vnd.plotly.v1+json": {
       "data": [
        {
         "hoverinfo": null,
         "line": {
          "color": "#888",
          "width": 0.5
         },
         "mode": "lines",
         "type": "scatter",
         "x": [
          0.25728691715185475,
          0.021085299688619916,
          null,
          0.25728691715185475,
          0.2143127655983972,
          null,
          0.021085299688619916,
          -0.22323749143864144,
          null,
          0.2143127655983972,
          0.1903695450050258,
          null,
          -0.22323749143864144,
          -0.4565039258514225,
          null,
          -0.4565039258514225,
          -0.6754909146491717,
          null,
          0.1903695450050258,
          0.16593485532077654,
          null,
          0.16593485532077654,
          0.16838813703047872,
          null,
          0.16838813703047872,
          0.16262672004346818,
          null,
          0.16262672004346818,
          0.17522809210061446,
          null
         ],
         "y": [
          0.6578039616263802,
          0.512893904946262,
          null,
          0.6578039616263802,
          0.3838892434761641,
          null,
          0.512893904946262,
          0.38178635912916054,
          null,
          0.3838892434761641,
          0.10767055269197168,
          null,
          0.38178635912916054,
          0.23184302752577735,
          null,
          0.23184302752577735,
          0.061672816577190134,
          null,
          0.10767055269197168,
          -0.16857998024690282,
          null,
          -0.16857998024690282,
          -0.4459069863823577,
          null,
          -0.4459069863823577,
          -0.7230728993436454,
          null,
          -0.7230728993436454,
          -1,
          null
         ]
        },
        {
         "hoverinfo": "text",
         "marker": {
          "color": [],
          "colorscale": "YIGnBu",
          "line": {
           "width": 2
          },
          "reversescale": true,
          "showscale": true,
          "size": 10
         },
         "mode": "markers",
         "text": [
          "gid: 10<br><br>=====================<br>forall n m : nat, n + m = m + n",
          "gid: 15<br><br>=====================<br>forall m : nat, 0 + m = m + 0",
          "gid: 18<br>IHn: forall m : nat, n + m = m + n<br>n: nat<br>=====================<br>forall m : nat, S n + m = m + S n",
          "gid: 19<br>m: nat<br>=====================<br>0 + m = m + 0",
          "gid: 21<br>m: nat<br>=====================<br>m = m + 0",
          "gid: t0",
          "gid: 22<br>m: nat<br>IHn: forall m : nat, n + m = m + n<br>n: nat<br>=====================<br>S n + m = m + S n",
          "gid: 24<br>m: nat<br>IHn: forall m : nat, n + m = m + n<br>n: nat<br>=====================<br>S (n + m) = m + S n",
          "gid: 25<br>m: nat<br>IHn: forall m : nat, n + m = m + n<br>n: nat<br>=====================<br>S (m + n) = m + S n",
          "gid: 26<br>m: nat<br>IHn: forall m : nat, n + m = m + n<br>n: nat<br>=====================<br>S (m + n) = m + S n",
          "gid: t1"
         ],
         "type": "scatter",
         "x": [
          0.25728691715185475,
          0.021085299688619916,
          0.2143127655983972,
          -0.22323749143864144,
          -0.4565039258514225,
          -0.6754909146491717,
          0.1903695450050258,
          0.16593485532077654,
          0.16838813703047872,
          0.16262672004346818,
          0.17522809210061446
         ],
         "y": [
          0.6578039616263802,
          0.512893904946262,
          0.3838892434761641,
          0.38178635912916054,
          0.23184302752577735,
          0.061672816577190134,
          0.10767055269197168,
          -0.16857998024690282,
          -0.4459069863823577,
          -0.7230728993436454,
          -1
         ]
        },
        {
         "hoverinfo": "text",
         "marker": {
          "color": [],
          "colorscale": "YIGnBu",
          "line": {
           "width": 2
          },
          "reversescale": true,
          "showscale": true,
          "size": 5
         },
         "mode": "markers",
         "text": [
          "ftac: induction n",
          "ftac: induction n",
          "ftac: intro",
          "ftac: simpl",
          "ftac: apply plus_zero",
          "ftac: intro",
          "ftac: simpl",
          "ftac: rewrite IHn",
          "ftac: simpl",
          "ftac: apply S_comm"
         ],
         "type": "scatter",
         "x": [
          0.13918610842023735,
          0.235799841375126,
          -0.10107609587501076,
          -0.339870708645032,
          -0.5659974202502971,
          0.20234115530171148,
          0.17815220016290118,
          0.16716149617562764,
          0.16550742853697345,
          0.16892740607204132
         ],
         "y": [
          0.5853489332863211,
          0.5208466025512721,
          0.4473401320377113,
          0.3068146933274689,
          0.14675792205148375,
          0.2457798980840679,
          -0.030454713777465572,
          -0.30724348331463025,
          -0.5844899428630015,
          -0.8615364496718227
         ]
        }
       ],
       "layout": {
        "hovermode": "closest",
        "margin": {
         "b": 20,
         "l": 5,
         "r": 5,
         "t": 40
        },
        "showlegend": false,
        "title": "<br>Reconstruction of plus_comm",
        "titlefont": {
         "size": 16
        },
        "xaxis": {
         "showgrid": false,
         "showticklabels": false,
         "zeroline": false
        },
        "yaxis": {
         "showgrid": false,
         "showticklabels": false,
         "zeroline": false
        }
       }
      },
      "text/html": [
       "<div id=\"74a19366-5952-4e48-822a-0352b4244e03\" style=\"height: 525px; width: 100%;\" class=\"plotly-graph-div\"></div><script type=\"text/javascript\">require([\"plotly\"], function(Plotly) { window.PLOTLYENV=window.PLOTLYENV || {};window.PLOTLYENV.BASE_URL=\"https://plot.ly\";Plotly.newPlot(\"74a19366-5952-4e48-822a-0352b4244e03\", [{\"type\": \"scatter\", \"x\": [0.25728691715185475, 0.021085299688619916, null, 0.25728691715185475, 0.2143127655983972, null, 0.021085299688619916, -0.22323749143864144, null, 0.2143127655983972, 0.1903695450050258, null, -0.22323749143864144, -0.4565039258514225, null, -0.4565039258514225, -0.6754909146491717, null, 0.1903695450050258, 0.16593485532077654, null, 0.16593485532077654, 0.16838813703047872, null, 0.16838813703047872, 0.16262672004346818, null, 0.16262672004346818, 0.17522809210061446, null], \"y\": [0.6578039616263802, 0.512893904946262, null, 0.6578039616263802, 0.3838892434761641, null, 0.512893904946262, 0.38178635912916054, null, 0.3838892434761641, 0.10767055269197168, null, 0.38178635912916054, 0.23184302752577735, null, 0.23184302752577735, 0.061672816577190134, null, 0.10767055269197168, -0.16857998024690282, null, -0.16857998024690282, -0.4459069863823577, null, -0.4459069863823577, -0.7230728993436454, null, -0.7230728993436454, -1.0, null], \"line\": {\"width\": 0.5, \"color\": \"#888\"}, \"hoverinfo\": null, \"mode\": \"lines\"}, {\"type\": \"scatter\", \"x\": [0.25728691715185475, 0.021085299688619916, 0.2143127655983972, -0.22323749143864144, -0.4565039258514225, -0.6754909146491717, 0.1903695450050258, 0.16593485532077654, 0.16838813703047872, 0.16262672004346818, 0.17522809210061446], \"y\": [0.6578039616263802, 0.512893904946262, 0.3838892434761641, 0.38178635912916054, 0.23184302752577735, 0.061672816577190134, 0.10767055269197168, -0.16857998024690282, -0.4459069863823577, -0.7230728993436454, -1.0], \"text\": [\"gid: 10<br><br>=====================<br>forall n m : nat, n + m = m + n\", \"gid: 15<br><br>=====================<br>forall m : nat, 0 + m = m + 0\", \"gid: 18<br>IHn: forall m : nat, n + m = m + n<br>n: nat<br>=====================<br>forall m : nat, S n + m = m + S n\", \"gid: 19<br>m: nat<br>=====================<br>0 + m = m + 0\", \"gid: 21<br>m: nat<br>=====================<br>m = m + 0\", \"gid: t0\", \"gid: 22<br>m: nat<br>IHn: forall m : nat, n + m = m + n<br>n: nat<br>=====================<br>S n + m = m + S n\", \"gid: 24<br>m: nat<br>IHn: forall m : nat, n + m = m + n<br>n: nat<br>=====================<br>S (n + m) = m + S n\", \"gid: 25<br>m: nat<br>IHn: forall m : nat, n + m = m + n<br>n: nat<br>=====================<br>S (m + n) = m + S n\", \"gid: 26<br>m: nat<br>IHn: forall m : nat, n + m = m + n<br>n: nat<br>=====================<br>S (m + n) = m + S n\", \"gid: t1\"], \"mode\": \"markers\", \"hoverinfo\": \"text\", \"marker\": {\"showscale\": true, \"colorscale\": \"YIGnBu\", \"reversescale\": true, \"color\": [], \"size\": 10, \"line\": {\"width\": 2}}}, {\"type\": \"scatter\", \"x\": [0.13918610842023735, 0.235799841375126, -0.10107609587501076, -0.339870708645032, -0.5659974202502971, 0.20234115530171148, 0.17815220016290118, 0.16716149617562764, 0.16550742853697345, 0.16892740607204132], \"y\": [0.5853489332863211, 0.5208466025512721, 0.4473401320377113, 0.3068146933274689, 0.14675792205148375, 0.2457798980840679, -0.030454713777465572, -0.30724348331463025, -0.5844899428630015, -0.8615364496718227], \"text\": [\"ftac: induction n\", \"ftac: induction n\", \"ftac: intro\", \"ftac: simpl\", \"ftac: apply plus_zero\", \"ftac: intro\", \"ftac: simpl\", \"ftac: rewrite IHn\", \"ftac: simpl\", \"ftac: apply S_comm\"], \"mode\": \"markers\", \"hoverinfo\": \"text\", \"marker\": {\"showscale\": true, \"colorscale\": \"YIGnBu\", \"reversescale\": true, \"color\": [], \"size\": 5, \"line\": {\"width\": 2}}}], {\"title\": \"<br>Reconstruction of plus_comm\", \"titlefont\": {\"size\": 16}, \"showlegend\": false, \"hovermode\": \"closest\", \"margin\": {\"b\": 20, \"l\": 5, \"r\": 5, \"t\": 40}, \"xaxis\": {\"showgrid\": false, \"zeroline\": false, \"showticklabels\": false}, \"yaxis\": {\"showgrid\": false, \"zeroline\": false, \"showticklabels\": false}}, {\"showLink\": true, \"linkText\": \"Export to plot.ly\"})});</script>"
      ],
      "text/vnd.plotly.v1+html": [
       "<div id=\"74a19366-5952-4e48-822a-0352b4244e03\" style=\"height: 525px; width: 100%;\" class=\"plotly-graph-div\"></div><script type=\"text/javascript\">require([\"plotly\"], function(Plotly) { window.PLOTLYENV=window.PLOTLYENV || {};window.PLOTLYENV.BASE_URL=\"https://plot.ly\";Plotly.newPlot(\"74a19366-5952-4e48-822a-0352b4244e03\", [{\"type\": \"scatter\", \"x\": [0.25728691715185475, 0.021085299688619916, null, 0.25728691715185475, 0.2143127655983972, null, 0.021085299688619916, -0.22323749143864144, null, 0.2143127655983972, 0.1903695450050258, null, -0.22323749143864144, -0.4565039258514225, null, -0.4565039258514225, -0.6754909146491717, null, 0.1903695450050258, 0.16593485532077654, null, 0.16593485532077654, 0.16838813703047872, null, 0.16838813703047872, 0.16262672004346818, null, 0.16262672004346818, 0.17522809210061446, null], \"y\": [0.6578039616263802, 0.512893904946262, null, 0.6578039616263802, 0.3838892434761641, null, 0.512893904946262, 0.38178635912916054, null, 0.3838892434761641, 0.10767055269197168, null, 0.38178635912916054, 0.23184302752577735, null, 0.23184302752577735, 0.061672816577190134, null, 0.10767055269197168, -0.16857998024690282, null, -0.16857998024690282, -0.4459069863823577, null, -0.4459069863823577, -0.7230728993436454, null, -0.7230728993436454, -1.0, null], \"line\": {\"width\": 0.5, \"color\": \"#888\"}, \"hoverinfo\": null, \"mode\": \"lines\"}, {\"type\": \"scatter\", \"x\": [0.25728691715185475, 0.021085299688619916, 0.2143127655983972, -0.22323749143864144, -0.4565039258514225, -0.6754909146491717, 0.1903695450050258, 0.16593485532077654, 0.16838813703047872, 0.16262672004346818, 0.17522809210061446], \"y\": [0.6578039616263802, 0.512893904946262, 0.3838892434761641, 0.38178635912916054, 0.23184302752577735, 0.061672816577190134, 0.10767055269197168, -0.16857998024690282, -0.4459069863823577, -0.7230728993436454, -1.0], \"text\": [\"gid: 10<br><br>=====================<br>forall n m : nat, n + m = m + n\", \"gid: 15<br><br>=====================<br>forall m : nat, 0 + m = m + 0\", \"gid: 18<br>IHn: forall m : nat, n + m = m + n<br>n: nat<br>=====================<br>forall m : nat, S n + m = m + S n\", \"gid: 19<br>m: nat<br>=====================<br>0 + m = m + 0\", \"gid: 21<br>m: nat<br>=====================<br>m = m + 0\", \"gid: t0\", \"gid: 22<br>m: nat<br>IHn: forall m : nat, n + m = m + n<br>n: nat<br>=====================<br>S n + m = m + S n\", \"gid: 24<br>m: nat<br>IHn: forall m : nat, n + m = m + n<br>n: nat<br>=====================<br>S (n + m) = m + S n\", \"gid: 25<br>m: nat<br>IHn: forall m : nat, n + m = m + n<br>n: nat<br>=====================<br>S (m + n) = m + S n\", \"gid: 26<br>m: nat<br>IHn: forall m : nat, n + m = m + n<br>n: nat<br>=====================<br>S (m + n) = m + S n\", \"gid: t1\"], \"mode\": \"markers\", \"hoverinfo\": \"text\", \"marker\": {\"showscale\": true, \"colorscale\": \"YIGnBu\", \"reversescale\": true, \"color\": [], \"size\": 10, \"line\": {\"width\": 2}}}, {\"type\": \"scatter\", \"x\": [0.13918610842023735, 0.235799841375126, -0.10107609587501076, -0.339870708645032, -0.5659974202502971, 0.20234115530171148, 0.17815220016290118, 0.16716149617562764, 0.16550742853697345, 0.16892740607204132], \"y\": [0.5853489332863211, 0.5208466025512721, 0.4473401320377113, 0.3068146933274689, 0.14675792205148375, 0.2457798980840679, -0.030454713777465572, -0.30724348331463025, -0.5844899428630015, -0.8615364496718227], \"text\": [\"ftac: induction n\", \"ftac: induction n\", \"ftac: intro\", \"ftac: simpl\", \"ftac: apply plus_zero\", \"ftac: intro\", \"ftac: simpl\", \"ftac: rewrite IHn\", \"ftac: simpl\", \"ftac: apply S_comm\"], \"mode\": \"markers\", \"hoverinfo\": \"text\", \"marker\": {\"showscale\": true, \"colorscale\": \"YIGnBu\", \"reversescale\": true, \"color\": [], \"size\": 5, \"line\": {\"width\": 2}}}], {\"title\": \"<br>Reconstruction of plus_comm\", \"titlefont\": {\"size\": 16}, \"showlegend\": false, \"hovermode\": \"closest\", \"margin\": {\"b\": 20, \"l\": 5, \"r\": 5, \"t\": 40}, \"xaxis\": {\"showgrid\": false, \"zeroline\": false, \"showticklabels\": false}, \"yaxis\": {\"showgrid\": false, \"zeroline\": false, \"showticklabels\": false}}, {\"showLink\": true, \"linkText\": \"Export to plot.ly\"})});</script>"
      ]
     },
     "metadata": {},
     "output_type": "display_data"
    }
   ],
   "source": [
    "from ml4tputils.visualize import *\n",
    "\n",
    "#tgtlem = \"foo1\"\n",
    "#file = \"/Users/dehuang/Documents/research/ml4tp/ex/foo1.dump\"\n",
    "tgtlem = \"plus_comm\"\n",
    "file = \"/Users/dehuang/Documents/research/ml4tp/ex/foo9.dump\"\n",
    "vis = Visualize(f_display=True, f_jupyter=True, f_verbose=False, rawtac_file=\"rawtac.log\", tgtlem=tgtlem)\n",
    "tactrs = vis.visualize_file(file)"
   ]
  },
  {
   "cell_type": "code",
   "execution_count": 1,
   "metadata": {},
   "outputs": [
    {
     "name": "stdout",
     "output_type": "stream",
     "text": [
      "==================================================\n",
      "Visualizing file: /Users/dehuang/Documents/research/ml4tp/data/odd-order/BGsection1.v.dump\n",
      "progress: 0.00% @ minnormal_solvable_abelem\n",
      "progress: 0.12% @ minnormal_solvable_Fitting_center\n",
      "progress: 0.12% @ minnormal_solvable_Fitting_center\n",
      "------------------------------------------------\n",
      "Visualizing lemma: minnormal_solvable_Fitting_center\n"
     ]
    },
    {
     "data": {
      "text/html": [
       "<script>requirejs.config({paths: { 'plotly': ['https://cdn.plot.ly/plotly-latest.min']},});if(!window.Plotly) {{require(['plotly'],function(plotly) {window.Plotly=plotly;});}}</script>"
      ],
      "text/vnd.plotly.v1+html": [
       "<script>requirejs.config({paths: { 'plotly': ['https://cdn.plot.ly/plotly-latest.min']},});if(!window.Plotly) {{require(['plotly'],function(plotly) {window.Plotly=plotly;});}}</script>"
      ]
     },
     "metadata": {},
     "output_type": "display_data"
    },
    {
     "data": {
      "application/vnd.plotly.v1+json": {
       "data": [
        {
         "hoverinfo": null,
         "line": {
          "color": "#888",
          "width": 0.5
         },
         "mode": "lines",
         "type": "scatter",
         "x": [
          -0.16587492341046442,
          -0.04177415085689822,
          null,
          -0.16587492341046442,
          -0.018052746873529413,
          null,
          -0.16587492341046442,
          -0.008333778997690071,
          null,
          -0.04177415085689822,
          0.07585013534841607,
          null,
          -0.018052746873529413,
          0.11406141648660525,
          null,
          -0.008333778997690071,
          0.14819267490823038,
          null,
          -0.31364776476820166,
          -0.16587492341046442,
          null,
          -0.31364776476820166,
          -0.2728119020992076,
          null,
          -0.2728119020992076,
          -0.21300589819812643,
          null,
          -0.21300589819812643,
          -0.15573479373452692,
          null,
          -0.15573479373452692,
          -0.07202461733638006,
          null,
          -0.15573479373452692,
          -0.12298132092136964,
          null,
          -0.15573479373452692,
          -0.15573479373452692,
          null,
          -0.07202461733638006,
          -0.0031985854141776985,
          null,
          -0.07202461733638006,
          -0.07202461733638006,
          null,
          -0.12298132092136964,
          -0.07476778552285217,
          null,
          -0.0031985854141776985,
          0.09782781408806109,
          null,
          -0.0031985854141776985,
          0.04772532517587927,
          null,
          0.04772532517587927,
          0.0963935227002214,
          null,
          0.04772532517587927,
          0.10234941827838594,
          null,
          0.04772532517587927,
          0.10341379396793421,
          null,
          0.0963935227002214,
          0.14375772991041147,
          null,
          0.10234941827838594,
          0.144675390698023,
          null,
          0.10341379396793421,
          0.10341379396793421,
          null,
          0.10341379396793421,
          0.16785856590705675,
          null,
          0.16785856590705675,
          0.16785856590705675,
          null,
          0.16785856590705675,
          0.16785856590705675,
          null,
          0.16785856590705675,
          0.22010248066419938,
          null,
          0.22010248066419938,
          0.22010248066419938,
          null
         ],
         "y": [
          0.7421782859126619,
          0.5602859464785784,
          null,
          0.7421782859126619,
          0.5792201654514496,
          null,
          0.7421782859126619,
          0.5886582621900485,
          null,
          0.5602859464785784,
          0.37432625920480433,
          null,
          0.5792201654514496,
          0.40321783148516066,
          null,
          0.5886582621900485,
          0.4341171712982607,
          null,
          0.905447634451489,
          0.7421782859126619,
          null,
          0.905447634451489,
          0.689067875245959,
          null,
          0.689067875245959,
          0.4771930769972071,
          null,
          0.4771930769972071,
          0.2643988162852509,
          null,
          0.2643988162852509,
          0.06045766607711994,
          null,
          0.2643988162852509,
          0.04673485211608771,
          null,
          0.2643988162852509,
          0.2643988162852509,
          null,
          0.06045766607711994,
          -0.14893272191998622,
          null,
          0.06045766607711994,
          0.06045766607711994,
          null,
          0.04673485211608771,
          -0.1679192267088853,
          null,
          -0.14893272191998622,
          -0.3447519259775854,
          null,
          -0.14893272191998622,
          -0.3630958424443194,
          null,
          -0.3630958424443194,
          -0.5776393603444845,
          null,
          -0.3630958424443194,
          -0.5761919876051496,
          null,
          -0.3630958424443194,
          -0.5758999529278112,
          null,
          -0.5776393603444845,
          -0.792465793886187,
          null,
          -0.5761919876051496,
          -0.7921327249687585,
          null,
          -0.5758999529278112,
          -0.5758999529278112,
          null,
          -0.5758999529278112,
          -0.7862743064109103,
          null,
          -0.7862743064109103,
          -0.7862743064109103,
          null,
          -0.7862743064109103,
          -0.7862743064109103,
          null,
          -0.7862743064109103,
          -1,
          null,
          -1,
          -1,
          null
         ]
        },
        {
         "hoverinfo": "text",
         "marker": {
          "color": [],
          "colorscale": "YIGnBu",
          "line": {
           "width": 2
          },
          "reversescale": true,
          "showscale": true,
          "size": 10
         },
         "mode": "markers",
         "text": [
          "gid: 50<br>M: {group gT}<br>G: {group gT}<br>gT: finGroupType<br>=====================<br>'Z('F(G)) <| G",
          "gid: 60<br>M: {group gT}<br>G: {group gT}<br>gT: finGroupType<br>=====================<br>true",
          "gid: 76<br>M: {group gT}<br>G: {group gT}<br>gT: finGroupType<br>=====================<br>true",
          "gid: 77<br>M: {group gT}<br>G: {group gT}<br>gT: finGroupType<br>=====================<br>G <| G",
          "gid: t0",
          "gid: t1",
          "gid: t2",
          "gid: 45<br>M: {group gT}<br>G: {group gT}<br>gT: finGroupType<br>=====================<br>minnormal M G -> M \\subset G -> solvable M -> M \\subset 'Z('F(G))",
          "gid: 91<br>nZG: 'Z('F(G)) <| G<br>M: {group gT}<br>G: {group gT}<br>gT: finGroupType<br>=====================<br>minnormal M G -> M \\subset G -> solvable M -> M \\subset 'Z('F(G))",
          "gid: 94<br>solM: solvable M<br>sMG: M \\subset G<br>minM: minnormal M G<br>nZG: 'Z('F(G)) <| G<br>M: {group gT}<br>G: {group gT}<br>gT: finGroupType<br>=====================<br>M \\subset 'Z('F(G))",
          "gid: 142<br>minM': forall H : {group gT}, (H != 1) && (G \\subset 'N(H)) -> H \\subset M -> H = M<br>nMG: G \\subset 'N(M)<br>ntM: M != 1<br>solM: solvable M<br>sMG: M \\subset G<br>minM: minnormal M G<br>nZG: 'Z('F(G)) <| G<br>M: {group gT}<br>G: {group gT}<br>gT: finGroupType<br>=====================<br>M \\subset 'Z('F(G))",
          "gid: 269<br>minM': forall H : {group gT}, (H != 1) && (G \\subset 'N(H)) -> H \\subset M -> H = M<br>nMG: G \\subset 'N(M)<br>ntM: M != 1<br>solM: solvable M<br>sMG: M \\subset G<br>minM: minnormal M G<br>nZG: 'Z('F(G)) <| G<br>M: {group gT}<br>G: {group gT}<br>gT: finGroupType<br>=====================<br>((M :&: 'Z('F(G)))%G != 1) && (G \\subset 'N((M :&: 'Z('F(G)))%G))",
          "gid: 270<br>minM': forall H : {group gT}, (H != 1) && (G \\subset 'N(H)) -> H \\subset M -> H = M<br>nMG: G \\subset 'N(M)<br>ntM: M != 1<br>solM: solvable M<br>sMG: M \\subset G<br>minM: minnormal M G<br>nZG: 'Z('F(G)) <| G<br>M: {group gT}<br>G: {group gT}<br>gT: finGroupType<br>=====================<br>(M :&: 'Z('F(G)))%G \\subset M",
          "gid: t3",
          "gid: 301<br>minM': forall H : {group gT}, (H != 1) && (G \\subset 'N(H)) -> H \\subset M -> H = M<br>nMG: G \\subset 'N(M)<br>ntM: M != 1<br>solM: solvable M<br>sMG: M \\subset G<br>minM: minnormal M G<br>nZG: 'Z('F(G)) <| G<br>M: {group gT}<br>G: {group gT}<br>gT: finGroupType<br>=====================<br>(M :&: 'Z('F(G)))%G != 1 /\\ G \\subset 'N((M :&: 'Z('F(G)))%G)",
          "gid: 303<br>minM': forall H : {group gT}, (H != 1) && (G \\subset 'N(H)) -> H \\subset M -> H = M<br>nMG: G \\subset 'N(M)<br>ntM: M != 1<br>solM: solvable M<br>sMG: M \\subset G<br>minM: minnormal M G<br>nZG: 'Z('F(G)) <| G<br>M: {group gT}<br>G: {group gT}<br>gT: finGroupType<br>=====================<br>(M :&: 'Z('F(G)))%G != 1",
          "gid: 304<br>minM': forall H : {group gT}, (H != 1) && (G \\subset 'N(H)) -> H \\subset M -> H = M<br>nMG: G \\subset 'N(M)<br>ntM: M != 1<br>solM: solvable M<br>sMG: M \\subset G<br>minM: minnormal M G<br>nZG: 'Z('F(G)) <| G<br>M: {group gT}<br>G: {group gT}<br>gT: finGroupType<br>=====================<br>G \\subset 'N((M :&: 'Z('F(G)))%G)",
          "gid: 315<br>minM': forall H : {group gT}, (H != 1) && (G \\subset 'N(H)) -> H \\subset M -> H = M<br>nMG: G \\subset 'N(M)<br>ntM: M != 1<br>solM: solvable M<br>sMG: M \\subset G<br>minM: minnormal M G<br>nZG: 'Z('F(G)) <| G<br>M: {group gT}<br>G: {group gT}<br>gT: finGroupType<br>=====================<br>true",
          "gid: t4",
          "gid: 316<br>minM': forall H : {group gT}, (H != 1) && (G \\subset 'N(H)) -> H \\subset M -> H = M<br>nMG: G \\subset 'N(M)<br>ntM: M != 1<br>solM: solvable M<br>sMG: M \\subset G<br>minM: minnormal M G<br>nZG: 'Z('F(G)) <| G<br>M: {group gT}<br>G: {group gT}<br>gT: finGroupType<br>=====================<br>G \\subset 'N(M)",
          "gid: t5",
          "gid: 317<br>minM': forall H : {group gT}, (H != 1) && (G \\subset 'N(H)) -> H \\subset M -> H = M<br>nMG: G \\subset 'N(M)<br>ntM: M != 1<br>solM: solvable M<br>sMG: M \\subset G<br>minM: minnormal M G<br>nZG: 'Z('F(G)) <| G<br>M: {group gT}<br>G: {group gT}<br>gT: finGroupType<br>=====================<br>G \\subset 'N(('Z('F(G)))%G)",
          "gid: 318<br>minM': forall H : {group gT}, (H != 1) && (G \\subset 'N(H)) -> H \\subset M -> H = M<br>nMG: G \\subset 'N(M)<br>ntM: M != 1<br>solM: solvable M<br>sMG: M \\subset G<br>minM: minnormal M G<br>nZG: 'Z('F(G)) <| G<br>M: {group gT}<br>G: {group gT}<br>gT: finGroupType<br>=====================<br>(G \\subset 'N(('Z('F(G)))%G)) = true",
          "gid: 335<br>minM': forall H : {group gT}, (H != 1) && (G \\subset 'N(H)) -> H \\subset M -> H = M<br>nMG: G \\subset 'N(M)<br>ntM: M != 1<br>solM: solvable M<br>sMG: M \\subset G<br>minM: minnormal M G<br>nZG: 'Z('F(G)) <| G<br>M: {group gT}<br>G: {group gT}<br>gT: finGroupType<br>=====================<br>true = (G \\subset 'N(('Z('F(G)))%G))"
         ],
         "type": "scatter",
         "x": [
          -0.16587492341046442,
          -0.04177415085689822,
          -0.018052746873529413,
          -0.008333778997690071,
          0.07585013534841607,
          0.11406141648660525,
          0.14819267490823038,
          -0.31364776476820166,
          -0.2728119020992076,
          -0.21300589819812643,
          -0.15573479373452692,
          -0.07202461733638006,
          -0.12298132092136964,
          -0.07476778552285217,
          -0.0031985854141776985,
          0.09782781408806109,
          0.04772532517587927,
          0.0963935227002214,
          0.14375772991041147,
          0.10234941827838594,
          0.144675390698023,
          0.10341379396793421,
          0.16785856590705675,
          0.22010248066419938
         ],
         "y": [
          0.7421782859126619,
          0.5602859464785784,
          0.5792201654514496,
          0.5886582621900485,
          0.37432625920480433,
          0.40321783148516066,
          0.4341171712982607,
          0.905447634451489,
          0.689067875245959,
          0.4771930769972071,
          0.2643988162852509,
          0.06045766607711994,
          0.04673485211608771,
          -0.1679192267088853,
          -0.14893272191998622,
          -0.3447519259775854,
          -0.3630958424443194,
          -0.5776393603444845,
          -0.792465793886187,
          -0.5761919876051496,
          -0.7921327249687585,
          -0.5758999529278112,
          -0.7862743064109103,
          -1
         ]
        },
        {
         "hoverinfo": "text",
         "marker": {
          "color": [],
          "colorscale": "YIGnBu",
          "line": {
           "width": 2
          },
          "reversescale": true,
          "showscale": true,
          "size": 5
         },
         "mode": "markers",
         "text": [
          "ftac: rewrite !gFnormal_trans",
          "ftac: rewrite !gFnormal_trans",
          "ftac: rewrite !gFnormal_trans",
          "ftac: trivial",
          "ftac: trivial",
          "ftac: trivial",
          "ftac: have nZG: 'Z('F(G)) <| G by rewrite !gFnormal_trans",
          "ftac: have nZG: 'Z('F(G)) <| G by rewrite !gFnormal_trans",
          "ftac: move => minM sMG solM",
          "ftac: have [/andP [ntM nMG] minM'] := mingroupP minM",
          "ftac: apply /setIidPl/minM'",
          "ftac: apply /setIidPl/minM'",
          "ftac: exact : subsetIl",
          "ftac: <ssreflect_plugin::ssrtclseq@0> apply /setIidPl/minM' ; last  exact: subsetIl",
          "ftac: apply /andP",
          "ftac: <ssreflect_plugin::ssrtclseq@0> apply /andP; split ; last  by rewrite normsI// normal_norm",
          "ftac: <ssreflect_plugin::ssrtclseq@0> apply /andP; split ; last  by rewrite normsI// normal_norm",
          "ftac: trivial",
          "ftac: trivial",
          "ftac: trivial",
          "ftac: <ssreflect_plugin::ssrrewrite@0> $args $clauses",
          "ftac: <ssreflect_plugin::ssrrewrite@0> $args $clauses",
          "ftac: trivial",
          "ftac: apply : Logic.eq_sym",
          "ftac: trivial",
          "ftac: rewrite normsI // normal_norm",
          "ftac: rewrite normsI // normal_norm",
          "ftac: rewrite normsI // normal_norm",
          "ftac: <ssreflect_plugin::ssrtclseq@0> apply /andP; split ; last  by rewrite normsI// normal_norm"
         ],
         "type": "scatter",
         "x": [
          -0.10382453713368132,
          -0.09196383514199692,
          -0.08710435120407725,
          0.017037992245758925,
          0.04800433480653792,
          0.06992944795527015,
          -0.23976134408933303,
          -0.2932298334337046,
          -0.242908900148667,
          -0.18437034596632668,
          -0.11387970553545348,
          -0.1393580573279483,
          -0.0988745532221109,
          -0.15573479373452692,
          -0.03761160137527888,
          0.047314614336941695,
          0.022263369880850786,
          0.12007562630531643,
          0.12351240448820447,
          0.10341379396793421,
          0.1356361799374955,
          0.16785856590705675,
          0.16785856590705675,
          0.19398052328562806,
          0.22010248066419938,
          0.07205942393805034,
          0.0750373717271326,
          0.07556955957190674,
          -0.07202461733638006
         ],
         "y": [
          0.6512321161956202,
          0.6606992256820557,
          0.6654182740513552,
          0.4673061028416914,
          0.49121899846830513,
          0.5113877167441546,
          0.8238129601820754,
          0.7972577548487241,
          0.5831304761215831,
          0.370795946641229,
          0.16242824118118543,
          0.1555668342006693,
          -0.060592187296398786,
          0.2643988162852509,
          -0.04423752792143314,
          -0.2468423239487858,
          -0.25601428218215283,
          -0.6850525771153357,
          -0.6841623562869541,
          -0.5758999529278112,
          -0.6810871296693608,
          -0.7862743064109103,
          -0.7862743064109103,
          -0.8931371532054552,
          -1,
          -0.4703676013944019,
          -0.46964391502473446,
          -0.4694978976860653,
          0.06045766607711994
         ]
        }
       ],
       "layout": {
        "hovermode": "closest",
        "margin": {
         "b": 20,
         "l": 5,
         "r": 5,
         "t": 40
        },
        "showlegend": false,
        "title": "<br>Reconstruction of minnormal_solvable_Fitting_center",
        "titlefont": {
         "size": 16
        },
        "xaxis": {
         "showgrid": false,
         "showticklabels": false,
         "zeroline": false
        },
        "yaxis": {
         "showgrid": false,
         "showticklabels": false,
         "zeroline": false
        }
       }
      },
      "text/html": [
       "<div id=\"f01f8b33-0d57-4fd3-b2d7-8b6c0e8473a1\" style=\"height: 525px; width: 100%;\" class=\"plotly-graph-div\"></div><script type=\"text/javascript\">require([\"plotly\"], function(Plotly) { window.PLOTLYENV=window.PLOTLYENV || {};window.PLOTLYENV.BASE_URL=\"https://plot.ly\";Plotly.newPlot(\"f01f8b33-0d57-4fd3-b2d7-8b6c0e8473a1\", [{\"type\": \"scatter\", \"x\": [-0.16587492341046442, -0.04177415085689822, null, -0.16587492341046442, -0.018052746873529413, null, -0.16587492341046442, -0.008333778997690071, null, -0.04177415085689822, 0.07585013534841607, null, -0.018052746873529413, 0.11406141648660525, null, -0.008333778997690071, 0.14819267490823038, null, -0.31364776476820166, -0.16587492341046442, null, -0.31364776476820166, -0.2728119020992076, null, -0.2728119020992076, -0.21300589819812643, null, -0.21300589819812643, -0.15573479373452692, null, -0.15573479373452692, -0.07202461733638006, null, -0.15573479373452692, -0.12298132092136964, null, -0.15573479373452692, -0.15573479373452692, null, -0.07202461733638006, -0.0031985854141776985, null, -0.07202461733638006, -0.07202461733638006, null, -0.12298132092136964, -0.07476778552285217, null, -0.0031985854141776985, 0.09782781408806109, null, -0.0031985854141776985, 0.04772532517587927, null, 0.04772532517587927, 0.0963935227002214, null, 0.04772532517587927, 0.10234941827838594, null, 0.04772532517587927, 0.10341379396793421, null, 0.0963935227002214, 0.14375772991041147, null, 0.10234941827838594, 0.144675390698023, null, 0.10341379396793421, 0.10341379396793421, null, 0.10341379396793421, 0.16785856590705675, null, 0.16785856590705675, 0.16785856590705675, null, 0.16785856590705675, 0.16785856590705675, null, 0.16785856590705675, 0.22010248066419938, null, 0.22010248066419938, 0.22010248066419938, null], \"y\": [0.7421782859126619, 0.5602859464785784, null, 0.7421782859126619, 0.5792201654514496, null, 0.7421782859126619, 0.5886582621900485, null, 0.5602859464785784, 0.37432625920480433, null, 0.5792201654514496, 0.40321783148516066, null, 0.5886582621900485, 0.4341171712982607, null, 0.905447634451489, 0.7421782859126619, null, 0.905447634451489, 0.689067875245959, null, 0.689067875245959, 0.4771930769972071, null, 0.4771930769972071, 0.2643988162852509, null, 0.2643988162852509, 0.06045766607711994, null, 0.2643988162852509, 0.04673485211608771, null, 0.2643988162852509, 0.2643988162852509, null, 0.06045766607711994, -0.14893272191998622, null, 0.06045766607711994, 0.06045766607711994, null, 0.04673485211608771, -0.1679192267088853, null, -0.14893272191998622, -0.3447519259775854, null, -0.14893272191998622, -0.3630958424443194, null, -0.3630958424443194, -0.5776393603444845, null, -0.3630958424443194, -0.5761919876051496, null, -0.3630958424443194, -0.5758999529278112, null, -0.5776393603444845, -0.792465793886187, null, -0.5761919876051496, -0.7921327249687585, null, -0.5758999529278112, -0.5758999529278112, null, -0.5758999529278112, -0.7862743064109103, null, -0.7862743064109103, -0.7862743064109103, null, -0.7862743064109103, -0.7862743064109103, null, -0.7862743064109103, -1.0, null, -1.0, -1.0, null], \"line\": {\"width\": 0.5, \"color\": \"#888\"}, \"hoverinfo\": null, \"mode\": \"lines\"}, {\"type\": \"scatter\", \"x\": [-0.16587492341046442, -0.04177415085689822, -0.018052746873529413, -0.008333778997690071, 0.07585013534841607, 0.11406141648660525, 0.14819267490823038, -0.31364776476820166, -0.2728119020992076, -0.21300589819812643, -0.15573479373452692, -0.07202461733638006, -0.12298132092136964, -0.07476778552285217, -0.0031985854141776985, 0.09782781408806109, 0.04772532517587927, 0.0963935227002214, 0.14375772991041147, 0.10234941827838594, 0.144675390698023, 0.10341379396793421, 0.16785856590705675, 0.22010248066419938], \"y\": [0.7421782859126619, 0.5602859464785784, 0.5792201654514496, 0.5886582621900485, 0.37432625920480433, 0.40321783148516066, 0.4341171712982607, 0.905447634451489, 0.689067875245959, 0.4771930769972071, 0.2643988162852509, 0.06045766607711994, 0.04673485211608771, -0.1679192267088853, -0.14893272191998622, -0.3447519259775854, -0.3630958424443194, -0.5776393603444845, -0.792465793886187, -0.5761919876051496, -0.7921327249687585, -0.5758999529278112, -0.7862743064109103, -1.0], \"text\": [\"gid: 50<br>M: {group gT}<br>G: {group gT}<br>gT: finGroupType<br>=====================<br>'Z('F(G)) <| G\", \"gid: 60<br>M: {group gT}<br>G: {group gT}<br>gT: finGroupType<br>=====================<br>true\", \"gid: 76<br>M: {group gT}<br>G: {group gT}<br>gT: finGroupType<br>=====================<br>true\", \"gid: 77<br>M: {group gT}<br>G: {group gT}<br>gT: finGroupType<br>=====================<br>G <| G\", \"gid: t0\", \"gid: t1\", \"gid: t2\", \"gid: 45<br>M: {group gT}<br>G: {group gT}<br>gT: finGroupType<br>=====================<br>minnormal M G -> M \\\\subset G -> solvable M -> M \\\\subset 'Z('F(G))\", \"gid: 91<br>nZG: 'Z('F(G)) <| G<br>M: {group gT}<br>G: {group gT}<br>gT: finGroupType<br>=====================<br>minnormal M G -> M \\\\subset G -> solvable M -> M \\\\subset 'Z('F(G))\", \"gid: 94<br>solM: solvable M<br>sMG: M \\\\subset G<br>minM: minnormal M G<br>nZG: 'Z('F(G)) <| G<br>M: {group gT}<br>G: {group gT}<br>gT: finGroupType<br>=====================<br>M \\\\subset 'Z('F(G))\", \"gid: 142<br>minM': forall H : {group gT}, (H != 1) && (G \\\\subset 'N(H)) -> H \\\\subset M -> H = M<br>nMG: G \\\\subset 'N(M)<br>ntM: M != 1<br>solM: solvable M<br>sMG: M \\\\subset G<br>minM: minnormal M G<br>nZG: 'Z('F(G)) <| G<br>M: {group gT}<br>G: {group gT}<br>gT: finGroupType<br>=====================<br>M \\\\subset 'Z('F(G))\", \"gid: 269<br>minM': forall H : {group gT}, (H != 1) && (G \\\\subset 'N(H)) -> H \\\\subset M -> H = M<br>nMG: G \\\\subset 'N(M)<br>ntM: M != 1<br>solM: solvable M<br>sMG: M \\\\subset G<br>minM: minnormal M G<br>nZG: 'Z('F(G)) <| G<br>M: {group gT}<br>G: {group gT}<br>gT: finGroupType<br>=====================<br>((M :&: 'Z('F(G)))%G != 1) && (G \\\\subset 'N((M :&: 'Z('F(G)))%G))\", \"gid: 270<br>minM': forall H : {group gT}, (H != 1) && (G \\\\subset 'N(H)) -> H \\\\subset M -> H = M<br>nMG: G \\\\subset 'N(M)<br>ntM: M != 1<br>solM: solvable M<br>sMG: M \\\\subset G<br>minM: minnormal M G<br>nZG: 'Z('F(G)) <| G<br>M: {group gT}<br>G: {group gT}<br>gT: finGroupType<br>=====================<br>(M :&: 'Z('F(G)))%G \\\\subset M\", \"gid: t3\", \"gid: 301<br>minM': forall H : {group gT}, (H != 1) && (G \\\\subset 'N(H)) -> H \\\\subset M -> H = M<br>nMG: G \\\\subset 'N(M)<br>ntM: M != 1<br>solM: solvable M<br>sMG: M \\\\subset G<br>minM: minnormal M G<br>nZG: 'Z('F(G)) <| G<br>M: {group gT}<br>G: {group gT}<br>gT: finGroupType<br>=====================<br>(M :&: 'Z('F(G)))%G != 1 /\\\\ G \\\\subset 'N((M :&: 'Z('F(G)))%G)\", \"gid: 303<br>minM': forall H : {group gT}, (H != 1) && (G \\\\subset 'N(H)) -> H \\\\subset M -> H = M<br>nMG: G \\\\subset 'N(M)<br>ntM: M != 1<br>solM: solvable M<br>sMG: M \\\\subset G<br>minM: minnormal M G<br>nZG: 'Z('F(G)) <| G<br>M: {group gT}<br>G: {group gT}<br>gT: finGroupType<br>=====================<br>(M :&: 'Z('F(G)))%G != 1\", \"gid: 304<br>minM': forall H : {group gT}, (H != 1) && (G \\\\subset 'N(H)) -> H \\\\subset M -> H = M<br>nMG: G \\\\subset 'N(M)<br>ntM: M != 1<br>solM: solvable M<br>sMG: M \\\\subset G<br>minM: minnormal M G<br>nZG: 'Z('F(G)) <| G<br>M: {group gT}<br>G: {group gT}<br>gT: finGroupType<br>=====================<br>G \\\\subset 'N((M :&: 'Z('F(G)))%G)\", \"gid: 315<br>minM': forall H : {group gT}, (H != 1) && (G \\\\subset 'N(H)) -> H \\\\subset M -> H = M<br>nMG: G \\\\subset 'N(M)<br>ntM: M != 1<br>solM: solvable M<br>sMG: M \\\\subset G<br>minM: minnormal M G<br>nZG: 'Z('F(G)) <| G<br>M: {group gT}<br>G: {group gT}<br>gT: finGroupType<br>=====================<br>true\", \"gid: t4\", \"gid: 316<br>minM': forall H : {group gT}, (H != 1) && (G \\\\subset 'N(H)) -> H \\\\subset M -> H = M<br>nMG: G \\\\subset 'N(M)<br>ntM: M != 1<br>solM: solvable M<br>sMG: M \\\\subset G<br>minM: minnormal M G<br>nZG: 'Z('F(G)) <| G<br>M: {group gT}<br>G: {group gT}<br>gT: finGroupType<br>=====================<br>G \\\\subset 'N(M)\", \"gid: t5\", \"gid: 317<br>minM': forall H : {group gT}, (H != 1) && (G \\\\subset 'N(H)) -> H \\\\subset M -> H = M<br>nMG: G \\\\subset 'N(M)<br>ntM: M != 1<br>solM: solvable M<br>sMG: M \\\\subset G<br>minM: minnormal M G<br>nZG: 'Z('F(G)) <| G<br>M: {group gT}<br>G: {group gT}<br>gT: finGroupType<br>=====================<br>G \\\\subset 'N(('Z('F(G)))%G)\", \"gid: 318<br>minM': forall H : {group gT}, (H != 1) && (G \\\\subset 'N(H)) -> H \\\\subset M -> H = M<br>nMG: G \\\\subset 'N(M)<br>ntM: M != 1<br>solM: solvable M<br>sMG: M \\\\subset G<br>minM: minnormal M G<br>nZG: 'Z('F(G)) <| G<br>M: {group gT}<br>G: {group gT}<br>gT: finGroupType<br>=====================<br>(G \\\\subset 'N(('Z('F(G)))%G)) = true\", \"gid: 335<br>minM': forall H : {group gT}, (H != 1) && (G \\\\subset 'N(H)) -> H \\\\subset M -> H = M<br>nMG: G \\\\subset 'N(M)<br>ntM: M != 1<br>solM: solvable M<br>sMG: M \\\\subset G<br>minM: minnormal M G<br>nZG: 'Z('F(G)) <| G<br>M: {group gT}<br>G: {group gT}<br>gT: finGroupType<br>=====================<br>true = (G \\\\subset 'N(('Z('F(G)))%G))\"], \"mode\": \"markers\", \"hoverinfo\": \"text\", \"marker\": {\"showscale\": true, \"colorscale\": \"YIGnBu\", \"reversescale\": true, \"color\": [], \"size\": 10, \"line\": {\"width\": 2}}}, {\"type\": \"scatter\", \"x\": [-0.10382453713368132, -0.09196383514199692, -0.08710435120407725, 0.017037992245758925, 0.04800433480653792, 0.06992944795527015, -0.23976134408933303, -0.2932298334337046, -0.242908900148667, -0.18437034596632668, -0.11387970553545348, -0.1393580573279483, -0.0988745532221109, -0.15573479373452692, -0.03761160137527888, 0.047314614336941695, 0.022263369880850786, 0.12007562630531643, 0.12351240448820447, 0.10341379396793421, 0.1356361799374955, 0.16785856590705675, 0.16785856590705675, 0.19398052328562806, 0.22010248066419938, 0.07205942393805034, 0.0750373717271326, 0.07556955957190674, -0.07202461733638006], \"y\": [0.6512321161956202, 0.6606992256820557, 0.6654182740513552, 0.4673061028416914, 0.49121899846830513, 0.5113877167441546, 0.8238129601820754, 0.7972577548487241, 0.5831304761215831, 0.370795946641229, 0.16242824118118543, 0.1555668342006693, -0.060592187296398786, 0.2643988162852509, -0.04423752792143314, -0.2468423239487858, -0.25601428218215283, -0.6850525771153357, -0.6841623562869541, -0.5758999529278112, -0.6810871296693608, -0.7862743064109103, -0.7862743064109103, -0.8931371532054552, -1.0, -0.4703676013944019, -0.46964391502473446, -0.4694978976860653, 0.06045766607711994], \"text\": [\"ftac: rewrite !gFnormal_trans\", \"ftac: rewrite !gFnormal_trans\", \"ftac: rewrite !gFnormal_trans\", \"ftac: trivial\", \"ftac: trivial\", \"ftac: trivial\", \"ftac: have nZG: 'Z('F(G)) <| G by rewrite !gFnormal_trans\", \"ftac: have nZG: 'Z('F(G)) <| G by rewrite !gFnormal_trans\", \"ftac: move => minM sMG solM\", \"ftac: have [/andP [ntM nMG] minM'] := mingroupP minM\", \"ftac: apply /setIidPl/minM'\", \"ftac: apply /setIidPl/minM'\", \"ftac: exact : subsetIl\", \"ftac: <ssreflect_plugin::ssrtclseq@0> apply /setIidPl/minM' ; last  exact: subsetIl\", \"ftac: apply /andP\", \"ftac: <ssreflect_plugin::ssrtclseq@0> apply /andP; split ; last  by rewrite normsI// normal_norm\", \"ftac: <ssreflect_plugin::ssrtclseq@0> apply /andP; split ; last  by rewrite normsI// normal_norm\", \"ftac: trivial\", \"ftac: trivial\", \"ftac: trivial\", \"ftac: <ssreflect_plugin::ssrrewrite@0> $args $clauses\", \"ftac: <ssreflect_plugin::ssrrewrite@0> $args $clauses\", \"ftac: trivial\", \"ftac: apply : Logic.eq_sym\", \"ftac: trivial\", \"ftac: rewrite normsI // normal_norm\", \"ftac: rewrite normsI // normal_norm\", \"ftac: rewrite normsI // normal_norm\", \"ftac: <ssreflect_plugin::ssrtclseq@0> apply /andP; split ; last  by rewrite normsI// normal_norm\"], \"mode\": \"markers\", \"hoverinfo\": \"text\", \"marker\": {\"showscale\": true, \"colorscale\": \"YIGnBu\", \"reversescale\": true, \"color\": [], \"size\": 5, \"line\": {\"width\": 2}}}], {\"title\": \"<br>Reconstruction of minnormal_solvable_Fitting_center\", \"titlefont\": {\"size\": 16}, \"showlegend\": false, \"hovermode\": \"closest\", \"margin\": {\"b\": 20, \"l\": 5, \"r\": 5, \"t\": 40}, \"xaxis\": {\"showgrid\": false, \"zeroline\": false, \"showticklabels\": false}, \"yaxis\": {\"showgrid\": false, \"zeroline\": false, \"showticklabels\": false}}, {\"showLink\": true, \"linkText\": \"Export to plot.ly\"})});</script>"
      ],
      "text/vnd.plotly.v1+html": [
       "<div id=\"f01f8b33-0d57-4fd3-b2d7-8b6c0e8473a1\" style=\"height: 525px; width: 100%;\" class=\"plotly-graph-div\"></div><script type=\"text/javascript\">require([\"plotly\"], function(Plotly) { window.PLOTLYENV=window.PLOTLYENV || {};window.PLOTLYENV.BASE_URL=\"https://plot.ly\";Plotly.newPlot(\"f01f8b33-0d57-4fd3-b2d7-8b6c0e8473a1\", [{\"type\": \"scatter\", \"x\": [-0.16587492341046442, -0.04177415085689822, null, -0.16587492341046442, -0.018052746873529413, null, -0.16587492341046442, -0.008333778997690071, null, -0.04177415085689822, 0.07585013534841607, null, -0.018052746873529413, 0.11406141648660525, null, -0.008333778997690071, 0.14819267490823038, null, -0.31364776476820166, -0.16587492341046442, null, -0.31364776476820166, -0.2728119020992076, null, -0.2728119020992076, -0.21300589819812643, null, -0.21300589819812643, -0.15573479373452692, null, -0.15573479373452692, -0.07202461733638006, null, -0.15573479373452692, -0.12298132092136964, null, -0.15573479373452692, -0.15573479373452692, null, -0.07202461733638006, -0.0031985854141776985, null, -0.07202461733638006, -0.07202461733638006, null, -0.12298132092136964, -0.07476778552285217, null, -0.0031985854141776985, 0.09782781408806109, null, -0.0031985854141776985, 0.04772532517587927, null, 0.04772532517587927, 0.0963935227002214, null, 0.04772532517587927, 0.10234941827838594, null, 0.04772532517587927, 0.10341379396793421, null, 0.0963935227002214, 0.14375772991041147, null, 0.10234941827838594, 0.144675390698023, null, 0.10341379396793421, 0.10341379396793421, null, 0.10341379396793421, 0.16785856590705675, null, 0.16785856590705675, 0.16785856590705675, null, 0.16785856590705675, 0.16785856590705675, null, 0.16785856590705675, 0.22010248066419938, null, 0.22010248066419938, 0.22010248066419938, null], \"y\": [0.7421782859126619, 0.5602859464785784, null, 0.7421782859126619, 0.5792201654514496, null, 0.7421782859126619, 0.5886582621900485, null, 0.5602859464785784, 0.37432625920480433, null, 0.5792201654514496, 0.40321783148516066, null, 0.5886582621900485, 0.4341171712982607, null, 0.905447634451489, 0.7421782859126619, null, 0.905447634451489, 0.689067875245959, null, 0.689067875245959, 0.4771930769972071, null, 0.4771930769972071, 0.2643988162852509, null, 0.2643988162852509, 0.06045766607711994, null, 0.2643988162852509, 0.04673485211608771, null, 0.2643988162852509, 0.2643988162852509, null, 0.06045766607711994, -0.14893272191998622, null, 0.06045766607711994, 0.06045766607711994, null, 0.04673485211608771, -0.1679192267088853, null, -0.14893272191998622, -0.3447519259775854, null, -0.14893272191998622, -0.3630958424443194, null, -0.3630958424443194, -0.5776393603444845, null, -0.3630958424443194, -0.5761919876051496, null, -0.3630958424443194, -0.5758999529278112, null, -0.5776393603444845, -0.792465793886187, null, -0.5761919876051496, -0.7921327249687585, null, -0.5758999529278112, -0.5758999529278112, null, -0.5758999529278112, -0.7862743064109103, null, -0.7862743064109103, -0.7862743064109103, null, -0.7862743064109103, -0.7862743064109103, null, -0.7862743064109103, -1.0, null, -1.0, -1.0, null], \"line\": {\"width\": 0.5, \"color\": \"#888\"}, \"hoverinfo\": null, \"mode\": \"lines\"}, {\"type\": \"scatter\", \"x\": [-0.16587492341046442, -0.04177415085689822, -0.018052746873529413, -0.008333778997690071, 0.07585013534841607, 0.11406141648660525, 0.14819267490823038, -0.31364776476820166, -0.2728119020992076, -0.21300589819812643, -0.15573479373452692, -0.07202461733638006, -0.12298132092136964, -0.07476778552285217, -0.0031985854141776985, 0.09782781408806109, 0.04772532517587927, 0.0963935227002214, 0.14375772991041147, 0.10234941827838594, 0.144675390698023, 0.10341379396793421, 0.16785856590705675, 0.22010248066419938], \"y\": [0.7421782859126619, 0.5602859464785784, 0.5792201654514496, 0.5886582621900485, 0.37432625920480433, 0.40321783148516066, 0.4341171712982607, 0.905447634451489, 0.689067875245959, 0.4771930769972071, 0.2643988162852509, 0.06045766607711994, 0.04673485211608771, -0.1679192267088853, -0.14893272191998622, -0.3447519259775854, -0.3630958424443194, -0.5776393603444845, -0.792465793886187, -0.5761919876051496, -0.7921327249687585, -0.5758999529278112, -0.7862743064109103, -1.0], \"text\": [\"gid: 50<br>M: {group gT}<br>G: {group gT}<br>gT: finGroupType<br>=====================<br>'Z('F(G)) <| G\", \"gid: 60<br>M: {group gT}<br>G: {group gT}<br>gT: finGroupType<br>=====================<br>true\", \"gid: 76<br>M: {group gT}<br>G: {group gT}<br>gT: finGroupType<br>=====================<br>true\", \"gid: 77<br>M: {group gT}<br>G: {group gT}<br>gT: finGroupType<br>=====================<br>G <| G\", \"gid: t0\", \"gid: t1\", \"gid: t2\", \"gid: 45<br>M: {group gT}<br>G: {group gT}<br>gT: finGroupType<br>=====================<br>minnormal M G -> M \\\\subset G -> solvable M -> M \\\\subset 'Z('F(G))\", \"gid: 91<br>nZG: 'Z('F(G)) <| G<br>M: {group gT}<br>G: {group gT}<br>gT: finGroupType<br>=====================<br>minnormal M G -> M \\\\subset G -> solvable M -> M \\\\subset 'Z('F(G))\", \"gid: 94<br>solM: solvable M<br>sMG: M \\\\subset G<br>minM: minnormal M G<br>nZG: 'Z('F(G)) <| G<br>M: {group gT}<br>G: {group gT}<br>gT: finGroupType<br>=====================<br>M \\\\subset 'Z('F(G))\", \"gid: 142<br>minM': forall H : {group gT}, (H != 1) && (G \\\\subset 'N(H)) -> H \\\\subset M -> H = M<br>nMG: G \\\\subset 'N(M)<br>ntM: M != 1<br>solM: solvable M<br>sMG: M \\\\subset G<br>minM: minnormal M G<br>nZG: 'Z('F(G)) <| G<br>M: {group gT}<br>G: {group gT}<br>gT: finGroupType<br>=====================<br>M \\\\subset 'Z('F(G))\", \"gid: 269<br>minM': forall H : {group gT}, (H != 1) && (G \\\\subset 'N(H)) -> H \\\\subset M -> H = M<br>nMG: G \\\\subset 'N(M)<br>ntM: M != 1<br>solM: solvable M<br>sMG: M \\\\subset G<br>minM: minnormal M G<br>nZG: 'Z('F(G)) <| G<br>M: {group gT}<br>G: {group gT}<br>gT: finGroupType<br>=====================<br>((M :&: 'Z('F(G)))%G != 1) && (G \\\\subset 'N((M :&: 'Z('F(G)))%G))\", \"gid: 270<br>minM': forall H : {group gT}, (H != 1) && (G \\\\subset 'N(H)) -> H \\\\subset M -> H = M<br>nMG: G \\\\subset 'N(M)<br>ntM: M != 1<br>solM: solvable M<br>sMG: M \\\\subset G<br>minM: minnormal M G<br>nZG: 'Z('F(G)) <| G<br>M: {group gT}<br>G: {group gT}<br>gT: finGroupType<br>=====================<br>(M :&: 'Z('F(G)))%G \\\\subset M\", \"gid: t3\", \"gid: 301<br>minM': forall H : {group gT}, (H != 1) && (G \\\\subset 'N(H)) -> H \\\\subset M -> H = M<br>nMG: G \\\\subset 'N(M)<br>ntM: M != 1<br>solM: solvable M<br>sMG: M \\\\subset G<br>minM: minnormal M G<br>nZG: 'Z('F(G)) <| G<br>M: {group gT}<br>G: {group gT}<br>gT: finGroupType<br>=====================<br>(M :&: 'Z('F(G)))%G != 1 /\\\\ G \\\\subset 'N((M :&: 'Z('F(G)))%G)\", \"gid: 303<br>minM': forall H : {group gT}, (H != 1) && (G \\\\subset 'N(H)) -> H \\\\subset M -> H = M<br>nMG: G \\\\subset 'N(M)<br>ntM: M != 1<br>solM: solvable M<br>sMG: M \\\\subset G<br>minM: minnormal M G<br>nZG: 'Z('F(G)) <| G<br>M: {group gT}<br>G: {group gT}<br>gT: finGroupType<br>=====================<br>(M :&: 'Z('F(G)))%G != 1\", \"gid: 304<br>minM': forall H : {group gT}, (H != 1) && (G \\\\subset 'N(H)) -> H \\\\subset M -> H = M<br>nMG: G \\\\subset 'N(M)<br>ntM: M != 1<br>solM: solvable M<br>sMG: M \\\\subset G<br>minM: minnormal M G<br>nZG: 'Z('F(G)) <| G<br>M: {group gT}<br>G: {group gT}<br>gT: finGroupType<br>=====================<br>G \\\\subset 'N((M :&: 'Z('F(G)))%G)\", \"gid: 315<br>minM': forall H : {group gT}, (H != 1) && (G \\\\subset 'N(H)) -> H \\\\subset M -> H = M<br>nMG: G \\\\subset 'N(M)<br>ntM: M != 1<br>solM: solvable M<br>sMG: M \\\\subset G<br>minM: minnormal M G<br>nZG: 'Z('F(G)) <| G<br>M: {group gT}<br>G: {group gT}<br>gT: finGroupType<br>=====================<br>true\", \"gid: t4\", \"gid: 316<br>minM': forall H : {group gT}, (H != 1) && (G \\\\subset 'N(H)) -> H \\\\subset M -> H = M<br>nMG: G \\\\subset 'N(M)<br>ntM: M != 1<br>solM: solvable M<br>sMG: M \\\\subset G<br>minM: minnormal M G<br>nZG: 'Z('F(G)) <| G<br>M: {group gT}<br>G: {group gT}<br>gT: finGroupType<br>=====================<br>G \\\\subset 'N(M)\", \"gid: t5\", \"gid: 317<br>minM': forall H : {group gT}, (H != 1) && (G \\\\subset 'N(H)) -> H \\\\subset M -> H = M<br>nMG: G \\\\subset 'N(M)<br>ntM: M != 1<br>solM: solvable M<br>sMG: M \\\\subset G<br>minM: minnormal M G<br>nZG: 'Z('F(G)) <| G<br>M: {group gT}<br>G: {group gT}<br>gT: finGroupType<br>=====================<br>G \\\\subset 'N(('Z('F(G)))%G)\", \"gid: 318<br>minM': forall H : {group gT}, (H != 1) && (G \\\\subset 'N(H)) -> H \\\\subset M -> H = M<br>nMG: G \\\\subset 'N(M)<br>ntM: M != 1<br>solM: solvable M<br>sMG: M \\\\subset G<br>minM: minnormal M G<br>nZG: 'Z('F(G)) <| G<br>M: {group gT}<br>G: {group gT}<br>gT: finGroupType<br>=====================<br>(G \\\\subset 'N(('Z('F(G)))%G)) = true\", \"gid: 335<br>minM': forall H : {group gT}, (H != 1) && (G \\\\subset 'N(H)) -> H \\\\subset M -> H = M<br>nMG: G \\\\subset 'N(M)<br>ntM: M != 1<br>solM: solvable M<br>sMG: M \\\\subset G<br>minM: minnormal M G<br>nZG: 'Z('F(G)) <| G<br>M: {group gT}<br>G: {group gT}<br>gT: finGroupType<br>=====================<br>true = (G \\\\subset 'N(('Z('F(G)))%G))\"], \"mode\": \"markers\", \"hoverinfo\": \"text\", \"marker\": {\"showscale\": true, \"colorscale\": \"YIGnBu\", \"reversescale\": true, \"color\": [], \"size\": 10, \"line\": {\"width\": 2}}}, {\"type\": \"scatter\", \"x\": [-0.10382453713368132, -0.09196383514199692, -0.08710435120407725, 0.017037992245758925, 0.04800433480653792, 0.06992944795527015, -0.23976134408933303, -0.2932298334337046, -0.242908900148667, -0.18437034596632668, -0.11387970553545348, -0.1393580573279483, -0.0988745532221109, -0.15573479373452692, -0.03761160137527888, 0.047314614336941695, 0.022263369880850786, 0.12007562630531643, 0.12351240448820447, 0.10341379396793421, 0.1356361799374955, 0.16785856590705675, 0.16785856590705675, 0.19398052328562806, 0.22010248066419938, 0.07205942393805034, 0.0750373717271326, 0.07556955957190674, -0.07202461733638006], \"y\": [0.6512321161956202, 0.6606992256820557, 0.6654182740513552, 0.4673061028416914, 0.49121899846830513, 0.5113877167441546, 0.8238129601820754, 0.7972577548487241, 0.5831304761215831, 0.370795946641229, 0.16242824118118543, 0.1555668342006693, -0.060592187296398786, 0.2643988162852509, -0.04423752792143314, -0.2468423239487858, -0.25601428218215283, -0.6850525771153357, -0.6841623562869541, -0.5758999529278112, -0.6810871296693608, -0.7862743064109103, -0.7862743064109103, -0.8931371532054552, -1.0, -0.4703676013944019, -0.46964391502473446, -0.4694978976860653, 0.06045766607711994], \"text\": [\"ftac: rewrite !gFnormal_trans\", \"ftac: rewrite !gFnormal_trans\", \"ftac: rewrite !gFnormal_trans\", \"ftac: trivial\", \"ftac: trivial\", \"ftac: trivial\", \"ftac: have nZG: 'Z('F(G)) <| G by rewrite !gFnormal_trans\", \"ftac: have nZG: 'Z('F(G)) <| G by rewrite !gFnormal_trans\", \"ftac: move => minM sMG solM\", \"ftac: have [/andP [ntM nMG] minM'] := mingroupP minM\", \"ftac: apply /setIidPl/minM'\", \"ftac: apply /setIidPl/minM'\", \"ftac: exact : subsetIl\", \"ftac: <ssreflect_plugin::ssrtclseq@0> apply /setIidPl/minM' ; last  exact: subsetIl\", \"ftac: apply /andP\", \"ftac: <ssreflect_plugin::ssrtclseq@0> apply /andP; split ; last  by rewrite normsI// normal_norm\", \"ftac: <ssreflect_plugin::ssrtclseq@0> apply /andP; split ; last  by rewrite normsI// normal_norm\", \"ftac: trivial\", \"ftac: trivial\", \"ftac: trivial\", \"ftac: <ssreflect_plugin::ssrrewrite@0> $args $clauses\", \"ftac: <ssreflect_plugin::ssrrewrite@0> $args $clauses\", \"ftac: trivial\", \"ftac: apply : Logic.eq_sym\", \"ftac: trivial\", \"ftac: rewrite normsI // normal_norm\", \"ftac: rewrite normsI // normal_norm\", \"ftac: rewrite normsI // normal_norm\", \"ftac: <ssreflect_plugin::ssrtclseq@0> apply /andP; split ; last  by rewrite normsI// normal_norm\"], \"mode\": \"markers\", \"hoverinfo\": \"text\", \"marker\": {\"showscale\": true, \"colorscale\": \"YIGnBu\", \"reversescale\": true, \"color\": [], \"size\": 5, \"line\": {\"width\": 2}}}], {\"title\": \"<br>Reconstruction of minnormal_solvable_Fitting_center\", \"titlefont\": {\"size\": 16}, \"showlegend\": false, \"hovermode\": \"closest\", \"margin\": {\"b\": 20, \"l\": 5, \"r\": 5, \"t\": 40}, \"xaxis\": {\"showgrid\": false, \"zeroline\": false, \"showticklabels\": false}, \"yaxis\": {\"showgrid\": false, \"zeroline\": false, \"showticklabels\": false}}, {\"showLink\": true, \"linkText\": \"Export to plot.ly\"})});</script>"
      ]
     },
     "metadata": {},
     "output_type": "display_data"
    }
   ],
   "source": [
    "from ml4tputils.visualize import *\n",
    "\n",
    "tgtlem = \"minnormal_solvable_Fitting_center\"\n",
    "file = \"/Users/dehuang/Documents/research/ml4tp/data/odd-order/BGsection1.v.dump\"\n",
    "vis = Visualize(f_display=True, f_jupyter=True, f_verbose=False, rawtac_file=\"rawtac.log\", tgtlem=tgtlem)\n",
    "tactrs = vis.visualize_file(file)"
   ]
  },
  {
   "cell_type": "code",
   "execution_count": 2,
   "metadata": {},
   "outputs": [
    {
     "name": "stdout",
     "output_type": "stream",
     "text": [
      "Statistics on number of tactics used (across lemmas)\n",
      "Min:       1\n",
      "Max:       115\n",
      "Mean:      10.906338028169014\n",
      "Sdev:      9.93402684750065\n",
      "Kurtosis:  12.82033694547484\n",
      "Statistics on number of tactic states present (across lemmas)\n",
      "Min:       2\n",
      "Max:       120\n",
      "Mean:      11.669014084507042\n",
      "Sdev:      11.178022848546094\n",
      "Kurtosis:  16.452546541762032\n",
      "Statistics on number of terminal states (across lemmas)\n",
      "Min:       0\n",
      "Max:       44\n",
      "Mean:      2.5838028169014087\n",
      "Sdev:      2.9494601397625977\n",
      "Kurtosis:  36.54415671084864\n",
      "Statistics on number of deadend states (across lemmas)\n",
      "Min:       0\n",
      "Max:       0\n",
      "Mean:      0.0\n",
      "Sdev:      0.0\n",
      "Kurtosis:  -3.0\n"
     ]
    }
   ],
   "source": [
    "from ml4tputils.exp_tactr_stats import *\n",
    "\n",
    "# Feit-Thompson (Odd-order theorem)\n",
    "stats = load_tactr_stats(\"log/tactr-build-12.log\")\n",
    "tactr_stats = TacTrStats(stats)\n",
    "_ = tactr_stats.descrip_tacs()\n",
    "_ = tactr_stats.descrip_tacsts()\n",
    "_ = tactr_stats.descrip_term()\n",
    "_ = tactr_stats.descrip_deadend()"
   ]
  },
  {
   "cell_type": "code",
   "execution_count": 3,
   "metadata": {},
   "outputs": [
    {
     "name": "stdout",
     "output_type": "stream",
     "text": [
      "Statistics on size of haves (across lemmas)\n",
      "Min:       20\n",
      "Max:       158\n",
      "Mean:      63.07125307125307\n",
      "Sdev:      15.407721161897545\n",
      "Kurtosis:  6.127930940170222\n",
      "Statistics on length of have paths (across lemmas)\n",
      "Min:       0\n",
      "Max:       7\n",
      "Mean:      3.7002457002457003\n",
      "Sdev:      1.123164596633174\n",
      "Kurtosis:  5.204894328869393\n"
     ]
    }
   ],
   "source": [
    "_ = tactr_stats.gather_have_info()"
   ]
  },
  {
   "cell_type": "code",
   "execution_count": 4,
   "metadata": {},
   "outputs": [
    {
     "data": {
      "text/html": [
       "<script>requirejs.config({paths: { 'plotly': ['https://cdn.plot.ly/plotly-latest.min']},});if(!window.Plotly) {{require(['plotly'],function(plotly) {window.Plotly=plotly;});}}</script>"
      ],
      "text/vnd.plotly.v1+html": [
       "<script>requirejs.config({paths: { 'plotly': ['https://cdn.plot.ly/plotly-latest.min']},});if(!window.Plotly) {{require(['plotly'],function(plotly) {window.Plotly=plotly;});}}</script>"
      ]
     },
     "metadata": {},
     "output_type": "display_data"
    },
    {
     "data": {
      "application/vnd.plotly.v1+json": {
       "data": [
        {
         "type": "bar",
         "x": [
          "<g_auto::trivial@0>",
          "<ssreflect_plugin::ssrhave@0>",
          "<ssreflect_plugin::ssrrewrite@0>",
          "<ssreflect_plugin::ssrapply@0>",
          "<ssreflect_plugin::ssrtclby@0>",
          "<ssreflect_plugin::ssrmove@1>",
          "<ssreflect_plugin::ssrcase@0>",
          "<ssreflect_plugin::ssrexact@0>",
          "<ssreflect_plugin::ssrtclintros@0>",
          "<ssreflect_plugin::ssrpose@2>",
          "<ssreflect_plugin::ssrtclseq@0>",
          "<coretactics::exists@1>",
          "<coretactics::split@0>",
          "<ssreflect_plugin::ssrset@0>",
          "<ssreflect_plugin::ssrtcldo@0>",
          "<ssreflect_plugin::ssrsuffices@0>",
          "<ssreflect_plugin::ssrelim@0>",
          "<extratactics::discriminate@0>",
          "<ssreflect_plugin::ssrcongr@0>",
          "<coretactics::exact@0>",
          "<ssreflect_plugin::ssrwithoutloss@0>",
          "<ssreflect_plugin::ssrmove@0>",
          "<coretactics::left@0>",
          "<ssreflect_plugin::ssrwlog@0>",
          "<coretactics::right@0>",
          "<ssreflect_plugin::ssrcase@1>",
          "<coretactics::symmetry@0>",
          "<ssreflect_plugin::ssrsuff@0>",
          "<coretactics::transitivity@0>",
          "<ssreflect_plugin::ssrapply@1>",
          "<ssreflect_plugin::ssrwlogs@0>",
          "<ssreflect_plugin::ssrexact@1>",
          "<coretactics::constructor@0>",
          "<coretactics::clearbody@0>",
          "<ssreflect_plugin::ssrwlogss@0>",
          "<ssreflect_plugin::ssrwithoutlossss@0>",
          "<ssreflect_plugin::ssrmove@2>",
          "<ssreflect_plugin::ssrclear@0>",
          "<g_auto::eauto@0>",
          "<g_auto::auto@0>",
          "<extratactics::contradiction@0>",
          "<coretactics::intro@0>",
          "<coretactics::constructor@1>",
          "<coretactics::clear@0>",
          "<coretactics::assumption@0>"
         ],
         "y": [
          3.2985915492957747,
          1.6330985915492957,
          1.3528169014084508,
          1.1056338028169015,
          0.5556338028169014,
          0.4887323943661972,
          0.24225352112676057,
          0.1647887323943662,
          0.1563380281690141,
          0.15422535211267605,
          0.1415492957746479,
          0.08380281690140845,
          0.0823943661971831,
          0.08169014084507042,
          0.04507042253521127,
          0.03732394366197183,
          0.02535211267605634,
          0.02464788732394366,
          0.017605633802816902,
          0.015492957746478873,
          0.011971830985915493,
          0.011971830985915493,
          0.007746478873239437,
          0.006338028169014085,
          0.005633802816901409,
          0.0035211267605633804,
          0.0035211267605633804,
          0.0028169014084507044,
          0.0028169014084507044,
          0.002112676056338028,
          0.0007042253521126761,
          0.0007042253521126761,
          0.0007042253521126761,
          0.0007042253521126761,
          0,
          0,
          0,
          0,
          0,
          0,
          0,
          0,
          0,
          0,
          0
         ]
        }
       ],
       "layout": {
        "title": "Tactic Usage (all lemmas)",
        "xaxis": {
         "title": "Tactic"
        },
        "yaxis": {
         "title": "Usage"
        }
       }
      },
      "text/html": [
       "<div id=\"f493eedd-6959-4ed8-8ffe-96d6f35799f5\" style=\"height: 525px; width: 100%;\" class=\"plotly-graph-div\"></div><script type=\"text/javascript\">require([\"plotly\"], function(Plotly) { window.PLOTLYENV=window.PLOTLYENV || {};window.PLOTLYENV.BASE_URL=\"https://plot.ly\";Plotly.newPlot(\"f493eedd-6959-4ed8-8ffe-96d6f35799f5\", [{\"type\": \"bar\", \"x\": [\"<g_auto::trivial@0>\", \"<ssreflect_plugin::ssrhave@0>\", \"<ssreflect_plugin::ssrrewrite@0>\", \"<ssreflect_plugin::ssrapply@0>\", \"<ssreflect_plugin::ssrtclby@0>\", \"<ssreflect_plugin::ssrmove@1>\", \"<ssreflect_plugin::ssrcase@0>\", \"<ssreflect_plugin::ssrexact@0>\", \"<ssreflect_plugin::ssrtclintros@0>\", \"<ssreflect_plugin::ssrpose@2>\", \"<ssreflect_plugin::ssrtclseq@0>\", \"<coretactics::exists@1>\", \"<coretactics::split@0>\", \"<ssreflect_plugin::ssrset@0>\", \"<ssreflect_plugin::ssrtcldo@0>\", \"<ssreflect_plugin::ssrsuffices@0>\", \"<ssreflect_plugin::ssrelim@0>\", \"<extratactics::discriminate@0>\", \"<ssreflect_plugin::ssrcongr@0>\", \"<coretactics::exact@0>\", \"<ssreflect_plugin::ssrwithoutloss@0>\", \"<ssreflect_plugin::ssrmove@0>\", \"<coretactics::left@0>\", \"<ssreflect_plugin::ssrwlog@0>\", \"<coretactics::right@0>\", \"<ssreflect_plugin::ssrcase@1>\", \"<coretactics::symmetry@0>\", \"<ssreflect_plugin::ssrsuff@0>\", \"<coretactics::transitivity@0>\", \"<ssreflect_plugin::ssrapply@1>\", \"<ssreflect_plugin::ssrwlogs@0>\", \"<ssreflect_plugin::ssrexact@1>\", \"<coretactics::constructor@0>\", \"<coretactics::clearbody@0>\", \"<ssreflect_plugin::ssrwlogss@0>\", \"<ssreflect_plugin::ssrwithoutlossss@0>\", \"<ssreflect_plugin::ssrmove@2>\", \"<ssreflect_plugin::ssrclear@0>\", \"<g_auto::eauto@0>\", \"<g_auto::auto@0>\", \"<extratactics::contradiction@0>\", \"<coretactics::intro@0>\", \"<coretactics::constructor@1>\", \"<coretactics::clear@0>\", \"<coretactics::assumption@0>\"], \"y\": [3.2985915492957747, 1.6330985915492957, 1.3528169014084508, 1.1056338028169015, 0.5556338028169014, 0.4887323943661972, 0.24225352112676057, 0.1647887323943662, 0.1563380281690141, 0.15422535211267605, 0.1415492957746479, 0.08380281690140845, 0.0823943661971831, 0.08169014084507042, 0.04507042253521127, 0.03732394366197183, 0.02535211267605634, 0.02464788732394366, 0.017605633802816902, 0.015492957746478873, 0.011971830985915493, 0.011971830985915493, 0.007746478873239437, 0.006338028169014085, 0.005633802816901409, 0.0035211267605633804, 0.0035211267605633804, 0.0028169014084507044, 0.0028169014084507044, 0.002112676056338028, 0.0007042253521126761, 0.0007042253521126761, 0.0007042253521126761, 0.0007042253521126761, 0.0, 0.0, 0.0, 0.0, 0.0, 0.0, 0.0, 0.0, 0.0, 0.0, 0.0]}], {\"title\": \"Tactic Usage (all lemmas)\", \"xaxis\": {\"title\": \"Tactic\"}, \"yaxis\": {\"title\": \"Usage\"}}, {\"showLink\": true, \"linkText\": \"Export to plot.ly\"})});</script>"
      ],
      "text/vnd.plotly.v1+html": [
       "<div id=\"f493eedd-6959-4ed8-8ffe-96d6f35799f5\" style=\"height: 525px; width: 100%;\" class=\"plotly-graph-div\"></div><script type=\"text/javascript\">require([\"plotly\"], function(Plotly) { window.PLOTLYENV=window.PLOTLYENV || {};window.PLOTLYENV.BASE_URL=\"https://plot.ly\";Plotly.newPlot(\"f493eedd-6959-4ed8-8ffe-96d6f35799f5\", [{\"type\": \"bar\", \"x\": [\"<g_auto::trivial@0>\", \"<ssreflect_plugin::ssrhave@0>\", \"<ssreflect_plugin::ssrrewrite@0>\", \"<ssreflect_plugin::ssrapply@0>\", \"<ssreflect_plugin::ssrtclby@0>\", \"<ssreflect_plugin::ssrmove@1>\", \"<ssreflect_plugin::ssrcase@0>\", \"<ssreflect_plugin::ssrexact@0>\", \"<ssreflect_plugin::ssrtclintros@0>\", \"<ssreflect_plugin::ssrpose@2>\", \"<ssreflect_plugin::ssrtclseq@0>\", \"<coretactics::exists@1>\", \"<coretactics::split@0>\", \"<ssreflect_plugin::ssrset@0>\", \"<ssreflect_plugin::ssrtcldo@0>\", \"<ssreflect_plugin::ssrsuffices@0>\", \"<ssreflect_plugin::ssrelim@0>\", \"<extratactics::discriminate@0>\", \"<ssreflect_plugin::ssrcongr@0>\", \"<coretactics::exact@0>\", \"<ssreflect_plugin::ssrwithoutloss@0>\", \"<ssreflect_plugin::ssrmove@0>\", \"<coretactics::left@0>\", \"<ssreflect_plugin::ssrwlog@0>\", \"<coretactics::right@0>\", \"<ssreflect_plugin::ssrcase@1>\", \"<coretactics::symmetry@0>\", \"<ssreflect_plugin::ssrsuff@0>\", \"<coretactics::transitivity@0>\", \"<ssreflect_plugin::ssrapply@1>\", \"<ssreflect_plugin::ssrwlogs@0>\", \"<ssreflect_plugin::ssrexact@1>\", \"<coretactics::constructor@0>\", \"<coretactics::clearbody@0>\", \"<ssreflect_plugin::ssrwlogss@0>\", \"<ssreflect_plugin::ssrwithoutlossss@0>\", \"<ssreflect_plugin::ssrmove@2>\", \"<ssreflect_plugin::ssrclear@0>\", \"<g_auto::eauto@0>\", \"<g_auto::auto@0>\", \"<extratactics::contradiction@0>\", \"<coretactics::intro@0>\", \"<coretactics::constructor@1>\", \"<coretactics::clear@0>\", \"<coretactics::assumption@0>\"], \"y\": [3.2985915492957747, 1.6330985915492957, 1.3528169014084508, 1.1056338028169015, 0.5556338028169014, 0.4887323943661972, 0.24225352112676057, 0.1647887323943662, 0.1563380281690141, 0.15422535211267605, 0.1415492957746479, 0.08380281690140845, 0.0823943661971831, 0.08169014084507042, 0.04507042253521127, 0.03732394366197183, 0.02535211267605634, 0.02464788732394366, 0.017605633802816902, 0.015492957746478873, 0.011971830985915493, 0.011971830985915493, 0.007746478873239437, 0.006338028169014085, 0.005633802816901409, 0.0035211267605633804, 0.0035211267605633804, 0.0028169014084507044, 0.0028169014084507044, 0.002112676056338028, 0.0007042253521126761, 0.0007042253521126761, 0.0007042253521126761, 0.0007042253521126761, 0.0, 0.0, 0.0, 0.0, 0.0, 0.0, 0.0, 0.0, 0.0, 0.0, 0.0]}], {\"title\": \"Tactic Usage (all lemmas)\", \"xaxis\": {\"title\": \"Tactic\"}, \"yaxis\": {\"title\": \"Usage\"}}, {\"showLink\": true, \"linkText\": \"Export to plot.ly\"})});</script>"
      ]
     },
     "metadata": {},
     "output_type": "display_data"
    }
   ],
   "source": [
    "import plotly\n",
    "import plotly.plotly as py\n",
    "import plotly.graph_objs as go\n",
    "\n",
    "tactic_hist = tactr_stats.avg_hist(f_sort=True)\n",
    "data = [go.Bar(x=[p[0] for p in tactic_hist], y=[p[1] for p in tactic_hist])]\n",
    "\n",
    "layout = go.Layout(\n",
    "    title='Tactic Usage (all lemmas)',\n",
    "    xaxis=dict(\n",
    "        title='Tactic'\n",
    "    ),\n",
    "    yaxis=dict(\n",
    "        title='Usage',\n",
    "    ),\n",
    ")\n",
    "fig = go.Figure(data=data, layout=layout)\n",
    "plotly.offline.init_notebook_mode(connected=True)\n",
    "plotly.offline.iplot(fig, filename='tactic-hist')"
   ]
  },
  {
   "cell_type": "code",
   "execution_count": 5,
   "metadata": {},
   "outputs": [
    {
     "data": {
      "text/html": [
       "<script>requirejs.config({paths: { 'plotly': ['https://cdn.plot.ly/plotly-latest.min']},});if(!window.Plotly) {{require(['plotly'],function(plotly) {window.Plotly=plotly;});}}</script>"
      ],
      "text/vnd.plotly.v1+html": [
       "<script>requirejs.config({paths: { 'plotly': ['https://cdn.plot.ly/plotly-latest.min']},});if(!window.Plotly) {{require(['plotly'],function(plotly) {window.Plotly=plotly;});}}</script>"
      ]
     },
     "metadata": {},
     "output_type": "display_data"
    },
    {
     "data": {
      "application/vnd.plotly.v1+json": {
       "data": [
        {
         "type": "bar",
         "x": [
          1,
          2,
          3,
          4,
          5,
          6,
          7,
          8,
          9,
          10,
          11,
          12,
          13,
          14,
          15,
          16,
          17,
          18,
          19,
          20,
          21,
          22,
          23,
          24,
          25,
          26,
          27,
          28,
          29,
          30,
          31,
          32,
          33,
          34
         ],
         "y": [
          11.797887323943662,
          451.71514084507044,
          471.8079539706626,
          482.8299453280319,
          486.62340152023256,
          517.0592047481817,
          538.4015358215356,
          557.925389832879,
          582.2197823249547,
          590.1539840218649,
          592.5137234042553,
          610.9029334385688,
          663.5466366966367,
          651.5488198757764,
          729.6304050355775,
          799.8852316602316,
          831.2725995316158,
          904.957548125633,
          914.0966666666666,
          987.7774193548388,
          998.4333333333334,
          1067.0324074074074,
          968.3666666666667,
          905.6590909090909,
          769.4285714285714,
          839.625,
          1124.5,
          705,
          705,
          705,
          705,
          705,
          705,
          705
         ]
        }
       ],
       "layout": {
        "title": "Average Context Size vs. Depth in Tree",
        "xaxis": {
         "title": "Depth (proof tree)"
        },
        "yaxis": {
         "title": "Size of context (char-length for now...)"
        }
       }
      },
      "text/html": [
       "<div id=\"33a8caee-0095-48f6-85de-50e6dd7cf8be\" style=\"height: 525px; width: 100%;\" class=\"plotly-graph-div\"></div><script type=\"text/javascript\">require([\"plotly\"], function(Plotly) { window.PLOTLYENV=window.PLOTLYENV || {};window.PLOTLYENV.BASE_URL=\"https://plot.ly\";Plotly.newPlot(\"33a8caee-0095-48f6-85de-50e6dd7cf8be\", [{\"type\": \"bar\", \"x\": [1, 2, 3, 4, 5, 6, 7, 8, 9, 10, 11, 12, 13, 14, 15, 16, 17, 18, 19, 20, 21, 22, 23, 24, 25, 26, 27, 28, 29, 30, 31, 32, 33, 34], \"y\": [11.797887323943662, 451.71514084507044, 471.8079539706626, 482.8299453280319, 486.62340152023256, 517.0592047481817, 538.4015358215356, 557.925389832879, 582.2197823249547, 590.1539840218649, 592.5137234042553, 610.9029334385688, 663.5466366966367, 651.5488198757764, 729.6304050355775, 799.8852316602316, 831.2725995316158, 904.957548125633, 914.0966666666666, 987.7774193548388, 998.4333333333334, 1067.0324074074074, 968.3666666666667, 905.6590909090909, 769.4285714285714, 839.625, 1124.5, 705.0, 705.0, 705.0, 705.0, 705.0, 705.0, 705.0]}], {\"title\": \"Average Context Size vs. Depth in Tree\", \"xaxis\": {\"title\": \"Depth (proof tree)\"}, \"yaxis\": {\"title\": \"Size of context (char-length for now...)\"}}, {\"showLink\": true, \"linkText\": \"Export to plot.ly\"})});</script>"
      ],
      "text/vnd.plotly.v1+html": [
       "<div id=\"33a8caee-0095-48f6-85de-50e6dd7cf8be\" style=\"height: 525px; width: 100%;\" class=\"plotly-graph-div\"></div><script type=\"text/javascript\">require([\"plotly\"], function(Plotly) { window.PLOTLYENV=window.PLOTLYENV || {};window.PLOTLYENV.BASE_URL=\"https://plot.ly\";Plotly.newPlot(\"33a8caee-0095-48f6-85de-50e6dd7cf8be\", [{\"type\": \"bar\", \"x\": [1, 2, 3, 4, 5, 6, 7, 8, 9, 10, 11, 12, 13, 14, 15, 16, 17, 18, 19, 20, 21, 22, 23, 24, 25, 26, 27, 28, 29, 30, 31, 32, 33, 34], \"y\": [11.797887323943662, 451.71514084507044, 471.8079539706626, 482.8299453280319, 486.62340152023256, 517.0592047481817, 538.4015358215356, 557.925389832879, 582.2197823249547, 590.1539840218649, 592.5137234042553, 610.9029334385688, 663.5466366966367, 651.5488198757764, 729.6304050355775, 799.8852316602316, 831.2725995316158, 904.957548125633, 914.0966666666666, 987.7774193548388, 998.4333333333334, 1067.0324074074074, 968.3666666666667, 905.6590909090909, 769.4285714285714, 839.625, 1124.5, 705.0, 705.0, 705.0, 705.0, 705.0, 705.0, 705.0]}], {\"title\": \"Average Context Size vs. Depth in Tree\", \"xaxis\": {\"title\": \"Depth (proof tree)\"}, \"yaxis\": {\"title\": \"Size of context (char-length for now...)\"}}, {\"showLink\": true, \"linkText\": \"Export to plot.ly\"})});</script>"
      ]
     },
     "metadata": {},
     "output_type": "display_data"
    }
   ],
   "source": [
    "import plotly\n",
    "import plotly.plotly as py\n",
    "import plotly.graph_objs as go\n",
    "\n",
    "avg_depth_ctx_size = tactr_stats.avg_depth_size(DepthMode.CONTEXT).items()\n",
    "data = [go.Bar(x=[p[0] for p in avg_depth_ctx_size], y=[p[1] for p in avg_depth_ctx_size])]\n",
    "\n",
    "layout = go.Layout(\n",
    "    title='Average Context Size vs. Depth in Tree',\n",
    "    xaxis=dict(\n",
    "        title='Depth (proof tree)'\n",
    "    ),\n",
    "    yaxis=dict(\n",
    "        title='Size of context (char-length for now...)',\n",
    "    ),\n",
    ")\n",
    "fig = go.Figure(data=data, layout=layout)\n",
    "plotly.offline.init_notebook_mode(connected=True)\n",
    "plotly.offline.iplot(fig, filename='average-context-size')"
   ]
  },
  {
   "cell_type": "code",
   "execution_count": 6,
   "metadata": {
    "scrolled": true
   },
   "outputs": [
    {
     "data": {
      "text/html": [
       "<script>requirejs.config({paths: { 'plotly': ['https://cdn.plot.ly/plotly-latest.min']},});if(!window.Plotly) {{require(['plotly'],function(plotly) {window.Plotly=plotly;});}}</script>"
      ],
      "text/vnd.plotly.v1+html": [
       "<script>requirejs.config({paths: { 'plotly': ['https://cdn.plot.ly/plotly-latest.min']},});if(!window.Plotly) {{require(['plotly'],function(plotly) {window.Plotly=plotly;});}}</script>"
      ]
     },
     "metadata": {},
     "output_type": "display_data"
    },
    {
     "data": {
      "application/vnd.plotly.v1+json": {
       "data": [
        {
         "type": "bar",
         "x": [
          1,
          2,
          3,
          4,
          5,
          6,
          7,
          8,
          9,
          10,
          11,
          12,
          13,
          14,
          15,
          16,
          17,
          18,
          19,
          20,
          21,
          22,
          23,
          24,
          25,
          26,
          27,
          28,
          29,
          30,
          31,
          32,
          33,
          34
         ],
         "y": [
          2.1359154929577464,
          63.27647887323944,
          80.86439049064242,
          77.79541205150052,
          62.79661466272383,
          60.511697200494034,
          60.12483483483485,
          59.08107999440598,
          59.08040082522841,
          61.00157021969935,
          53.75167311411993,
          61.6979347540121,
          74.03783716283715,
          78.1887060041408,
          72.92389162561577,
          71.87886100386099,
          67.295914650013,
          77.18596757852077,
          87.21583333333334,
          89.7731182795699,
          74.408,
          43.20370370370371,
          62.211111111111116,
          67,
          49.25,
          70.375,
          10,
          47,
          39,
          12,
          25,
          31,
          40,
          40
         ]
        }
       ],
       "layout": {
        "title": "Average Goal Size vs. Depth in Tree",
        "xaxis": {
         "title": "Depth (proof tree)"
        },
        "yaxis": {
         "title": "Size of goal (char-length for now...)"
        }
       }
      },
      "text/html": [
       "<div id=\"c8b6add2-cdce-41bf-b050-33440e481c02\" style=\"height: 525px; width: 100%;\" class=\"plotly-graph-div\"></div><script type=\"text/javascript\">require([\"plotly\"], function(Plotly) { window.PLOTLYENV=window.PLOTLYENV || {};window.PLOTLYENV.BASE_URL=\"https://plot.ly\";Plotly.newPlot(\"c8b6add2-cdce-41bf-b050-33440e481c02\", [{\"type\": \"bar\", \"x\": [1, 2, 3, 4, 5, 6, 7, 8, 9, 10, 11, 12, 13, 14, 15, 16, 17, 18, 19, 20, 21, 22, 23, 24, 25, 26, 27, 28, 29, 30, 31, 32, 33, 34], \"y\": [2.1359154929577464, 63.27647887323944, 80.86439049064242, 77.79541205150052, 62.79661466272383, 60.511697200494034, 60.12483483483485, 59.08107999440598, 59.08040082522841, 61.00157021969935, 53.75167311411993, 61.6979347540121, 74.03783716283715, 78.1887060041408, 72.92389162561577, 71.87886100386099, 67.295914650013, 77.18596757852077, 87.21583333333334, 89.7731182795699, 74.408, 43.20370370370371, 62.211111111111116, 67.0, 49.25, 70.375, 10.0, 47.0, 39.0, 12.0, 25.0, 31.0, 40.0, 40.0]}], {\"title\": \"Average Goal Size vs. Depth in Tree\", \"xaxis\": {\"title\": \"Depth (proof tree)\"}, \"yaxis\": {\"title\": \"Size of goal (char-length for now...)\"}}, {\"showLink\": true, \"linkText\": \"Export to plot.ly\"})});</script>"
      ],
      "text/vnd.plotly.v1+html": [
       "<div id=\"c8b6add2-cdce-41bf-b050-33440e481c02\" style=\"height: 525px; width: 100%;\" class=\"plotly-graph-div\"></div><script type=\"text/javascript\">require([\"plotly\"], function(Plotly) { window.PLOTLYENV=window.PLOTLYENV || {};window.PLOTLYENV.BASE_URL=\"https://plot.ly\";Plotly.newPlot(\"c8b6add2-cdce-41bf-b050-33440e481c02\", [{\"type\": \"bar\", \"x\": [1, 2, 3, 4, 5, 6, 7, 8, 9, 10, 11, 12, 13, 14, 15, 16, 17, 18, 19, 20, 21, 22, 23, 24, 25, 26, 27, 28, 29, 30, 31, 32, 33, 34], \"y\": [2.1359154929577464, 63.27647887323944, 80.86439049064242, 77.79541205150052, 62.79661466272383, 60.511697200494034, 60.12483483483485, 59.08107999440598, 59.08040082522841, 61.00157021969935, 53.75167311411993, 61.6979347540121, 74.03783716283715, 78.1887060041408, 72.92389162561577, 71.87886100386099, 67.295914650013, 77.18596757852077, 87.21583333333334, 89.7731182795699, 74.408, 43.20370370370371, 62.211111111111116, 67.0, 49.25, 70.375, 10.0, 47.0, 39.0, 12.0, 25.0, 31.0, 40.0, 40.0]}], {\"title\": \"Average Goal Size vs. Depth in Tree\", \"xaxis\": {\"title\": \"Depth (proof tree)\"}, \"yaxis\": {\"title\": \"Size of goal (char-length for now...)\"}}, {\"showLink\": true, \"linkText\": \"Export to plot.ly\"})});</script>"
      ]
     },
     "metadata": {},
     "output_type": "display_data"
    }
   ],
   "source": [
    "import plotly\n",
    "import plotly.plotly as py\n",
    "import plotly.graph_objs as go\n",
    "\n",
    "avg_depth_goal_size = tactr_stats.avg_depth_size(DepthMode.GOAL).items()\n",
    "data = [go.Bar(x=[p[0] for p in avg_depth_goal_size], y=[p[1] for p in avg_depth_goal_size])]\n",
    "\n",
    "layout = go.Layout(\n",
    "    title='Average Goal Size vs. Depth in Tree',\n",
    "    xaxis=dict(\n",
    "        title='Depth (proof tree)'\n",
    "    ),\n",
    "    yaxis=dict(\n",
    "        title='Size of goal (char-length for now...)',\n",
    "    ),\n",
    ")\n",
    "fig = go.Figure(data=data, layout=layout)\n",
    "plotly.offline.init_notebook_mode(connected=True)\n",
    "plotly.offline.iplot(fig, filename='average-goal-size')"
   ]
  },
  {
   "cell_type": "code",
   "execution_count": null,
   "metadata": {
    "collapsed": true
   },
   "outputs": [],
   "source": []
  }
 ],
 "metadata": {
  "kernelspec": {
   "display_name": "ragnarok3",
   "language": "python",
   "name": "ragnarok3"
  },
  "language_info": {
   "codemirror_mode": {
    "name": "ipython",
    "version": 3
   },
   "file_extension": ".py",
   "mimetype": "text/x-python",
   "name": "python",
   "nbconvert_exporter": "python",
   "pygments_lexer": "ipython3",
   "version": "3.6.2"
  }
 },
 "nbformat": 4,
 "nbformat_minor": 2
}
