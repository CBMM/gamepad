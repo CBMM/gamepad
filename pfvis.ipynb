{
 "cells": [
  {
   "cell_type": "code",
   "execution_count": null,
   "metadata": {},
   "outputs": [],
   "source": [
    "from ml4tputils.visualize import *\n",
    "\n",
    "#tgtlem = \"foo1\"\n",
    "#file = \"/Users/dehuang/Documents/research/ml4tp/ex/foo1.dump\"\n",
    "tgtlem = \"plus_comm\"\n",
    "file = \"/Users/dehuang/Documents/research/ml4tp/ex/foo9.dump\"\n",
    "vis = Visualize(f_display=True, f_jupyter=True, f_verbose=False, tgtlem=tgtlem)\n",
    "tactrs = vis.visualize_file(file)"
   ]
  },
  {
   "cell_type": "code",
   "execution_count": null,
   "metadata": {},
   "outputs": [],
   "source": [
    "from ml4tputils.visualize import *\n",
    "\n",
    "tgtlem = \"oU\"\n",
    "file = \"/Users/dehuang/Documents/research/ml4tp/data/odd-order/PFsection14.v.dump\"\n",
    "vis = Visualize(f_display=True, f_jupyter=True, f_verbose=False, tgtlem=tgtlem)\n",
    "tactrs = vis.visualize_file(file)"
   ]
  },
  {
   "cell_type": "code",
   "execution_count": null,
   "metadata": {},
   "outputs": [],
   "source": [
    "vis.tactrs[0].tacst_info"
   ]
  },
  {
   "cell_type": "code",
   "execution_count": 1,
   "metadata": {},
   "outputs": [
    {
     "name": "stdout",
     "output_type": "stream",
     "text": [
      "Statistics on number of tactics used (across lemmas)\n",
      "Min:       1\n",
      "Max:       6145\n",
      "Mean:      145.06267605633803\n",
      "Sdev:      404.2640412970173\n",
      "Kurtosis:  90.57377354216004\n",
      "Statistics on number of tactic states present (across lemmas)\n",
      "Min:       2\n",
      "Max:       6586\n",
      "Mean:      150.9556338028169\n",
      "Sdev:      419.7241668055994\n",
      "Kurtosis:  92.48311491042622\n",
      "Statistics on number of terminal states (across lemmas)\n",
      "Min:       1\n",
      "Max:       1460\n",
      "Mean:      30.240845070422534\n",
      "Sdev:      83.43188851884553\n",
      "Kurtosis:  106.0495960719804\n",
      "Statistics on number of deadend states (across lemmas)\n",
      "Min:       0\n",
      "Max:       1850\n",
      "Mean:      41.16549295774648\n",
      "Sdev:      119.56366713765885\n",
      "Kurtosis:  93.40984754731865\n"
     ]
    }
   ],
   "source": [
    "from ml4tputils.exp_tactr_stats import *\n",
    "\n",
    "# Feit-Thompson (Odd-order theorem)\n",
    "stats = load_tactr_stats(\"log/tactr-build-12-4.log\")\n",
    "tactr_stats = TacTrStats(stats)\n",
    "_ = tactr_stats.descrip_tacs()\n",
    "_ = tactr_stats.descrip_tacsts()\n",
    "_ = tactr_stats.descrip_term()\n",
    "_ = tactr_stats.descrip_deadend()"
   ]
  },
  {
   "cell_type": "code",
   "execution_count": null,
   "metadata": {},
   "outputs": [],
   "source": [
    "_ = tactr_stats.gather_have_info()"
   ]
  },
  {
   "cell_type": "code",
   "execution_count": 5,
   "metadata": {},
   "outputs": [
    {
     "name": "stdout",
     "output_type": "stream",
     "text": [
      "[('AppExp', 5215985), ('ConstExp', 4851576), ('VarExp', 2559340), ('ConstructExp', 516660), ('IndExp', 189047), ('RelExp', 74927), ('ProdExp', 40614), ('LambdaExp', 22942), ('CastExp', 1769), ('CaseExp', 1480), ('LetInExp', 606), ('SortExp', 534), ('FixExp', 55), ('EvarExp', 2), ('ProjExp', 0), ('MetaExp', 0), ('CoFixExp', 0)]\n"
     ]
    },
    {
     "data": {
      "text/html": [
       "<script>requirejs.config({paths: { 'plotly': ['https://cdn.plot.ly/plotly-latest.min']},});if(!window.Plotly) {{require(['plotly'],function(plotly) {window.Plotly=plotly;});}}</script>"
      ],
      "text/vnd.plotly.v1+html": [
       "<script>requirejs.config({paths: { 'plotly': ['https://cdn.plot.ly/plotly-latest.min']},});if(!window.Plotly) {{require(['plotly'],function(plotly) {window.Plotly=plotly;});}}</script>"
      ]
     },
     "metadata": {},
     "output_type": "display_data"
    },
    {
     "data": {
      "application/vnd.plotly.v1+json": {
       "data": [
        {
         "type": "bar",
         "x": [
          "AppExp",
          "ConstExp",
          "VarExp",
          "ConstructExp",
          "IndExp",
          "RelExp",
          "ProdExp",
          "LambdaExp",
          "CastExp",
          "CaseExp",
          "LetInExp",
          "SortExp",
          "FixExp",
          "EvarExp",
          "ProjExp",
          "MetaExp",
          "CoFixExp"
         ],
         "y": [
          5215985,
          4851576,
          2559340,
          516660,
          189047,
          74927,
          40614,
          22942,
          1769,
          1480,
          606,
          534,
          55,
          2,
          0,
          0,
          0
         ]
        }
       ],
       "layout": {
        "title": "CoqExp Usage (all lemmas)",
        "xaxis": {
         "title": "Coq Expression"
        },
        "yaxis": {
         "title": "Usage"
        }
       }
      },
      "text/html": [
       "<div id=\"2932c0c4-7fd4-49ef-8454-bd3a20752f8e\" style=\"height: 525px; width: 100%;\" class=\"plotly-graph-div\"></div><script type=\"text/javascript\">require([\"plotly\"], function(Plotly) { window.PLOTLYENV=window.PLOTLYENV || {};window.PLOTLYENV.BASE_URL=\"https://plot.ly\";Plotly.newPlot(\"2932c0c4-7fd4-49ef-8454-bd3a20752f8e\", [{\"type\": \"bar\", \"x\": [\"AppExp\", \"ConstExp\", \"VarExp\", \"ConstructExp\", \"IndExp\", \"RelExp\", \"ProdExp\", \"LambdaExp\", \"CastExp\", \"CaseExp\", \"LetInExp\", \"SortExp\", \"FixExp\", \"EvarExp\", \"ProjExp\", \"MetaExp\", \"CoFixExp\"], \"y\": [5215985, 4851576, 2559340, 516660, 189047, 74927, 40614, 22942, 1769, 1480, 606, 534, 55, 2, 0, 0, 0]}], {\"title\": \"CoqExp Usage (all lemmas)\", \"xaxis\": {\"title\": \"Coq Expression\"}, \"yaxis\": {\"title\": \"Usage\"}}, {\"showLink\": true, \"linkText\": \"Export to plot.ly\"})});</script>"
      ],
      "text/vnd.plotly.v1+html": [
       "<div id=\"2932c0c4-7fd4-49ef-8454-bd3a20752f8e\" style=\"height: 525px; width: 100%;\" class=\"plotly-graph-div\"></div><script type=\"text/javascript\">require([\"plotly\"], function(Plotly) { window.PLOTLYENV=window.PLOTLYENV || {};window.PLOTLYENV.BASE_URL=\"https://plot.ly\";Plotly.newPlot(\"2932c0c4-7fd4-49ef-8454-bd3a20752f8e\", [{\"type\": \"bar\", \"x\": [\"AppExp\", \"ConstExp\", \"VarExp\", \"ConstructExp\", \"IndExp\", \"RelExp\", \"ProdExp\", \"LambdaExp\", \"CastExp\", \"CaseExp\", \"LetInExp\", \"SortExp\", \"FixExp\", \"EvarExp\", \"ProjExp\", \"MetaExp\", \"CoFixExp\"], \"y\": [5215985, 4851576, 2559340, 516660, 189047, 74927, 40614, 22942, 1769, 1480, 606, 534, 55, 2, 0, 0, 0]}], {\"title\": \"CoqExp Usage (all lemmas)\", \"xaxis\": {\"title\": \"Coq Expression\"}, \"yaxis\": {\"title\": \"Usage\"}}, {\"showLink\": true, \"linkText\": \"Export to plot.ly\"})});</script>"
      ]
     },
     "metadata": {},
     "output_type": "display_data"
    }
   ],
   "source": [
    "import plotly\n",
    "import plotly.plotly as py\n",
    "import plotly.graph_objs as go\n",
    "\n",
    "coqexp_hist = tactr_stats.coqexp_hist()\n",
    "print(coqexp_hist)\n",
    "data = [go.Bar(x=[p[0] for p in coqexp_hist], y=[p[1] for p in coqexp_hist])]\n",
    "\n",
    "layout = go.Layout(\n",
    "    title='CoqExp Usage (all lemmas)',\n",
    "    xaxis=dict(\n",
    "        title='Coq Expression'\n",
    "    ),\n",
    "    yaxis=dict(\n",
    "        title='Usage',\n",
    "    ),\n",
    ")\n",
    "fig = go.Figure(data=data, layout=layout)\n",
    "plotly.offline.init_notebook_mode(connected=True)\n",
    "plotly.offline.iplot(fig, filename='coqexp-hist')"
   ]
  },
  {
   "cell_type": "code",
   "execution_count": 2,
   "metadata": {},
   "outputs": [
    {
     "name": "stdout",
     "output_type": "stream",
     "text": [
      "Average # of shared tokens: 441.6676056338028\n",
      "Average shared token usage: 3.1315455487299624\n",
      "Average total token usage: 1564.5619718309858\n"
     ]
    }
   ],
   "source": [
    "_ = tactr_stats.coqexp_sharing()"
   ]
  },
  {
   "cell_type": "code",
   "execution_count": 4,
   "metadata": {},
   "outputs": [
    {
     "data": {
      "text/html": [
       "<script>requirejs.config({paths: { 'plotly': ['https://cdn.plot.ly/plotly-latest.min']},});if(!window.Plotly) {{require(['plotly'],function(plotly) {window.Plotly=plotly;});}}</script>"
      ],
      "text/vnd.plotly.v1+html": [
       "<script>requirejs.config({paths: { 'plotly': ['https://cdn.plot.ly/plotly-latest.min']},});if(!window.Plotly) {{require(['plotly'],function(plotly) {window.Plotly=plotly;});}}</script>"
      ]
     },
     "metadata": {},
     "output_type": "display_data"
    },
    {
     "data": {
      "application/vnd.plotly.v1+json": {
       "data": [
        {
         "type": "bar",
         "x": [
          "<g_auto::trivial@0>",
          "<ssreflect_plugin::ssrapply@0>",
          "<ssreflect_plugin::ssrrewrite@0>",
          "<ssreflect_plugin::ssrhave@0>",
          "<coretactics::split@0>",
          "<extratactics::discriminate@0>",
          "<extratactics::contradiction@0>",
          "<ssreflect_plugin::ssrtcldo@0>",
          "<coretactics::assumption@0>",
          "<ssreflect_plugin::ssrtclby@0>",
          "<ssreflect_plugin::ssrtclintros@0>",
          "<ssreflect_plugin::ssrcase@0>",
          "<ssreflect_plugin::ssrmove@1>",
          "<ssreflect_plugin::ssrtclseq@0>",
          "<ssreflect_plugin::ssrpose@2>",
          "<ssreflect_plugin::ssrexact@0>",
          "<coretactics::exists@1>",
          "<ssreflect_plugin::ssrsuffices@0>",
          "<ssreflect_plugin::ssrset@0>",
          "<ssreflect_plugin::ssrcongr@0>",
          "<ssreflect_plugin::ssrelim@0>",
          "<ssreflect_plugin::ssrmove@0>",
          "<ssreflect_plugin::ssrwithoutloss@0>",
          "<coretactics::transitivity@0>",
          "<ssreflect_plugin::ssrapply@1>",
          "<coretactics::left@0>",
          "<ssreflect_plugin::ssrwlog@0>",
          "<coretactics::right@0>",
          "<coretactics::exact@0>",
          "<ssreflect_plugin::ssrsuff@0>",
          "<ssreflect_plugin::ssrcase@1>",
          "<coretactics::symmetry@0>",
          "<g_auto::auto@0>",
          "<coretactics::clear@0>",
          "<coretactics::constructor@1>",
          "<ssreflect_plugin::ssrmove@2>",
          "<ssreflect_plugin::ssrexact@1>",
          "<coretactics::constructor@0>",
          "<ssreflect_plugin::ssrwlogss@0>",
          "<ssreflect_plugin::ssrwlogs@0>",
          "<ssreflect_plugin::ssrwithoutlossss@0>",
          "<ssreflect_plugin::ssrclear@0>",
          "<g_auto::eauto@0>",
          "<coretactics::clearbody@0>",
          "<coretactics::intro@0>"
         ],
         "y": [
          44.64295774647887,
          11.576056338028168,
          11.55281690140845,
          8.143661971830985,
          7.890140845070422,
          7.654929577464789,
          7.428169014084507,
          7.109859154929578,
          6.332394366197183,
          4.802816901408451,
          1.3591549295774648,
          1.1683098591549297,
          1.102112676056338,
          0.9133802816901408,
          0.6676056338028169,
          0.5183098591549296,
          0.5119718309859155,
          0.2647887323943662,
          0.25422535211267605,
          0.17112676056338028,
          0.06338028169014084,
          0.06267605633802817,
          0.04295774647887324,
          0.04084507042253521,
          0.03380281690140845,
          0.03309859154929577,
          0.030985915492957747,
          0.02676056338028169,
          0.02464788732394366,
          0.017605633802816902,
          0.017605633802816902,
          0.017605633802816902,
          0.008450704225352112,
          0.006338028169014085,
          0.004225352112676056,
          0.0028169014084507044,
          0.0014084507042253522,
          0.0014084507042253522,
          0.0007042253521126761,
          0.0007042253521126761,
          0.0007042253521126761,
          0.0007042253521126761,
          0.0007042253521126761,
          0.0007042253521126761,
          0
         ]
        }
       ],
       "layout": {
        "title": "Tactic Usage (all lemmas)",
        "xaxis": {
         "title": "Tactic"
        },
        "yaxis": {
         "title": "Usage"
        }
       }
      },
      "text/html": [
       "<div id=\"95a86825-f796-4eb0-a53c-d5361f9a3436\" style=\"height: 525px; width: 100%;\" class=\"plotly-graph-div\"></div><script type=\"text/javascript\">require([\"plotly\"], function(Plotly) { window.PLOTLYENV=window.PLOTLYENV || {};window.PLOTLYENV.BASE_URL=\"https://plot.ly\";Plotly.newPlot(\"95a86825-f796-4eb0-a53c-d5361f9a3436\", [{\"type\": \"bar\", \"x\": [\"<g_auto::trivial@0>\", \"<ssreflect_plugin::ssrapply@0>\", \"<ssreflect_plugin::ssrrewrite@0>\", \"<ssreflect_plugin::ssrhave@0>\", \"<coretactics::split@0>\", \"<extratactics::discriminate@0>\", \"<extratactics::contradiction@0>\", \"<ssreflect_plugin::ssrtcldo@0>\", \"<coretactics::assumption@0>\", \"<ssreflect_plugin::ssrtclby@0>\", \"<ssreflect_plugin::ssrtclintros@0>\", \"<ssreflect_plugin::ssrcase@0>\", \"<ssreflect_plugin::ssrmove@1>\", \"<ssreflect_plugin::ssrtclseq@0>\", \"<ssreflect_plugin::ssrpose@2>\", \"<ssreflect_plugin::ssrexact@0>\", \"<coretactics::exists@1>\", \"<ssreflect_plugin::ssrsuffices@0>\", \"<ssreflect_plugin::ssrset@0>\", \"<ssreflect_plugin::ssrcongr@0>\", \"<ssreflect_plugin::ssrelim@0>\", \"<ssreflect_plugin::ssrmove@0>\", \"<ssreflect_plugin::ssrwithoutloss@0>\", \"<coretactics::transitivity@0>\", \"<ssreflect_plugin::ssrapply@1>\", \"<coretactics::left@0>\", \"<ssreflect_plugin::ssrwlog@0>\", \"<coretactics::right@0>\", \"<coretactics::exact@0>\", \"<ssreflect_plugin::ssrsuff@0>\", \"<ssreflect_plugin::ssrcase@1>\", \"<coretactics::symmetry@0>\", \"<g_auto::auto@0>\", \"<coretactics::clear@0>\", \"<coretactics::constructor@1>\", \"<ssreflect_plugin::ssrmove@2>\", \"<ssreflect_plugin::ssrexact@1>\", \"<coretactics::constructor@0>\", \"<ssreflect_plugin::ssrwlogss@0>\", \"<ssreflect_plugin::ssrwlogs@0>\", \"<ssreflect_plugin::ssrwithoutlossss@0>\", \"<ssreflect_plugin::ssrclear@0>\", \"<g_auto::eauto@0>\", \"<coretactics::clearbody@0>\", \"<coretactics::intro@0>\"], \"y\": [44.64295774647887, 11.576056338028168, 11.55281690140845, 8.143661971830985, 7.890140845070422, 7.654929577464789, 7.428169014084507, 7.109859154929578, 6.332394366197183, 4.802816901408451, 1.3591549295774648, 1.1683098591549297, 1.102112676056338, 0.9133802816901408, 0.6676056338028169, 0.5183098591549296, 0.5119718309859155, 0.2647887323943662, 0.25422535211267605, 0.17112676056338028, 0.06338028169014084, 0.06267605633802817, 0.04295774647887324, 0.04084507042253521, 0.03380281690140845, 0.03309859154929577, 0.030985915492957747, 0.02676056338028169, 0.02464788732394366, 0.017605633802816902, 0.017605633802816902, 0.017605633802816902, 0.008450704225352112, 0.006338028169014085, 0.004225352112676056, 0.0028169014084507044, 0.0014084507042253522, 0.0014084507042253522, 0.0007042253521126761, 0.0007042253521126761, 0.0007042253521126761, 0.0007042253521126761, 0.0007042253521126761, 0.0007042253521126761, 0.0]}], {\"title\": \"Tactic Usage (all lemmas)\", \"xaxis\": {\"title\": \"Tactic\"}, \"yaxis\": {\"title\": \"Usage\"}}, {\"showLink\": true, \"linkText\": \"Export to plot.ly\"})});</script>"
      ],
      "text/vnd.plotly.v1+html": [
       "<div id=\"95a86825-f796-4eb0-a53c-d5361f9a3436\" style=\"height: 525px; width: 100%;\" class=\"plotly-graph-div\"></div><script type=\"text/javascript\">require([\"plotly\"], function(Plotly) { window.PLOTLYENV=window.PLOTLYENV || {};window.PLOTLYENV.BASE_URL=\"https://plot.ly\";Plotly.newPlot(\"95a86825-f796-4eb0-a53c-d5361f9a3436\", [{\"type\": \"bar\", \"x\": [\"<g_auto::trivial@0>\", \"<ssreflect_plugin::ssrapply@0>\", \"<ssreflect_plugin::ssrrewrite@0>\", \"<ssreflect_plugin::ssrhave@0>\", \"<coretactics::split@0>\", \"<extratactics::discriminate@0>\", \"<extratactics::contradiction@0>\", \"<ssreflect_plugin::ssrtcldo@0>\", \"<coretactics::assumption@0>\", \"<ssreflect_plugin::ssrtclby@0>\", \"<ssreflect_plugin::ssrtclintros@0>\", \"<ssreflect_plugin::ssrcase@0>\", \"<ssreflect_plugin::ssrmove@1>\", \"<ssreflect_plugin::ssrtclseq@0>\", \"<ssreflect_plugin::ssrpose@2>\", \"<ssreflect_plugin::ssrexact@0>\", \"<coretactics::exists@1>\", \"<ssreflect_plugin::ssrsuffices@0>\", \"<ssreflect_plugin::ssrset@0>\", \"<ssreflect_plugin::ssrcongr@0>\", \"<ssreflect_plugin::ssrelim@0>\", \"<ssreflect_plugin::ssrmove@0>\", \"<ssreflect_plugin::ssrwithoutloss@0>\", \"<coretactics::transitivity@0>\", \"<ssreflect_plugin::ssrapply@1>\", \"<coretactics::left@0>\", \"<ssreflect_plugin::ssrwlog@0>\", \"<coretactics::right@0>\", \"<coretactics::exact@0>\", \"<ssreflect_plugin::ssrsuff@0>\", \"<ssreflect_plugin::ssrcase@1>\", \"<coretactics::symmetry@0>\", \"<g_auto::auto@0>\", \"<coretactics::clear@0>\", \"<coretactics::constructor@1>\", \"<ssreflect_plugin::ssrmove@2>\", \"<ssreflect_plugin::ssrexact@1>\", \"<coretactics::constructor@0>\", \"<ssreflect_plugin::ssrwlogss@0>\", \"<ssreflect_plugin::ssrwlogs@0>\", \"<ssreflect_plugin::ssrwithoutlossss@0>\", \"<ssreflect_plugin::ssrclear@0>\", \"<g_auto::eauto@0>\", \"<coretactics::clearbody@0>\", \"<coretactics::intro@0>\"], \"y\": [44.64295774647887, 11.576056338028168, 11.55281690140845, 8.143661971830985, 7.890140845070422, 7.654929577464789, 7.428169014084507, 7.109859154929578, 6.332394366197183, 4.802816901408451, 1.3591549295774648, 1.1683098591549297, 1.102112676056338, 0.9133802816901408, 0.6676056338028169, 0.5183098591549296, 0.5119718309859155, 0.2647887323943662, 0.25422535211267605, 0.17112676056338028, 0.06338028169014084, 0.06267605633802817, 0.04295774647887324, 0.04084507042253521, 0.03380281690140845, 0.03309859154929577, 0.030985915492957747, 0.02676056338028169, 0.02464788732394366, 0.017605633802816902, 0.017605633802816902, 0.017605633802816902, 0.008450704225352112, 0.006338028169014085, 0.004225352112676056, 0.0028169014084507044, 0.0014084507042253522, 0.0014084507042253522, 0.0007042253521126761, 0.0007042253521126761, 0.0007042253521126761, 0.0007042253521126761, 0.0007042253521126761, 0.0007042253521126761, 0.0]}], {\"title\": \"Tactic Usage (all lemmas)\", \"xaxis\": {\"title\": \"Tactic\"}, \"yaxis\": {\"title\": \"Usage\"}}, {\"showLink\": true, \"linkText\": \"Export to plot.ly\"})});</script>"
      ]
     },
     "metadata": {},
     "output_type": "display_data"
    }
   ],
   "source": [
    "import plotly\n",
    "import plotly.plotly as py\n",
    "import plotly.graph_objs as go\n",
    "\n",
    "tactic_hist = tactr_stats.avg_hist(f_sort=True)\n",
    "data = [go.Bar(x=[p[0] for p in tactic_hist], y=[p[1] for p in tactic_hist])]\n",
    "\n",
    "layout = go.Layout(\n",
    "    title='Tactic Usage (all lemmas)',\n",
    "    xaxis=dict(\n",
    "        title='Tactic'\n",
    "    ),\n",
    "    yaxis=dict(\n",
    "        title='Usage',\n",
    "    ),\n",
    ")\n",
    "fig = go.Figure(data=data, layout=layout)\n",
    "plotly.offline.init_notebook_mode(connected=True)\n",
    "plotly.offline.iplot(fig, filename='tactic-hist')"
   ]
  },
  {
   "cell_type": "code",
   "execution_count": null,
   "metadata": {},
   "outputs": [],
   "source": [
    "avg_depth_ctx_size = tactr_stats.avg_depth_size(DepthMode.CONTEXT).items()\n",
    "orint(avg_depth_ctx_size)"
   ]
  },
  {
   "cell_type": "code",
   "execution_count": null,
   "metadata": {
    "collapsed": true
   },
   "outputs": [],
   "source": []
  },
  {
   "cell_type": "code",
   "execution_count": 3,
   "metadata": {},
   "outputs": [
    {
     "data": {
      "text/html": [
       "<script>requirejs.config({paths: { 'plotly': ['https://cdn.plot.ly/plotly-latest.min']},});if(!window.Plotly) {{require(['plotly'],function(plotly) {window.Plotly=plotly;});}}</script>"
      ],
      "text/vnd.plotly.v1+html": [
       "<script>requirejs.config({paths: { 'plotly': ['https://cdn.plot.ly/plotly-latest.min']},});if(!window.Plotly) {{require(['plotly'],function(plotly) {window.Plotly=plotly;});}}</script>"
      ]
     },
     "metadata": {},
     "output_type": "display_data"
    },
    {
     "data": {
      "application/vnd.plotly.v1+json": {
       "data": [
        {
         "type": "bar",
         "x": [
          1,
          2,
          3,
          4,
          5,
          6,
          7,
          8,
          9,
          10,
          11,
          12,
          13,
          14,
          15,
          16,
          17,
          18,
          19,
          20,
          21,
          22,
          23,
          24,
          25,
          26,
          27,
          28,
          29,
          30,
          31,
          32,
          33,
          34,
          35,
          36,
          37,
          38,
          39,
          40,
          41,
          42,
          43,
          44,
          45,
          46,
          47,
          48,
          49,
          50,
          51,
          52,
          53,
          54,
          55,
          56,
          57,
          58,
          59,
          60,
          61,
          62,
          63,
          64,
          65,
          66,
          67,
          68,
          69,
          70,
          71,
          72,
          73,
          74,
          75,
          76,
          77,
          78,
          79,
          80,
          81,
          82,
          83,
          84,
          85,
          86,
          87,
          88,
          89,
          90,
          91,
          92,
          93,
          94,
          95,
          96,
          97,
          98,
          99,
          100,
          101,
          102,
          103,
          104,
          105,
          106,
          107,
          108,
          109,
          110,
          111,
          112,
          113,
          114,
          115,
          116,
          117,
          118,
          119,
          120,
          121,
          122,
          123,
          124,
          125,
          126,
          127,
          128,
          129,
          130,
          131,
          132,
          133,
          134,
          135,
          136,
          137,
          138,
          139,
          140,
          141,
          142,
          143
         ],
         "y": [
          328.4901960784314,
          451.46478873239437,
          473.0339110512127,
          484.5316748638817,
          502.3866915847668,
          513.5708862269487,
          539.7483953889498,
          564.4026169569172,
          576.1111343214574,
          604.7924048857151,
          617.3352680781562,
          643.8859372448393,
          675.0065459675492,
          713.2322227224681,
          737.5763693628127,
          762.5143599128862,
          788.4238737042407,
          815.0126707052424,
          834.6980251450432,
          857.2663426932451,
          896.1674401450639,
          913.2842061360988,
          927.2926425041676,
          966.7733028903234,
          964.8309707316432,
          989.050968257495,
          1009.207352386822,
          1022.0604948852194,
          1035.8455975641496,
          1070.5809866559662,
          1101.9304442941525,
          1136.2524662960584,
          1141.2152353941246,
          1178.8738541387218,
          1196.0246003433683,
          1252.612931788738,
          1271.6070295587601,
          1274.3476226250025,
          1308.636804458814,
          1343.8632904365104,
          1366.5494221153701,
          1389.9035003226202,
          1412.3387766825547,
          1444.649769262883,
          1490.9266476843036,
          1536.0234270092149,
          1555.2452597280978,
          1579.2277843510967,
          1598.4918248447984,
          1590.7833017025855,
          1632.7576773825956,
          1645.984822418178,
          1650.1626694361382,
          1657.6189738865962,
          1643.2687524486917,
          1643.7061058502281,
          1658.5357013261396,
          1687.0997769912592,
          1667.9907373156,
          1682.349823327524,
          1702.676103726532,
          1758.0876681937102,
          1804.0439016538312,
          1843.938695999686,
          1874.4034268406474,
          1887.0101393898049,
          1906.6466082636528,
          1931.8171445505686,
          2011.6758483174356,
          2022.885259770137,
          2003.1862388873374,
          1965.2232248313778,
          1926.8509830007365,
          1977.3414934757602,
          1981.3828621711236,
          1981.0704201567428,
          1933.0536378823663,
          1914.1678773558706,
          1993.6726260043347,
          1973.9805744163461,
          1987.9528584590078,
          2011.194095641746,
          2094.859483937116,
          2119.5487943044104,
          2082.206878800429,
          2063.6435371151,
          2008.156480027151,
          1999.068688065747,
          2140.4373604216657,
          2139.222706204385,
          2129.365673912968,
          2136.3407562360703,
          2185.06894200568,
          2205.102969860272,
          2193.4328854178198,
          2177.040318303382,
          2093.8549283319016,
          2027.8641338080931,
          1974.5898165766052,
          2006.923168131924,
          2062.888954263954,
          2072.1390355109984,
          2051.368124305026,
          2048.1550335506217,
          2070.0368685744033,
          2086.2018892041833,
          2092.66674269517,
          2103.4232870731703,
          2139.852271995586,
          2225.815852154602,
          2255.936462367058,
          2260.657667536712,
          2482.883259668285,
          2484.417102509884,
          2824.7876230911943,
          2940.4640046104346,
          2989.286918110094,
          2997.5786221097214,
          3019.652462121212,
          3058.357771251737,
          3051.634291056166,
          3069.0934226190475,
          3099.9008352710616,
          3148.6925091269504,
          3200.6865594151955,
          3234.485273010679,
          3262.9537628576477,
          3298.748551209016,
          3377.6078503752924,
          3392.4941640303696,
          3419.9242021657446,
          3431.930330851944,
          3426.3795372050818,
          3062.5384615384614,
          3065.443103448276,
          3083.536956521739,
          3081.747641509434,
          3090.699652777778,
          3091.4066666666668,
          2032.560975609756,
          2037.9310344827586,
          2038,
          2038
         ]
        }
       ],
       "layout": {
        "title": "Average Context Size vs. Depth in Tree",
        "xaxis": {
         "title": "Depth (proof tree)"
        },
        "yaxis": {
         "title": "Size of context (char-length)"
        }
       }
      },
      "text/html": [
       "<div id=\"70a077ba-379f-473d-95ab-081ce75f5774\" style=\"height: 525px; width: 100%;\" class=\"plotly-graph-div\"></div><script type=\"text/javascript\">require([\"plotly\"], function(Plotly) { window.PLOTLYENV=window.PLOTLYENV || {};window.PLOTLYENV.BASE_URL=\"https://plot.ly\";Plotly.newPlot(\"70a077ba-379f-473d-95ab-081ce75f5774\", [{\"type\": \"bar\", \"x\": [1, 2, 3, 4, 5, 6, 7, 8, 9, 10, 11, 12, 13, 14, 15, 16, 17, 18, 19, 20, 21, 22, 23, 24, 25, 26, 27, 28, 29, 30, 31, 32, 33, 34, 35, 36, 37, 38, 39, 40, 41, 42, 43, 44, 45, 46, 47, 48, 49, 50, 51, 52, 53, 54, 55, 56, 57, 58, 59, 60, 61, 62, 63, 64, 65, 66, 67, 68, 69, 70, 71, 72, 73, 74, 75, 76, 77, 78, 79, 80, 81, 82, 83, 84, 85, 86, 87, 88, 89, 90, 91, 92, 93, 94, 95, 96, 97, 98, 99, 100, 101, 102, 103, 104, 105, 106, 107, 108, 109, 110, 111, 112, 113, 114, 115, 116, 117, 118, 119, 120, 121, 122, 123, 124, 125, 126, 127, 128, 129, 130, 131, 132, 133, 134, 135, 136, 137, 138, 139, 140, 141, 142, 143], \"y\": [328.4901960784314, 451.46478873239437, 473.0339110512127, 484.5316748638817, 502.3866915847668, 513.5708862269487, 539.7483953889498, 564.4026169569172, 576.1111343214574, 604.7924048857151, 617.3352680781562, 643.8859372448393, 675.0065459675492, 713.2322227224681, 737.5763693628127, 762.5143599128862, 788.4238737042407, 815.0126707052424, 834.6980251450432, 857.2663426932451, 896.1674401450639, 913.2842061360988, 927.2926425041676, 966.7733028903234, 964.8309707316432, 989.050968257495, 1009.207352386822, 1022.0604948852194, 1035.8455975641496, 1070.5809866559662, 1101.9304442941525, 1136.2524662960584, 1141.2152353941246, 1178.8738541387218, 1196.0246003433683, 1252.612931788738, 1271.6070295587601, 1274.3476226250025, 1308.636804458814, 1343.8632904365104, 1366.5494221153701, 1389.9035003226202, 1412.3387766825547, 1444.649769262883, 1490.9266476843036, 1536.0234270092149, 1555.2452597280978, 1579.2277843510967, 1598.4918248447984, 1590.7833017025855, 1632.7576773825956, 1645.984822418178, 1650.1626694361382, 1657.6189738865962, 1643.2687524486917, 1643.7061058502281, 1658.5357013261396, 1687.0997769912592, 1667.9907373156, 1682.349823327524, 1702.676103726532, 1758.0876681937102, 1804.0439016538312, 1843.938695999686, 1874.4034268406474, 1887.0101393898049, 1906.6466082636528, 1931.8171445505686, 2011.6758483174356, 2022.885259770137, 2003.1862388873374, 1965.2232248313778, 1926.8509830007365, 1977.3414934757602, 1981.3828621711236, 1981.0704201567428, 1933.0536378823663, 1914.1678773558706, 1993.6726260043347, 1973.9805744163461, 1987.9528584590078, 2011.194095641746, 2094.859483937116, 2119.5487943044104, 2082.206878800429, 2063.6435371151, 2008.156480027151, 1999.068688065747, 2140.4373604216657, 2139.222706204385, 2129.365673912968, 2136.3407562360703, 2185.06894200568, 2205.102969860272, 2193.4328854178198, 2177.040318303382, 2093.8549283319016, 2027.8641338080931, 1974.5898165766052, 2006.923168131924, 2062.888954263954, 2072.1390355109984, 2051.368124305026, 2048.1550335506217, 2070.0368685744033, 2086.2018892041833, 2092.66674269517, 2103.4232870731703, 2139.852271995586, 2225.815852154602, 2255.936462367058, 2260.657667536712, 2482.883259668285, 2484.417102509884, 2824.7876230911943, 2940.4640046104346, 2989.286918110094, 2997.5786221097214, 3019.652462121212, 3058.357771251737, 3051.634291056166, 3069.0934226190475, 3099.9008352710616, 3148.6925091269504, 3200.6865594151955, 3234.485273010679, 3262.9537628576477, 3298.748551209016, 3377.6078503752924, 3392.4941640303696, 3419.9242021657446, 3431.930330851944, 3426.3795372050818, 3062.5384615384614, 3065.443103448276, 3083.536956521739, 3081.747641509434, 3090.699652777778, 3091.4066666666668, 2032.560975609756, 2037.9310344827586, 2038.0, 2038.0]}], {\"title\": \"Average Context Size vs. Depth in Tree\", \"xaxis\": {\"title\": \"Depth (proof tree)\"}, \"yaxis\": {\"title\": \"Size of context (char-length)\"}}, {\"showLink\": true, \"linkText\": \"Export to plot.ly\"})});</script>"
      ],
      "text/vnd.plotly.v1+html": [
       "<div id=\"70a077ba-379f-473d-95ab-081ce75f5774\" style=\"height: 525px; width: 100%;\" class=\"plotly-graph-div\"></div><script type=\"text/javascript\">require([\"plotly\"], function(Plotly) { window.PLOTLYENV=window.PLOTLYENV || {};window.PLOTLYENV.BASE_URL=\"https://plot.ly\";Plotly.newPlot(\"70a077ba-379f-473d-95ab-081ce75f5774\", [{\"type\": \"bar\", \"x\": [1, 2, 3, 4, 5, 6, 7, 8, 9, 10, 11, 12, 13, 14, 15, 16, 17, 18, 19, 20, 21, 22, 23, 24, 25, 26, 27, 28, 29, 30, 31, 32, 33, 34, 35, 36, 37, 38, 39, 40, 41, 42, 43, 44, 45, 46, 47, 48, 49, 50, 51, 52, 53, 54, 55, 56, 57, 58, 59, 60, 61, 62, 63, 64, 65, 66, 67, 68, 69, 70, 71, 72, 73, 74, 75, 76, 77, 78, 79, 80, 81, 82, 83, 84, 85, 86, 87, 88, 89, 90, 91, 92, 93, 94, 95, 96, 97, 98, 99, 100, 101, 102, 103, 104, 105, 106, 107, 108, 109, 110, 111, 112, 113, 114, 115, 116, 117, 118, 119, 120, 121, 122, 123, 124, 125, 126, 127, 128, 129, 130, 131, 132, 133, 134, 135, 136, 137, 138, 139, 140, 141, 142, 143], \"y\": [328.4901960784314, 451.46478873239437, 473.0339110512127, 484.5316748638817, 502.3866915847668, 513.5708862269487, 539.7483953889498, 564.4026169569172, 576.1111343214574, 604.7924048857151, 617.3352680781562, 643.8859372448393, 675.0065459675492, 713.2322227224681, 737.5763693628127, 762.5143599128862, 788.4238737042407, 815.0126707052424, 834.6980251450432, 857.2663426932451, 896.1674401450639, 913.2842061360988, 927.2926425041676, 966.7733028903234, 964.8309707316432, 989.050968257495, 1009.207352386822, 1022.0604948852194, 1035.8455975641496, 1070.5809866559662, 1101.9304442941525, 1136.2524662960584, 1141.2152353941246, 1178.8738541387218, 1196.0246003433683, 1252.612931788738, 1271.6070295587601, 1274.3476226250025, 1308.636804458814, 1343.8632904365104, 1366.5494221153701, 1389.9035003226202, 1412.3387766825547, 1444.649769262883, 1490.9266476843036, 1536.0234270092149, 1555.2452597280978, 1579.2277843510967, 1598.4918248447984, 1590.7833017025855, 1632.7576773825956, 1645.984822418178, 1650.1626694361382, 1657.6189738865962, 1643.2687524486917, 1643.7061058502281, 1658.5357013261396, 1687.0997769912592, 1667.9907373156, 1682.349823327524, 1702.676103726532, 1758.0876681937102, 1804.0439016538312, 1843.938695999686, 1874.4034268406474, 1887.0101393898049, 1906.6466082636528, 1931.8171445505686, 2011.6758483174356, 2022.885259770137, 2003.1862388873374, 1965.2232248313778, 1926.8509830007365, 1977.3414934757602, 1981.3828621711236, 1981.0704201567428, 1933.0536378823663, 1914.1678773558706, 1993.6726260043347, 1973.9805744163461, 1987.9528584590078, 2011.194095641746, 2094.859483937116, 2119.5487943044104, 2082.206878800429, 2063.6435371151, 2008.156480027151, 1999.068688065747, 2140.4373604216657, 2139.222706204385, 2129.365673912968, 2136.3407562360703, 2185.06894200568, 2205.102969860272, 2193.4328854178198, 2177.040318303382, 2093.8549283319016, 2027.8641338080931, 1974.5898165766052, 2006.923168131924, 2062.888954263954, 2072.1390355109984, 2051.368124305026, 2048.1550335506217, 2070.0368685744033, 2086.2018892041833, 2092.66674269517, 2103.4232870731703, 2139.852271995586, 2225.815852154602, 2255.936462367058, 2260.657667536712, 2482.883259668285, 2484.417102509884, 2824.7876230911943, 2940.4640046104346, 2989.286918110094, 2997.5786221097214, 3019.652462121212, 3058.357771251737, 3051.634291056166, 3069.0934226190475, 3099.9008352710616, 3148.6925091269504, 3200.6865594151955, 3234.485273010679, 3262.9537628576477, 3298.748551209016, 3377.6078503752924, 3392.4941640303696, 3419.9242021657446, 3431.930330851944, 3426.3795372050818, 3062.5384615384614, 3065.443103448276, 3083.536956521739, 3081.747641509434, 3090.699652777778, 3091.4066666666668, 2032.560975609756, 2037.9310344827586, 2038.0, 2038.0]}], {\"title\": \"Average Context Size vs. Depth in Tree\", \"xaxis\": {\"title\": \"Depth (proof tree)\"}, \"yaxis\": {\"title\": \"Size of context (char-length)\"}}, {\"showLink\": true, \"linkText\": \"Export to plot.ly\"})});</script>"
      ]
     },
     "metadata": {},
     "output_type": "display_data"
    }
   ],
   "source": [
    "import plotly\n",
    "import plotly.plotly as py\n",
    "import plotly.graph_objs as go\n",
    "\n",
    "avg_depth_ctx_size = tactr_stats.avg_depth_size(DepthMode.CHAR_CTX).items()\n",
    "data = [go.Bar(x=[p[0] for p in avg_depth_ctx_size], y=[p[1] for p in avg_depth_ctx_size])]\n",
    "\n",
    "layout = go.Layout(\n",
    "    title='Average Context Size vs. Depth in Tree',\n",
    "    xaxis=dict(\n",
    "        title='Depth (proof tree)'\n",
    "    ),\n",
    "    yaxis=dict(\n",
    "        title='Size of context (char-length)',\n",
    "    ),\n",
    ")\n",
    "fig = go.Figure(data=data, layout=layout)\n",
    "plotly.offline.init_notebook_mode(connected=True)\n",
    "plotly.offline.iplot(fig, filename='average-context-size')"
   ]
  },
  {
   "cell_type": "code",
   "execution_count": null,
   "metadata": {
    "scrolled": true
   },
   "outputs": [],
   "source": [
    "import plotly\n",
    "import plotly.plotly as py\n",
    "import plotly.graph_objs as go\n",
    "\n",
    "avg_depth_goal_size = tactr_stats.avg_depth_size(DepthMode.CHAR_GOAL).items()\n",
    "data = [go.Bar(x=[p[0] for p in avg_depth_goal_size], y=[p[1] for p in avg_depth_goal_size])]\n",
    "\n",
    "layout = go.Layout(\n",
    "    title='Average Goal Size vs. Depth in Tree',\n",
    "    xaxis=dict(\n",
    "        title='Depth (proof tree)'\n",
    "    ),\n",
    "    yaxis=dict(\n",
    "        title='Size of goal (char-length)',\n",
    "    ),\n",
    ")\n",
    "fig = go.Figure(data=data, layout=layout)\n",
    "plotly.offline.init_notebook_mode(connected=True)\n",
    "plotly.offline.iplot(fig, filename='average-goal-size')"
   ]
  },
  {
   "cell_type": "code",
   "execution_count": null,
   "metadata": {},
   "outputs": [],
   "source": [
    "import plotly\n",
    "import plotly.plotly as py\n",
    "import plotly.graph_objs as go\n",
    "\n",
    "avg_depth_astctx_size = tactr_stats.avg_depth_size(DepthMode.AST_CTX).items()\n",
    "data = [go.Bar(x=[p[0] for p in avg_depth_astctx_size], y=[p[1] for p in avg_depth_astctx_size])]\n",
    "\n",
    "layout = go.Layout(\n",
    "    title='Average Context Size vs. Depth in Tree',\n",
    "    xaxis=dict(\n",
    "        title='Depth (proof tree)'\n",
    "    ),\n",
    "    yaxis=dict(\n",
    "        title='Size of context (ast-size)',\n",
    "    ),\n",
    ")\n",
    "fig = go.Figure(data=data, layout=layout)\n",
    "plotly.offline.init_notebook_mode(connected=True)\n",
    "plotly.offline.iplot(fig, filename='average-context-size')"
   ]
  },
  {
   "cell_type": "code",
   "execution_count": null,
   "metadata": {},
   "outputs": [],
   "source": [
    "import plotly\n",
    "import plotly.plotly as py\n",
    "import plotly.graph_objs as go\n",
    "\n",
    "avg_depth_astgoal_size = tactr_stats.avg_depth_size(DepthMode.AST_GOAL).items()\n",
    "data = [go.Bar(x=[p[0] for p in avg_depth_astgoal_size], y=[p[1] for p in avg_depth_astgoal_size])]\n",
    "\n",
    "layout = go.Layout(\n",
    "    title='Average Goal Size vs. Depth in Tree',\n",
    "    xaxis=dict(\n",
    "        title='Depth (proof tree)'\n",
    "    ),\n",
    "    yaxis=dict(\n",
    "        title='Size of context (ast-size)',\n",
    "    ),\n",
    ")\n",
    "fig = go.Figure(data=data, layout=layout)\n",
    "plotly.offline.init_notebook_mode(connected=True)\n",
    "plotly.offline.iplot(fig, filename='average-context-size')"
   ]
  },
  {
   "cell_type": "code",
   "execution_count": null,
   "metadata": {
    "collapsed": true
   },
   "outputs": [],
   "source": []
  }
 ],
 "metadata": {
  "kernelspec": {
   "display_name": "ragnarok3",
   "language": "python",
   "name": "ragnarok3"
  },
  "language_info": {
   "codemirror_mode": {
    "name": "ipython",
    "version": 3
   },
   "file_extension": ".py",
   "mimetype": "text/x-python",
   "name": "python",
   "nbconvert_exporter": "python",
   "pygments_lexer": "ipython3",
   "version": "3.6.2"
  }
 },
 "nbformat": 4,
 "nbformat_minor": 2
}
