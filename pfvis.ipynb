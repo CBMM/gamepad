{
 "cells": [
  {
   "cell_type": "code",
   "execution_count": 1,
   "metadata": {},
   "outputs": [
    {
     "name": "stdout",
     "output_type": "stream",
     "text": [
      "progress: 0.12% @ plus_zero\n",
      "progress: 23.46% @ S_comm\n",
      "progress: 64.94% @ plus_comm\n"
     ]
    },
    {
     "data": {
      "text/html": [
       "<script>requirejs.config({paths: { 'plotly': ['https://cdn.plot.ly/plotly-latest.min']},});if(!window.Plotly) {{require(['plotly'],function(plotly) {window.Plotly=plotly;});}}</script>"
      ],
      "text/vnd.plotly.v1+html": [
       "<script>requirejs.config({paths: { 'plotly': ['https://cdn.plot.ly/plotly-latest.min']},});if(!window.Plotly) {{require(['plotly'],function(plotly) {window.Plotly=plotly;});}}</script>"
      ]
     },
     "metadata": {},
     "output_type": "display_data"
    },
    {
     "data": {
      "application/vnd.plotly.v1+json": {
       "data": [
        {
         "hoverinfo": null,
         "line": {
          "color": "#888",
          "width": 0.5
         },
         "mode": "lines",
         "type": "scatter",
         "x": [
          0.25728691715185475,
          0.021085299688619916,
          null,
          0.25728691715185475,
          0.2143127655983972,
          null,
          0.021085299688619916,
          -0.22323749143864144,
          null,
          0.2143127655983972,
          0.1903695450050258,
          null,
          -0.22323749143864144,
          -0.4565039258514225,
          null,
          -0.4565039258514225,
          -0.6754909146491717,
          null,
          0.1903695450050258,
          0.16593485532077654,
          null,
          0.16593485532077654,
          0.16838813703047872,
          null,
          0.16838813703047872,
          0.16262672004346818,
          null,
          0.16262672004346818,
          0.17522809210061446,
          null
         ],
         "y": [
          0.6578039616263802,
          0.512893904946262,
          null,
          0.6578039616263802,
          0.3838892434761641,
          null,
          0.512893904946262,
          0.38178635912916054,
          null,
          0.3838892434761641,
          0.10767055269197168,
          null,
          0.38178635912916054,
          0.23184302752577735,
          null,
          0.23184302752577735,
          0.061672816577190134,
          null,
          0.10767055269197168,
          -0.16857998024690282,
          null,
          -0.16857998024690282,
          -0.4459069863823577,
          null,
          -0.4459069863823577,
          -0.7230728993436454,
          null,
          -0.7230728993436454,
          -1,
          null
         ]
        },
        {
         "hoverinfo": "text",
         "marker": {
          "color": [],
          "colorbar": {
           "thickness": 15,
           "title": "Node Info",
           "titleside": "right",
           "xanchor": "left"
          },
          "colorscale": "YIGnBu",
          "line": {
           "width": 2
          },
          "reversescale": true,
          "showscale": true,
          "size": 10
         },
         "mode": "markers",
         "text": [
          "gid: 10<br><br>=====================<br>forall n m : nat, n + m = m + n",
          "gid: 15<br><br>=====================<br>forall m : nat, 0 + m = m + 0",
          "gid: 18<br>n: nat<br>IHn: forall m : nat, n + m = m + n<br>=====================<br>forall m : nat, S n + m = m + S n",
          "gid: 19<br>m: nat<br>=====================<br>0 + m = m + 0",
          "gid: 21<br>m: nat<br>=====================<br>m = m + 0",
          "gid: t0",
          "gid: 22<br>n: nat<br>IHn: forall m : nat, n + m = m + n<br>m: nat<br>=====================<br>S n + m = m + S n",
          "gid: 24<br>n: nat<br>IHn: forall m : nat, n + m = m + n<br>m: nat<br>=====================<br>S (n + m) = m + S n",
          "gid: 25<br>n: nat<br>IHn: forall m : nat, n + m = m + n<br>m: nat<br>=====================<br>S (m + n) = m + S n",
          "gid: 26<br>n: nat<br>IHn: forall m : nat, n + m = m + n<br>m: nat<br>=====================<br>S (m + n) = m + S n",
          "gid: t1"
         ],
         "type": "scatter",
         "x": [
          0.25728691715185475,
          0.021085299688619916,
          0.2143127655983972,
          -0.22323749143864144,
          -0.4565039258514225,
          -0.6754909146491717,
          0.1903695450050258,
          0.16593485532077654,
          0.16838813703047872,
          0.16262672004346818,
          0.17522809210061446
         ],
         "y": [
          0.6578039616263802,
          0.512893904946262,
          0.3838892434761641,
          0.38178635912916054,
          0.23184302752577735,
          0.061672816577190134,
          0.10767055269197168,
          -0.16857998024690282,
          -0.4459069863823577,
          -0.7230728993436454,
          -1
         ]
        },
        {
         "hoverinfo": "text",
         "marker": {
          "color": [],
          "colorscale": "YIGnBu",
          "line": {
           "width": 2
          },
          "reversescale": true,
          "showscale": true,
          "size": 5
         },
         "mode": "markers",
         "text": [
          "ftac: induction n",
          "ftac: induction n",
          "ftac: intro",
          "ftac: simpl",
          "ftac: apply plus_zero",
          "ftac: intro",
          "ftac: simpl",
          "ftac: rewrite IHn",
          "ftac: simpl",
          "ftac: apply S_comm"
         ],
         "type": "scatter",
         "x": [
          0.13918610842023735,
          0.235799841375126,
          -0.10107609587501076,
          -0.339870708645032,
          -0.5659974202502971,
          0.20234115530171148,
          0.17815220016290118,
          0.16716149617562764,
          0.16550742853697345,
          0.16892740607204132
         ],
         "y": [
          0.5853489332863211,
          0.5208466025512721,
          0.4473401320377113,
          0.3068146933274689,
          0.14675792205148375,
          0.2457798980840679,
          -0.030454713777465572,
          -0.30724348331463025,
          -0.5844899428630015,
          -0.8615364496718227
         ]
        }
       ],
       "layout": {
        "annotations": [
         {
          "showarrow": false,
          "x": 0.005,
          "xref": "paper",
          "y": -0.002,
          "yref": "paper"
         }
        ],
        "hovermode": "closest",
        "margin": {
         "b": 20,
         "l": 5,
         "r": 5,
         "t": 40
        },
        "showlegend": false,
        "title": "<br>Reconstruction of plus_comm",
        "titlefont": {
         "size": 16
        },
        "xaxis": {
         "showgrid": false,
         "showticklabels": false,
         "zeroline": false
        },
        "yaxis": {
         "showgrid": false,
         "showticklabels": false,
         "zeroline": false
        }
       }
      },
      "text/html": [
       "<div id=\"37a408ed-4862-43fb-ab63-32ca2c0cf57f\" style=\"height: 525px; width: 100%;\" class=\"plotly-graph-div\"></div><script type=\"text/javascript\">require([\"plotly\"], function(Plotly) { window.PLOTLYENV=window.PLOTLYENV || {};window.PLOTLYENV.BASE_URL=\"https://plot.ly\";Plotly.newPlot(\"37a408ed-4862-43fb-ab63-32ca2c0cf57f\", [{\"type\": \"scatter\", \"x\": [0.25728691715185475, 0.021085299688619916, null, 0.25728691715185475, 0.2143127655983972, null, 0.021085299688619916, -0.22323749143864144, null, 0.2143127655983972, 0.1903695450050258, null, -0.22323749143864144, -0.4565039258514225, null, -0.4565039258514225, -0.6754909146491717, null, 0.1903695450050258, 0.16593485532077654, null, 0.16593485532077654, 0.16838813703047872, null, 0.16838813703047872, 0.16262672004346818, null, 0.16262672004346818, 0.17522809210061446, null], \"y\": [0.6578039616263802, 0.512893904946262, null, 0.6578039616263802, 0.3838892434761641, null, 0.512893904946262, 0.38178635912916054, null, 0.3838892434761641, 0.10767055269197168, null, 0.38178635912916054, 0.23184302752577735, null, 0.23184302752577735, 0.061672816577190134, null, 0.10767055269197168, -0.16857998024690282, null, -0.16857998024690282, -0.4459069863823577, null, -0.4459069863823577, -0.7230728993436454, null, -0.7230728993436454, -1.0, null], \"line\": {\"width\": 0.5, \"color\": \"#888\"}, \"hoverinfo\": null, \"mode\": \"lines\"}, {\"type\": \"scatter\", \"x\": [0.25728691715185475, 0.021085299688619916, 0.2143127655983972, -0.22323749143864144, -0.4565039258514225, -0.6754909146491717, 0.1903695450050258, 0.16593485532077654, 0.16838813703047872, 0.16262672004346818, 0.17522809210061446], \"y\": [0.6578039616263802, 0.512893904946262, 0.3838892434761641, 0.38178635912916054, 0.23184302752577735, 0.061672816577190134, 0.10767055269197168, -0.16857998024690282, -0.4459069863823577, -0.7230728993436454, -1.0], \"text\": [\"gid: 10<br><br>=====================<br>forall n m : nat, n + m = m + n\", \"gid: 15<br><br>=====================<br>forall m : nat, 0 + m = m + 0\", \"gid: 18<br>n: nat<br>IHn: forall m : nat, n + m = m + n<br>=====================<br>forall m : nat, S n + m = m + S n\", \"gid: 19<br>m: nat<br>=====================<br>0 + m = m + 0\", \"gid: 21<br>m: nat<br>=====================<br>m = m + 0\", \"gid: t0\", \"gid: 22<br>n: nat<br>IHn: forall m : nat, n + m = m + n<br>m: nat<br>=====================<br>S n + m = m + S n\", \"gid: 24<br>n: nat<br>IHn: forall m : nat, n + m = m + n<br>m: nat<br>=====================<br>S (n + m) = m + S n\", \"gid: 25<br>n: nat<br>IHn: forall m : nat, n + m = m + n<br>m: nat<br>=====================<br>S (m + n) = m + S n\", \"gid: 26<br>n: nat<br>IHn: forall m : nat, n + m = m + n<br>m: nat<br>=====================<br>S (m + n) = m + S n\", \"gid: t1\"], \"mode\": \"markers\", \"hoverinfo\": \"text\", \"marker\": {\"showscale\": true, \"colorscale\": \"YIGnBu\", \"reversescale\": true, \"color\": [], \"size\": 10, \"colorbar\": {\"thickness\": 15, \"title\": \"Node Info\", \"xanchor\": \"left\", \"titleside\": \"right\"}, \"line\": {\"width\": 2}}}, {\"type\": \"scatter\", \"x\": [0.13918610842023735, 0.235799841375126, -0.10107609587501076, -0.339870708645032, -0.5659974202502971, 0.20234115530171148, 0.17815220016290118, 0.16716149617562764, 0.16550742853697345, 0.16892740607204132], \"y\": [0.5853489332863211, 0.5208466025512721, 0.4473401320377113, 0.3068146933274689, 0.14675792205148375, 0.2457798980840679, -0.030454713777465572, -0.30724348331463025, -0.5844899428630015, -0.8615364496718227], \"text\": [\"ftac: induction n\", \"ftac: induction n\", \"ftac: intro\", \"ftac: simpl\", \"ftac: apply plus_zero\", \"ftac: intro\", \"ftac: simpl\", \"ftac: rewrite IHn\", \"ftac: simpl\", \"ftac: apply S_comm\"], \"mode\": \"markers\", \"hoverinfo\": \"text\", \"marker\": {\"showscale\": true, \"colorscale\": \"YIGnBu\", \"reversescale\": true, \"color\": [], \"size\": 5, \"line\": {\"width\": 2}}}], {\"title\": \"<br>Reconstruction of plus_comm\", \"titlefont\": {\"size\": 16}, \"showlegend\": false, \"hovermode\": \"closest\", \"margin\": {\"b\": 20, \"l\": 5, \"r\": 5, \"t\": 40}, \"annotations\": [{\"showarrow\": false, \"xref\": \"paper\", \"yref\": \"paper\", \"x\": 0.005, \"y\": -0.002}], \"xaxis\": {\"showgrid\": false, \"zeroline\": false, \"showticklabels\": false}, \"yaxis\": {\"showgrid\": false, \"zeroline\": false, \"showticklabels\": false}}, {\"showLink\": true, \"linkText\": \"Export to plot.ly\"})});</script>"
      ],
      "text/vnd.plotly.v1+html": [
       "<div id=\"37a408ed-4862-43fb-ab63-32ca2c0cf57f\" style=\"height: 525px; width: 100%;\" class=\"plotly-graph-div\"></div><script type=\"text/javascript\">require([\"plotly\"], function(Plotly) { window.PLOTLYENV=window.PLOTLYENV || {};window.PLOTLYENV.BASE_URL=\"https://plot.ly\";Plotly.newPlot(\"37a408ed-4862-43fb-ab63-32ca2c0cf57f\", [{\"type\": \"scatter\", \"x\": [0.25728691715185475, 0.021085299688619916, null, 0.25728691715185475, 0.2143127655983972, null, 0.021085299688619916, -0.22323749143864144, null, 0.2143127655983972, 0.1903695450050258, null, -0.22323749143864144, -0.4565039258514225, null, -0.4565039258514225, -0.6754909146491717, null, 0.1903695450050258, 0.16593485532077654, null, 0.16593485532077654, 0.16838813703047872, null, 0.16838813703047872, 0.16262672004346818, null, 0.16262672004346818, 0.17522809210061446, null], \"y\": [0.6578039616263802, 0.512893904946262, null, 0.6578039616263802, 0.3838892434761641, null, 0.512893904946262, 0.38178635912916054, null, 0.3838892434761641, 0.10767055269197168, null, 0.38178635912916054, 0.23184302752577735, null, 0.23184302752577735, 0.061672816577190134, null, 0.10767055269197168, -0.16857998024690282, null, -0.16857998024690282, -0.4459069863823577, null, -0.4459069863823577, -0.7230728993436454, null, -0.7230728993436454, -1.0, null], \"line\": {\"width\": 0.5, \"color\": \"#888\"}, \"hoverinfo\": null, \"mode\": \"lines\"}, {\"type\": \"scatter\", \"x\": [0.25728691715185475, 0.021085299688619916, 0.2143127655983972, -0.22323749143864144, -0.4565039258514225, -0.6754909146491717, 0.1903695450050258, 0.16593485532077654, 0.16838813703047872, 0.16262672004346818, 0.17522809210061446], \"y\": [0.6578039616263802, 0.512893904946262, 0.3838892434761641, 0.38178635912916054, 0.23184302752577735, 0.061672816577190134, 0.10767055269197168, -0.16857998024690282, -0.4459069863823577, -0.7230728993436454, -1.0], \"text\": [\"gid: 10<br><br>=====================<br>forall n m : nat, n + m = m + n\", \"gid: 15<br><br>=====================<br>forall m : nat, 0 + m = m + 0\", \"gid: 18<br>n: nat<br>IHn: forall m : nat, n + m = m + n<br>=====================<br>forall m : nat, S n + m = m + S n\", \"gid: 19<br>m: nat<br>=====================<br>0 + m = m + 0\", \"gid: 21<br>m: nat<br>=====================<br>m = m + 0\", \"gid: t0\", \"gid: 22<br>n: nat<br>IHn: forall m : nat, n + m = m + n<br>m: nat<br>=====================<br>S n + m = m + S n\", \"gid: 24<br>n: nat<br>IHn: forall m : nat, n + m = m + n<br>m: nat<br>=====================<br>S (n + m) = m + S n\", \"gid: 25<br>n: nat<br>IHn: forall m : nat, n + m = m + n<br>m: nat<br>=====================<br>S (m + n) = m + S n\", \"gid: 26<br>n: nat<br>IHn: forall m : nat, n + m = m + n<br>m: nat<br>=====================<br>S (m + n) = m + S n\", \"gid: t1\"], \"mode\": \"markers\", \"hoverinfo\": \"text\", \"marker\": {\"showscale\": true, \"colorscale\": \"YIGnBu\", \"reversescale\": true, \"color\": [], \"size\": 10, \"colorbar\": {\"thickness\": 15, \"title\": \"Node Info\", \"xanchor\": \"left\", \"titleside\": \"right\"}, \"line\": {\"width\": 2}}}, {\"type\": \"scatter\", \"x\": [0.13918610842023735, 0.235799841375126, -0.10107609587501076, -0.339870708645032, -0.5659974202502971, 0.20234115530171148, 0.17815220016290118, 0.16716149617562764, 0.16550742853697345, 0.16892740607204132], \"y\": [0.5853489332863211, 0.5208466025512721, 0.4473401320377113, 0.3068146933274689, 0.14675792205148375, 0.2457798980840679, -0.030454713777465572, -0.30724348331463025, -0.5844899428630015, -0.8615364496718227], \"text\": [\"ftac: induction n\", \"ftac: induction n\", \"ftac: intro\", \"ftac: simpl\", \"ftac: apply plus_zero\", \"ftac: intro\", \"ftac: simpl\", \"ftac: rewrite IHn\", \"ftac: simpl\", \"ftac: apply S_comm\"], \"mode\": \"markers\", \"hoverinfo\": \"text\", \"marker\": {\"showscale\": true, \"colorscale\": \"YIGnBu\", \"reversescale\": true, \"color\": [], \"size\": 5, \"line\": {\"width\": 2}}}], {\"title\": \"<br>Reconstruction of plus_comm\", \"titlefont\": {\"size\": 16}, \"showlegend\": false, \"hovermode\": \"closest\", \"margin\": {\"b\": 20, \"l\": 5, \"r\": 5, \"t\": 40}, \"annotations\": [{\"showarrow\": false, \"xref\": \"paper\", \"yref\": \"paper\", \"x\": 0.005, \"y\": -0.002}], \"xaxis\": {\"showgrid\": false, \"zeroline\": false, \"showticklabels\": false}, \"yaxis\": {\"showgrid\": false, \"zeroline\": false, \"showticklabels\": false}}, {\"showLink\": true, \"linkText\": \"Export to plot.ly\"})});</script>"
      ]
     },
     "metadata": {},
     "output_type": "display_data"
    }
   ],
   "source": [
    "from ml4tputils.visualize import *\n",
    "\n",
    "#tgtlem = \"foo1\"\n",
    "#file = \"/Users/dehuang/Documents/research/ml4tp/ex/foo1.dump\"\n",
    "tgtlem = \"plus_comm\"\n",
    "file = \"/Users/dehuang/Documents/research/ml4tp/ex/foo9.dump\"\n",
    "vis = Visualize(f_display=True, f_jupyter=True, f_verbose=False, rawtac_file=\"rawtac.log\", tgtlem=tgtlem)\n",
    "tactrs = vis.visualize_file(file)"
   ]
  },
  {
   "cell_type": "code",
   "execution_count": null,
   "metadata": {},
   "outputs": [],
   "source": [
    "from ml4tputils.visualize import *\n",
    "\n",
    "tgtlem = \"minnormal_solvable_Fitting_center\"\n",
    "file = \"/Users/dehuang/Documents/research/ml4tp/data/odd-order/BGsection1.v.dump\"\n",
    "vis = Visualize(f_display=True, f_jupyter=True, f_verbose=False, rawtac_file=\"rawtac.log\", tgtlem=tgtlem)\n",
    "tactrs = vis.visualize_file(file)"
   ]
  },
  {
   "cell_type": "code",
   "execution_count": null,
   "metadata": {},
   "outputs": [],
   "source": [
    "from ml4tputils.exp_tactr_stats import *\n",
    "\n",
    "# Feit-Thompson (Odd-order theorem)\n",
    "stats = load_tactr_stats(\"log/tactr-build-10.log\")\n",
    "_ = descrip_tacs(stats)\n",
    "_ = descrip_tacsts(stats)\n",
    "_ = descrip_term(stats)\n",
    "_ = descrip_deadend(stats)"
   ]
  },
  {
   "cell_type": "code",
   "execution_count": null,
   "metadata": {},
   "outputs": [],
   "source": [
    "_ = gather_have_info(stats)"
   ]
  },
  {
   "cell_type": "code",
   "execution_count": null,
   "metadata": {},
   "outputs": [],
   "source": [
    "import plotly\n",
    "import plotly.plotly as py\n",
    "import plotly.graph_objs as go\n",
    "\n",
    "tactic_hist = avg_hist(stats, f_sort=True)\n",
    "data = [go.Bar(x=[p[0] for p in tactic_hist], y=[p[1] for p in tactic_hist])]\n",
    "\n",
    "layout = go.Layout(\n",
    "    title='Tactic Usage (all lemmas)',\n",
    "    xaxis=dict(\n",
    "        title='Tactic'\n",
    "    ),\n",
    "    yaxis=dict(\n",
    "        title='Usage',\n",
    "    ),\n",
    ")\n",
    "fig = go.Figure(data=data, layout=layout)\n",
    "plotly.offline.init_notebook_mode(connected=True)\n",
    "plotly.offline.iplot(fig, filename='tactic-hist')"
   ]
  },
  {
   "cell_type": "code",
   "execution_count": null,
   "metadata": {},
   "outputs": [],
   "source": [
    "import plotly\n",
    "import plotly.plotly as py\n",
    "import plotly.graph_objs as go\n",
    "\n",
    "avg_depth_ctx_size = avg_depth_size(stats, DepthMode.CONTEXT).items()\n",
    "data = [go.Bar(x=[p[0] for p in avg_depth_ctx_size], y=[p[1] for p in avg_depth_ctx_size])]\n",
    "\n",
    "layout = go.Layout(\n",
    "    title='Average Context Size vs. Depth in Tree',\n",
    "    xaxis=dict(\n",
    "        title='Depth (proof tree)'\n",
    "    ),\n",
    "    yaxis=dict(\n",
    "        title='Size of context (char-length for now...)',\n",
    "    ),\n",
    ")\n",
    "fig = go.Figure(data=data, layout=layout)\n",
    "plotly.offline.init_notebook_mode(connected=True)\n",
    "plotly.offline.iplot(fig, filename='average-context-size')"
   ]
  },
  {
   "cell_type": "code",
   "execution_count": null,
   "metadata": {
    "scrolled": true
   },
   "outputs": [],
   "source": [
    "import plotly\n",
    "import plotly.plotly as py\n",
    "import plotly.graph_objs as go\n",
    "\n",
    "avg_depth_goal_size = avg_depth_size(stats, DepthMode.GOAL).items()\n",
    "data = [go.Bar(x=[p[0] for p in avg_depth_ctx_size], y=[p[1] for p in avg_depth_goal_size])]\n",
    "\n",
    "layout = go.Layout(\n",
    "    title='Average Goal Size vs. Depth in Tree',\n",
    "    xaxis=dict(\n",
    "        title='Depth (proof tree)'\n",
    "    ),\n",
    "    yaxis=dict(\n",
    "        title='Size of goal (char-length for now...)',\n",
    "    ),\n",
    ")\n",
    "fig = go.Figure(data=data, layout=layout)\n",
    "plotly.offline.init_notebook_mode(connected=True)\n",
    "plotly.offline.iplot(fig, filename='average-goal-size')"
   ]
  },
  {
   "cell_type": "code",
   "execution_count": null,
   "metadata": {
    "collapsed": true
   },
   "outputs": [],
   "source": []
  }
 ],
 "metadata": {
  "kernelspec": {
   "display_name": "ragnarok3",
   "language": "python",
   "name": "ragnarok3"
  },
  "language_info": {
   "codemirror_mode": {
    "name": "ipython",
    "version": 3
   },
   "file_extension": ".py",
   "mimetype": "text/x-python",
   "name": "python",
   "nbconvert_exporter": "python",
   "pygments_lexer": "ipython3",
   "version": "3.6.2"
  }
 },
 "nbformat": 4,
 "nbformat_minor": 2
}
