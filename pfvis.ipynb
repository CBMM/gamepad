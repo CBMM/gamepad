{
 "cells": [
  {
   "cell_type": "code",
   "execution_count": null,
   "metadata": {},
   "outputs": [],
   "source": [
    "from ml4tputils.visualize import *\n",
    "from ml4tputils.recon.tactr import *\n",
    "\n",
    "# tgtlem = \"split_pat\"\n",
    "# tgtlem = \"case_split\"\n",
    "# file = \"/Users/dehuang/Documents/research/ml4tp/ex/test.dump2\"\n",
    "\n",
    "# tgtlem = \"foo\"\n",
    "# file = \"/Users/dehuang/Documents/research/ml4tp/ex/do.dump\"\n",
    "\n",
    "# tgtlem = \"rewrite_eq_0\"\n",
    "# file = \"/Users/dehuang/Documents/research/ml4tp/ex/alg.dump\"\n",
    "\n",
    "# tgtlem = \"rewrite_eq_0\"\n",
    "# file = \"/Users/dehuang/Documents/research/ml4tp/theorems.dump\"\n",
    "\n",
    "tgtlem = \"plus_O_nop\"\n",
    "file = \"/Users/dehuang/Documents/research/ml4tp/ex/running.dump\"\n",
    "\n",
    "vis = Visualize(f_display=True, f_jupyter=True, f_verbose=False)\n",
    "tactr = vis.visualize_lemma(file, tgtlem)\n",
    "\n",
    "# for _, tacs in tactr.tactics().items():\n",
    "#     print(\"HERE\")\n",
    "#     for tac in tacs:\n",
    "#         print(tac.ftac)\n",
    "# for edge in tactr.graph.edges():\n",
    "#     print(\"SRC\", edge[0].gid, \"TGT\", edge[1].gid)\n",
    "# print(tactr.graph.out_degree([TacTrNode(5, TacStKind.LIVE)]))"
   ]
  },
  {
   "cell_type": "code",
   "execution_count": null,
   "metadata": {
    "collapsed": true
   },
   "outputs": [],
   "source": [
    "from ml4tputils.visualize import *\n",
    "from ml4tputils.recon.tactr import *\n",
    "\n",
    "# tgtlem = \"subset_trans\"\n",
    "# tgtlem = \"subset_trans2\"\n",
    "tgtlem = \"HilbertS\"\n",
    "# tgtlem = \"andb_sym2\"\n",
    "# file = \"/Users/dehuang/Documents/research/ml4tp/ex/tutorial.dump\"\n",
    "#tgtlem = \"plus_comm\"\n",
    "#file = \"/Users/dehuang/Documents/research/ml4tp/ex/foo9.dump\"\n",
    "#tgtlem = \"plus_O\"\n",
    "#file = \"/Users/dehuang/Documents/research/ml4tp/ex/done.dump\"\n",
    "vis = Visualize(f_display=True, f_jupyter=True, f_verbose=False)\n",
    "tactr = vis.visualize_lemma(file, tgtlem)\n",
    "\n",
    "# for _, tacs in tactr.tactics().items():\n",
    "#     print(\"HERE\")\n",
    "#     for tac in tacs:\n",
    "#         print(tac.ftac)\n",
    "for edge in tactr.graph.edges():\n",
    "    print(\"SRC\", edge[0].gid, \"TGT\", edge[1].gid)\n",
    "# print(tactr.graph.out_degree([TacTrNode(5, TacStKind.LIVE)]))"
   ]
  },
  {
   "cell_type": "code",
   "execution_count": null,
   "metadata": {
    "collapsed": true
   },
   "outputs": [],
   "source": [
    "from ml4tputils.visualize import *\n",
    "\n",
    "tgtlem = \"rewrite_eq_0\"\n",
    "file = \"/Users/dehuang/Documents/research/ml4tp/ml4tputils/ml/rewriter/rewrite/theorems.dump\"\n",
    "#tgtlem = \"plus_comm\"\n",
    "#file = \"/Users/dehuang/Documents/research/ml4tp/ex/foo9.dump\"\n",
    "#tgtlem = \"plus_O\"\n",
    "#file = \"/Users/dehuang/Documents/research/ml4tp/ex/done.dump\"\n",
    "vis = Visualize(f_display=True, f_jupyter=True, f_verbose=False)\n",
    "tactrs = vis.visualize_lemma(file, tgtlem)"
   ]
  },
  {
   "cell_type": "code",
   "execution_count": null,
   "metadata": {
    "collapsed": true,
    "scrolled": true
   },
   "outputs": [],
   "source": [
    "from ml4tputils.visualize import *\n",
    "\n",
    "tgtlem = \"iden_eq_short\"\n",
    "file = \"/Users/dehuang/Documents/research/ml4tp/ex/thm1.dump\"\n",
    "#tgtlem = \"plus_comm\"\n",
    "#file = \"/Users/dehuang/Documents/research/ml4tp/ex/foo9.dump\"\n",
    "#tgtlem = \"plus_O\"\n",
    "#file = \"/Users/dehuang/Documents/research/ml4tp/ex/done.dump\"\n",
    "vis = Visualize(f_display=True, f_jupyter=True, f_verbose=False)\n",
    "tactrs = vis.visualize_lemma(file, tgtlem)"
   ]
  },
  {
   "cell_type": "code",
   "execution_count": null,
   "metadata": {},
   "outputs": [],
   "source": [
    "from ml4tputils.visualize import *\n",
    "\n",
    "# tgtlem = \"focal_subgroup_gen\"\n",
    "# tgtlem = \"critical_odd\"\n",
    "# tgtlem = \"p_elt_gen_normal\"\n",
    "# tgtlem = \"chief_stab_sub_Fitting\"\n",
    "# tgtlem = \"nG\\'G\"\n",
    "# tgtlem = \"minnormal_solvable_Fitting_center\"\n",
    "# tgtlem = \"minnormal_solvable_abelem\"\n",
    "# tgtlem = \"sol_chief_abelem\"\n",
    "tgtlem = \"coprime_cent_prod\"\n",
    "file = \"/Users/dehuang/Documents/research/ml4tp/data/odd-order/BGsection1.v.dump\"\n",
    "\n",
    "# tgtlem = \"sQP0Q\"\n",
    "# file = \"/Users/dehuang/Documents/research/ml4tp/data/odd-order/BGappendixC.v.dump\"\n",
    "\n",
    "# tgtlem = \"Frobenius_Wielandt_fixpoint\"\n",
    "# tgtlem = \"odd_prime_sdprod_rfix0\"\n",
    "# file = \"/Users/dehuang/Documents/research/ml4tp/data/odd-order/BGsection3.v.dump\"\n",
    "\n",
    "# tgtlem = \"exponent_odd_nil23\"\n",
    "# tgtlem = \"pi_Aut_rank2_pgroup\"\n",
    "# file = \"/Users/dehuang/Documents/research/ml4tp/data/odd-order/BGsection4.v.dump\"\n",
    "\n",
    "# tgtlem = \"cent_tau1Elem_Msigma\"\n",
    "# file = \"/Users/dehuang/Documents/research/ml4tp/data/odd-order/BGsection13.v.dump\"\n",
    "\n",
    "# tgtlem = \"nonabelian_tau2\"\n",
    "# file = \"/Users/dehuang/Documents/research/ml4tp/data/odd-order/BGsection12.v.dump\"\n",
    "\n",
    "# tgtlem = \"oU\"\n",
    "# file = \"/Users/dehuang/Documents/research/ml4tp/data/odd-order/PFsection14.v.dump\"\n",
    "\n",
    "# tgtlem = \"narrowJ\"\n",
    "# file = \"/Users/dehuang/Documents/research/ml4tp/data/odd-order/BGsection5.v.dump\"\n",
    "\n",
    "vis = Visualize(f_display=True, f_jupyter=True, f_verbose=False)\n",
    "tactr = vis.visualize_lemma(file, tgtlem)\n",
    "#print(tactr.bfs_traverse())\n",
    "print(str(tactr.decoder.decoded[23]))\n",
    "tactr.visualize_exp_by_key(23)"
   ]
  },
  {
   "cell_type": "code",
   "execution_count": null,
   "metadata": {},
   "outputs": [],
   "source": [
    "from ml4tputils.exp_tactr_stats import *\n",
    "\n",
    "# Feit-Thompson (Odd-order theorem)\n",
    "stats, unique = load_tactr_stats(\"log/tactr-build-20.log\")\n",
    "tactr_stats = TacTrStats(stats)\n",
    "print(\"Unique const:\", unique['const'])\n",
    "print(\"Unique inductive:\", unique['ind'])\n",
    "print(\"Unique constructors:\", unique['conid'])\n",
    "_ = tactr_stats.descrip_tacs()\n",
    "_ = tactr_stats.descrip_tacsts()\n",
    "_ = tactr_stats.descrip_term()\n",
    "_ = tactr_stats.descrip_deadend()"
   ]
  },
  {
   "cell_type": "code",
   "execution_count": null,
   "metadata": {
    "collapsed": true
   },
   "outputs": [],
   "source": [
    "_ = tactr_stats.gather_have_info()"
   ]
  },
  {
   "cell_type": "code",
   "execution_count": null,
   "metadata": {
    "collapsed": true
   },
   "outputs": [],
   "source": [
    "import plotly\n",
    "import plotly.plotly as py\n",
    "import plotly.graph_objs as go\n",
    "\n",
    "coqexp_hist = tactr_stats.coqexp_hist()\n",
    "data = [go.Bar(x=[p[0] for p in coqexp_hist], y=[p[1] for p in coqexp_hist])]\n",
    "\n",
    "layout = go.Layout(\n",
    "    title='CoqExp Usage (all lemmas)',\n",
    "    xaxis=dict(\n",
    "        title='Coq Expression'\n",
    "    ),\n",
    "    yaxis=dict(\n",
    "        title='Usage',\n",
    "    ),\n",
    ")\n",
    "fig = go.Figure(data=data, layout=layout)\n",
    "plotly.offline.init_notebook_mode(connected=True)\n",
    "plotly.offline.iplot(fig, filename='coqexp-hist')"
   ]
  },
  {
   "cell_type": "code",
   "execution_count": null,
   "metadata": {
    "collapsed": true
   },
   "outputs": [],
   "source": [
    "import plotly\n",
    "import plotly.plotly as py\n",
    "import plotly.graph_objs as go\n",
    "\n",
    "hist_sh, maxsize = tactr_stats.coqexp_comp_p('static_sh_comp', f_avg=False, f_trunc=False)\n",
    "print(\"Maxsize\", maxsize)\n",
    "data = [go.Bar(x=[k for k, v in hist_sh.items()], y=[v for k, v in hist_sh.items()])]\n",
    "\n",
    "layout = go.Layout(\n",
    "    title='CoqExp Computation Static-Share',\n",
    "    xaxis=dict(\n",
    "        title='Size of Term'\n",
    "    ),\n",
    "    yaxis=dict(\n",
    "        title='Number of terms',\n",
    "    ),\n",
    ")\n",
    "fig = go.Figure(data=data, layout=layout)\n",
    "plotly.offline.init_notebook_mode(connected=True)\n",
    "plotly.offline.iplot(fig, filename='coqexp-sh-hist')"
   ]
  },
  {
   "cell_type": "code",
   "execution_count": null,
   "metadata": {
    "collapsed": true
   },
   "outputs": [],
   "source": [
    "import plotly\n",
    "import plotly.plotly as py\n",
    "import plotly.graph_objs as go\n",
    "\n",
    "hist_sf, maxsize = tactr_stats.coqexp_comp_p('static_full_comp', f_avg=False, f_trunc=False)\n",
    "print(\"Maxsize\", maxsize)\n",
    "data = [go.Bar(x=[k for k, v in hist_sf.items()], y=[v for k, v in hist_sf.items()])]\n",
    "\n",
    "layout = go.Layout(\n",
    "    title='CoqExp Computation Static-Full',\n",
    "    xaxis=dict(\n",
    "        title='Size'\n",
    "    ),\n",
    "    yaxis=dict(\n",
    "        title='Number',\n",
    "    ),\n",
    ")\n",
    "fig = go.Figure(data=data, layout=layout)\n",
    "plotly.offline.init_notebook_mode(connected=True)\n",
    "plotly.offline.iplot(fig, filename='coqexp-sf-hist')"
   ]
  },
  {
   "cell_type": "code",
   "execution_count": null,
   "metadata": {
    "collapsed": true
   },
   "outputs": [],
   "source": [
    "import plotly\n",
    "import plotly.plotly as py\n",
    "import plotly.graph_objs as go\n",
    "\n",
    "hist_nm, maxsize = tactr_stats.coqexp_comp_p('cbname_comp', f_avg=False, f_trunc=True)\n",
    "print(\"Maxsize\", maxsize)\n",
    "data = [go.Bar(x=[k for k, v in hist_nm.items()], y=[v for k, v in hist_nm.items()])]\n",
    "\n",
    "layout = go.Layout(\n",
    "    title='CoqExp Computation Call-By-Name',\n",
    "    xaxis=dict(\n",
    "        title='Size of Term'\n",
    "    ),\n",
    "    yaxis=dict(\n",
    "        title='Number of Terms',\n",
    "    ),\n",
    ")\n",
    "fig = go.Figure(data=data, layout=layout)\n",
    "plotly.offline.init_notebook_mode(connected=True)\n",
    "plotly.offline.iplot(fig, filename='coqexp-nm-hist')"
   ]
  },
  {
   "cell_type": "code",
   "execution_count": null,
   "metadata": {
    "collapsed": true
   },
   "outputs": [],
   "source": [
    "import plotly\n",
    "import plotly.plotly as py\n",
    "import plotly.graph_objs as go\n",
    "\n",
    "tactic_hist = tactr_stats.avg_hist(f_sort=True)\n",
    "data = [go.Bar(x=[p[0] for p in tactic_hist], y=[p[1] for p in tactic_hist])]\n",
    "\n",
    "layout = go.Layout(\n",
    "    title='Tactic Usage (all lemmas)',\n",
    "    xaxis=dict(\n",
    "        title='Tactic'\n",
    "    ),\n",
    "    yaxis=dict(\n",
    "        title='Usage',\n",
    "    ),\n",
    ")\n",
    "fig = go.Figure(data=data, layout=layout)\n",
    "plotly.offline.init_notebook_mode(connected=True)\n",
    "plotly.offline.iplot(fig, filename='tactic-hist')"
   ]
  },
  {
   "cell_type": "code",
   "execution_count": null,
   "metadata": {
    "collapsed": true
   },
   "outputs": [],
   "source": [
    "avg_depth_ctx_size = tactr_stats.avg_depth_size(DepthMode.AST_CTX).items()\n",
    "print(avg_depth_ctx_size)"
   ]
  },
  {
   "cell_type": "code",
   "execution_count": null,
   "metadata": {
    "collapsed": true
   },
   "outputs": [],
   "source": [
    "import plotly\n",
    "import plotly.plotly as py\n",
    "import plotly.graph_objs as go\n",
    "\n",
    "avg_depth_ctx_size = tactr_stats.avg_depth_size(DepthMode.AST_CTX).items()\n",
    "data = [go.Bar(x=[p[0] for p in avg_depth_ctx_size], y=[p[1] for p in avg_depth_ctx_size])]\n",
    "\n",
    "layout = go.Layout(\n",
    "    title='Average Context Size vs. Depth in Tree',\n",
    "    xaxis=dict(\n",
    "        title='Depth (proof tree)'\n",
    "    ),\n",
    "    yaxis=dict(\n",
    "        title='Size of context (char-length)',\n",
    "    ),\n",
    ")\n",
    "fig = go.Figure(data=data, layout=layout)\n",
    "plotly.offline.init_notebook_mode(connected=True)\n",
    "plotly.offline.iplot(fig, filename='average-context-size')"
   ]
  },
  {
   "cell_type": "code",
   "execution_count": null,
   "metadata": {
    "collapsed": true,
    "scrolled": true
   },
   "outputs": [],
   "source": [
    "import plotly\n",
    "import plotly.plotly as py\n",
    "import plotly.graph_objs as go\n",
    "\n",
    "avg_depth_goal_size = tactr_stats.avg_depth_size(DepthMode.CHAR_GOAL).items()\n",
    "data = [go.Bar(x=[p[0] for p in avg_depth_goal_size], y=[p[1] for p in avg_depth_goal_size])]\n",
    "\n",
    "layout = go.Layout(\n",
    "    title='Average Goal Size vs. Depth in Tree',\n",
    "    xaxis=dict(\n",
    "        title='Depth (proof tree)'\n",
    "    ),\n",
    "    yaxis=dict(\n",
    "        title='Size of goal (char-length)',\n",
    "    ),\n",
    ")\n",
    "fig = go.Figure(data=data, layout=layout)\n",
    "plotly.offline.init_notebook_mode(connected=True)\n",
    "plotly.offline.iplot(fig, filename='average-goal-size')"
   ]
  },
  {
   "cell_type": "code",
   "execution_count": null,
   "metadata": {
    "collapsed": true
   },
   "outputs": [],
   "source": [
    "import plotly\n",
    "import plotly.plotly as py\n",
    "import plotly.graph_objs as go\n",
    "\n",
    "avg_depth_astctx_size = tactr_stats.avg_depth_size(DepthMode.AST_CTX).items()\n",
    "data = [go.Bar(x=[p[0] for p in avg_depth_astctx_size], y=[p[1] for p in avg_depth_astctx_size])]\n",
    "\n",
    "layout = go.Layout(\n",
    "    title='Average Context Size vs. Depth in Tree',\n",
    "    xaxis=dict(\n",
    "        title='Depth (proof tree)'\n",
    "    ),\n",
    "    yaxis=dict(\n",
    "        title='Size of context (ast-size)',\n",
    "    ),\n",
    ")\n",
    "fig = go.Figure(data=data, layout=layout)\n",
    "plotly.offline.init_notebook_mode(connected=True)\n",
    "plotly.offline.iplot(fig, filename='average-context-size')"
   ]
  },
  {
   "cell_type": "code",
   "execution_count": null,
   "metadata": {
    "collapsed": true
   },
   "outputs": [],
   "source": [
    "import plotly\n",
    "import plotly.plotly as py\n",
    "import plotly.graph_objs as go\n",
    "\n",
    "avg_depth_astgoal_size = tactr_stats.avg_depth_size(DepthMode.AST_GOAL).items()\n",
    "data = [go.Bar(x=[p[0] for p in avg_depth_astgoal_size], y=[p[1] for p in avg_depth_astgoal_size])]\n",
    "\n",
    "layout = go.Layout(\n",
    "    title='Average Goal Size vs. Depth in Tree',\n",
    "    xaxis=dict(\n",
    "        title='Depth (proof tree)'\n",
    "    ),\n",
    "    yaxis=dict(\n",
    "        title='Size of context (ast-size)',\n",
    "    ),\n",
    ")\n",
    "fig = go.Figure(data=data, layout=layout)\n",
    "plotly.offline.init_notebook_mode(connected=True)\n",
    "plotly.offline.iplot(fig, filename='average-context-size')"
   ]
  },
  {
   "cell_type": "code",
   "execution_count": null,
   "metadata": {
    "collapsed": true
   },
   "outputs": [],
   "source": []
  }
 ],
 "metadata": {
  "kernelspec": {
   "display_name": "ragnarok3",
   "language": "python",
   "name": "ragnarok3"
  },
  "language_info": {
   "codemirror_mode": {
    "name": "ipython",
    "version": 3
   },
   "file_extension": ".py",
   "mimetype": "text/x-python",
   "name": "python",
   "nbconvert_exporter": "python",
   "pygments_lexer": "ipython3",
   "version": "3.6.2"
  }
 },
 "nbformat": 4,
 "nbformat_minor": 2
}
