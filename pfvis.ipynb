{
 "cells": [
  {
   "cell_type": "code",
   "execution_count": null,
   "metadata": {
    "collapsed": true
   },
   "outputs": [],
   "source": [
    "from ml4tputils.visualize import *\n",
    "from ml4tputils.recon.tactr import *\n",
    "\n",
    "tgtlem = \"split_pat\"\n",
    "tgtlem = \"case_split\"\n",
    "file = \"/Users/dehuang/Documents/research/ml4tp/ex/test.dump2\"\n",
    "vis = Visualize(f_display=True, f_jupyter=True, f_verbose=False)\n",
    "tactr = vis.visualize_lemma(file, tgtlem)\n",
    "\n",
    "# for _, tacs in tactr.tactics().items():\n",
    "#     print(\"HERE\")\n",
    "#     for tac in tacs:\n",
    "#         print(tac.ftac)\n",
    "for edge in tactr.graph.edges():\n",
    "    print(\"SRC\", edge[0].gid, \"TGT\", edge[1].gid)\n",
    "# print(tactr.graph.out_degree([TacTrNode(5, TacStKind.LIVE)]))"
   ]
  },
  {
   "cell_type": "code",
   "execution_count": null,
   "metadata": {},
   "outputs": [],
   "source": [
    "from ml4tputils.visualize import *\n",
    "from ml4tputils.recon.tactr import *\n",
    "\n",
    "# tgtlem = \"subset_trans\"\n",
    "# tgtlem = \"subset_trans2\"\n",
    "tgtlem = \"HilbertS\"\n",
    "# tgtlem = \"andb_sym2\"\n",
    "# file = \"/Users/dehuang/Documents/research/ml4tp/ex/tutorial.dump\"\n",
    "#tgtlem = \"plus_comm\"\n",
    "#file = \"/Users/dehuang/Documents/research/ml4tp/ex/foo9.dump\"\n",
    "#tgtlem = \"plus_O\"\n",
    "#file = \"/Users/dehuang/Documents/research/ml4tp/ex/done.dump\"\n",
    "vis = Visualize(f_display=True, f_jupyter=True, f_verbose=False)\n",
    "tactr = vis.visualize_lemma(file, tgtlem)\n",
    "\n",
    "# for _, tacs in tactr.tactics().items():\n",
    "#     print(\"HERE\")\n",
    "#     for tac in tacs:\n",
    "#         print(tac.ftac)\n",
    "for edge in tactr.graph.edges():\n",
    "    print(\"SRC\", edge[0].gid, \"TGT\", edge[1].gid)\n",
    "# print(tactr.graph.out_degree([TacTrNode(5, TacStKind.LIVE)]))"
   ]
  },
  {
   "cell_type": "code",
   "execution_count": null,
   "metadata": {
    "collapsed": true
   },
   "outputs": [],
   "source": [
    "from ml4tputils.visualize import *\n",
    "\n",
    "tgtlem = \"rewrite_eq_0\"\n",
    "file = \"/Users/dehuang/Documents/research/ml4tp/ml4tputils/ml/rewriter/rewrite/theorems.dump\"\n",
    "#tgtlem = \"plus_comm\"\n",
    "#file = \"/Users/dehuang/Documents/research/ml4tp/ex/foo9.dump\"\n",
    "#tgtlem = \"plus_O\"\n",
    "#file = \"/Users/dehuang/Documents/research/ml4tp/ex/done.dump\"\n",
    "vis = Visualize(f_display=True, f_jupyter=True, f_verbose=False)\n",
    "tactrs = vis.visualize_lemma(file, tgtlem)"
   ]
  },
  {
   "cell_type": "code",
   "execution_count": null,
   "metadata": {
    "collapsed": true,
    "scrolled": true
   },
   "outputs": [],
   "source": [
    "from ml4tputils.visualize import *\n",
    "\n",
    "tgtlem = \"iden_eq_short\"\n",
    "file = \"/Users/dehuang/Documents/research/ml4tp/ex/thm1.dump\"\n",
    "#tgtlem = \"plus_comm\"\n",
    "#file = \"/Users/dehuang/Documents/research/ml4tp/ex/foo9.dump\"\n",
    "#tgtlem = \"plus_O\"\n",
    "#file = \"/Users/dehuang/Documents/research/ml4tp/ex/done.dump\"\n",
    "vis = Visualize(f_display=True, f_jupyter=True, f_verbose=False)\n",
    "tactrs = vis.visualize_lemma(file, tgtlem)"
   ]
  },
  {
   "cell_type": "code",
   "execution_count": 1,
   "metadata": {},
   "outputs": [
    {
     "name": "stdout",
     "output_type": "stream",
     "text": [
      "progress: 0.00% @ minnormal_solvable_abelem\n",
      "progress: 0.00% @ minnormal_solvable_abelem\n"
     ]
    },
    {
     "data": {
      "text/html": [
       "<script>requirejs.config({paths: { 'plotly': ['https://cdn.plot.ly/plotly-latest.min']},});if(!window.Plotly) {{require(['plotly'],function(plotly) {window.Plotly=plotly;});}}</script>"
      ],
      "text/vnd.plotly.v1+html": [
       "<script>requirejs.config({paths: { 'plotly': ['https://cdn.plot.ly/plotly-latest.min']},});if(!window.Plotly) {{require(['plotly'],function(plotly) {window.Plotly=plotly;});}}</script>"
      ]
     },
     "metadata": {},
     "output_type": "display_data"
    },
    {
     "data": {
      "application/vnd.plotly.v1+json": {
       "data": [
        {
         "hoverinfo": null,
         "line": {
          "color": "#888",
          "width": 0.5
         },
         "mode": "lines",
         "type": "scatter",
         "x": [
          0.9999838368162065,
          0.3273459158389592,
          null,
          0.3273459158389592,
          -0.33636636393274144,
          null,
          -0.33636636393274144,
          -0.9909633887224243,
          null
         ],
         "y": [
          0.9910002456561334,
          0.3363358788135487,
          null,
          0.3363358788135487,
          -0.32733612446968197,
          null,
          -0.32733612446968197,
          -1,
          null
         ]
        },
        {
         "hoverinfo": "text",
         "marker": {
          "color": [],
          "colorscale": "YIGnBu",
          "line": {
           "width": 2
          },
          "reversescale": true,
          "showscale": true,
          "size": 10
         },
         "mode": "markers",
         "text": [
          "gid: 24(uid=0)<br>gT: finGroupType<br>G: {group gT}<br>M: {group gT}<br>=====================<br>minnormal M G -> solvable M -> is_abelem M",
          "gid: 26(uid=1)<br>gT: finGroupType<br>G: {group gT}<br>M: {group gT}<br>minM: minnormal M G<br>solM: solvable M<br>=====================<br>is_abelem M",
          "gid: 41(uid=2)<br>gT: finGroupType<br>G: {group gT}<br>M: {group gT}<br>minM: minnormal M G<br>solM: solvable M<br>=====================<br>G \\subset 'N(M) -> M != 1 -> is_abelem M -> is_abelem M",
          "gid: T0(uid=3)"
         ],
         "type": "scatter",
         "x": [
          0.9999838368162065,
          0.3273459158389592,
          -0.33636636393274144,
          -0.9909633887224243
         ],
         "y": [
          0.9910002456561334,
          0.3363358788135487,
          -0.32733612446968197,
          -1
         ]
        },
        {
         "hoverinfo": "text",
         "marker": {
          "color": [],
          "colorscale": "YIGnBu",
          "line": {
           "width": 2
          },
          "reversescale": true,
          "showscale": true,
          "size": 5
         },
         "mode": "markers",
         "text": [
          "ftac: (move => minM solM | lids=set(), gids=set())",
          "ftac: (case : (minnormal_solvable minM (subxx _) solM) | lids={'minM', 'solM'}, gids={'mathcomp.ssreflect.fintype.subxx', 'mathcomp.solvable.maximal.minnormal_solvable'})",
          "ftac: (ssrdone | lids=None, gids=None)"
         ],
         "type": "scatter",
         "x": [
          0.6636648763275829,
          -0.004510224046891109,
          -0.6636648763275829
         ],
         "y": [
          0.6636680622348411,
          0.00449987717193337,
          -0.663668062234841
         ]
        }
       ],
       "layout": {
        "hovermode": "closest",
        "margin": {
         "b": 20,
         "l": 5,
         "r": 5,
         "t": 40
        },
        "showlegend": false,
        "title": "<br>Reconstruction of minnormal_solvable_abelem",
        "titlefont": {
         "size": 16
        },
        "xaxis": {
         "showgrid": false,
         "showticklabels": false,
         "zeroline": false
        },
        "yaxis": {
         "showgrid": false,
         "showticklabels": false,
         "zeroline": false
        }
       }
      },
      "text/html": [
       "<div id=\"032df736-8d83-4935-89d2-f4d28d4faf49\" style=\"height: 525px; width: 100%;\" class=\"plotly-graph-div\"></div><script type=\"text/javascript\">require([\"plotly\"], function(Plotly) { window.PLOTLYENV=window.PLOTLYENV || {};window.PLOTLYENV.BASE_URL=\"https://plot.ly\";Plotly.newPlot(\"032df736-8d83-4935-89d2-f4d28d4faf49\", [{\"type\": \"scatter\", \"x\": [0.9999838368162065, 0.3273459158389592, null, 0.3273459158389592, -0.33636636393274144, null, -0.33636636393274144, -0.9909633887224243, null], \"y\": [0.9910002456561334, 0.3363358788135487, null, 0.3363358788135487, -0.32733612446968197, null, -0.32733612446968197, -1.0, null], \"line\": {\"width\": 0.5, \"color\": \"#888\"}, \"hoverinfo\": null, \"mode\": \"lines\"}, {\"type\": \"scatter\", \"x\": [0.9999838368162065, 0.3273459158389592, -0.33636636393274144, -0.9909633887224243], \"y\": [0.9910002456561334, 0.3363358788135487, -0.32733612446968197, -1.0], \"text\": [\"gid: 24(uid=0)<br>gT: finGroupType<br>G: {group gT}<br>M: {group gT}<br>=====================<br>minnormal M G -> solvable M -> is_abelem M\", \"gid: 26(uid=1)<br>gT: finGroupType<br>G: {group gT}<br>M: {group gT}<br>minM: minnormal M G<br>solM: solvable M<br>=====================<br>is_abelem M\", \"gid: 41(uid=2)<br>gT: finGroupType<br>G: {group gT}<br>M: {group gT}<br>minM: minnormal M G<br>solM: solvable M<br>=====================<br>G \\\\subset 'N(M) -> M != 1 -> is_abelem M -> is_abelem M\", \"gid: T0(uid=3)\"], \"mode\": \"markers\", \"hoverinfo\": \"text\", \"marker\": {\"showscale\": true, \"colorscale\": \"YIGnBu\", \"reversescale\": true, \"color\": [], \"size\": 10, \"line\": {\"width\": 2}}}, {\"type\": \"scatter\", \"x\": [0.6636648763275829, -0.004510224046891109, -0.6636648763275829], \"y\": [0.6636680622348411, 0.00449987717193337, -0.663668062234841], \"text\": [\"ftac: (move => minM solM | lids=set(), gids=set())\", \"ftac: (case : (minnormal_solvable minM (subxx _) solM) | lids={'minM', 'solM'}, gids={'mathcomp.ssreflect.fintype.subxx', 'mathcomp.solvable.maximal.minnormal_solvable'})\", \"ftac: (ssrdone | lids=None, gids=None)\"], \"mode\": \"markers\", \"hoverinfo\": \"text\", \"marker\": {\"showscale\": true, \"colorscale\": \"YIGnBu\", \"reversescale\": true, \"color\": [], \"size\": 5, \"line\": {\"width\": 2}}}], {\"title\": \"<br>Reconstruction of minnormal_solvable_abelem\", \"titlefont\": {\"size\": 16}, \"showlegend\": false, \"hovermode\": \"closest\", \"margin\": {\"b\": 20, \"l\": 5, \"r\": 5, \"t\": 40}, \"xaxis\": {\"showgrid\": false, \"zeroline\": false, \"showticklabels\": false}, \"yaxis\": {\"showgrid\": false, \"zeroline\": false, \"showticklabels\": false}}, {\"showLink\": true, \"linkText\": \"Export to plot.ly\"})});</script>"
      ],
      "text/vnd.plotly.v1+html": [
       "<div id=\"032df736-8d83-4935-89d2-f4d28d4faf49\" style=\"height: 525px; width: 100%;\" class=\"plotly-graph-div\"></div><script type=\"text/javascript\">require([\"plotly\"], function(Plotly) { window.PLOTLYENV=window.PLOTLYENV || {};window.PLOTLYENV.BASE_URL=\"https://plot.ly\";Plotly.newPlot(\"032df736-8d83-4935-89d2-f4d28d4faf49\", [{\"type\": \"scatter\", \"x\": [0.9999838368162065, 0.3273459158389592, null, 0.3273459158389592, -0.33636636393274144, null, -0.33636636393274144, -0.9909633887224243, null], \"y\": [0.9910002456561334, 0.3363358788135487, null, 0.3363358788135487, -0.32733612446968197, null, -0.32733612446968197, -1.0, null], \"line\": {\"width\": 0.5, \"color\": \"#888\"}, \"hoverinfo\": null, \"mode\": \"lines\"}, {\"type\": \"scatter\", \"x\": [0.9999838368162065, 0.3273459158389592, -0.33636636393274144, -0.9909633887224243], \"y\": [0.9910002456561334, 0.3363358788135487, -0.32733612446968197, -1.0], \"text\": [\"gid: 24(uid=0)<br>gT: finGroupType<br>G: {group gT}<br>M: {group gT}<br>=====================<br>minnormal M G -> solvable M -> is_abelem M\", \"gid: 26(uid=1)<br>gT: finGroupType<br>G: {group gT}<br>M: {group gT}<br>minM: minnormal M G<br>solM: solvable M<br>=====================<br>is_abelem M\", \"gid: 41(uid=2)<br>gT: finGroupType<br>G: {group gT}<br>M: {group gT}<br>minM: minnormal M G<br>solM: solvable M<br>=====================<br>G \\\\subset 'N(M) -> M != 1 -> is_abelem M -> is_abelem M\", \"gid: T0(uid=3)\"], \"mode\": \"markers\", \"hoverinfo\": \"text\", \"marker\": {\"showscale\": true, \"colorscale\": \"YIGnBu\", \"reversescale\": true, \"color\": [], \"size\": 10, \"line\": {\"width\": 2}}}, {\"type\": \"scatter\", \"x\": [0.6636648763275829, -0.004510224046891109, -0.6636648763275829], \"y\": [0.6636680622348411, 0.00449987717193337, -0.663668062234841], \"text\": [\"ftac: (move => minM solM | lids=set(), gids=set())\", \"ftac: (case : (minnormal_solvable minM (subxx _) solM) | lids={'minM', 'solM'}, gids={'mathcomp.ssreflect.fintype.subxx', 'mathcomp.solvable.maximal.minnormal_solvable'})\", \"ftac: (ssrdone | lids=None, gids=None)\"], \"mode\": \"markers\", \"hoverinfo\": \"text\", \"marker\": {\"showscale\": true, \"colorscale\": \"YIGnBu\", \"reversescale\": true, \"color\": [], \"size\": 5, \"line\": {\"width\": 2}}}], {\"title\": \"<br>Reconstruction of minnormal_solvable_abelem\", \"titlefont\": {\"size\": 16}, \"showlegend\": false, \"hovermode\": \"closest\", \"margin\": {\"b\": 20, \"l\": 5, \"r\": 5, \"t\": 40}, \"xaxis\": {\"showgrid\": false, \"zeroline\": false, \"showticklabels\": false}, \"yaxis\": {\"showgrid\": false, \"zeroline\": false, \"showticklabels\": false}}, {\"showLink\": true, \"linkText\": \"Export to plot.ly\"})});</script>"
      ]
     },
     "metadata": {},
     "output_type": "display_data"
    },
    {
     "name": "stdout",
     "output_type": "stream",
     "text": [
      "A(C(mathcomp.fingroup.fingroup.FinGroup.base, ), V(gT))\n"
     ]
    },
    {
     "data": {
      "text/html": [
       "<script>requirejs.config({paths: { 'plotly': ['https://cdn.plot.ly/plotly-latest.min']},});if(!window.Plotly) {{require(['plotly'],function(plotly) {window.Plotly=plotly;});}}</script>"
      ],
      "text/vnd.plotly.v1+html": [
       "<script>requirejs.config({paths: { 'plotly': ['https://cdn.plot.ly/plotly-latest.min']},});if(!window.Plotly) {{require(['plotly'],function(plotly) {window.Plotly=plotly;});}}</script>"
      ]
     },
     "metadata": {},
     "output_type": "display_data"
    },
    {
     "data": {
      "application/vnd.plotly.v1+json": {
       "data": [
        {
         "hoverinfo": null,
         "line": {
          "color": "#888",
          "width": 0.5
         },
         "mode": "lines",
         "type": "scatter",
         "x": [
          0.5344886748258805,
          -0.2672444037040888,
          null,
          0.5344886748258805,
          -0.26724427112179167,
          null
         ],
         "y": [
          3.538828070760362e-08,
          0.9999999646117192,
          null,
          3.538828070760362e-08,
          -1,
          null
         ]
        },
        {
         "hoverinfo": "text",
         "marker": {
          "color": [],
          "colorscale": "YIGnBu",
          "line": {
           "width": 2
          },
          "reversescale": true,
          "showscale": true,
          "size": 10
         },
         "mode": "markers",
         "text": [
          "App(23)",
          "Const(mathcomp.fingroup.fingroup.FinGroup.base)",
          "Var(gT)"
         ],
         "type": "scatter",
         "x": [
          0.5344886748258805,
          -0.2672444037040888,
          -0.26724427112179167
         ],
         "y": [
          3.538828070760362e-08,
          0.9999999646117192,
          -1
         ]
        }
       ],
       "layout": {
        "hovermode": "closest",
        "margin": {
         "b": 20,
         "l": 5,
         "r": 5,
         "t": 40
        },
        "showlegend": false,
        "title": "<br>Reconstruction of AST A(C(mathcomp.fingroup.fingroup.FinGroup.base, ), V ...",
        "titlefont": {
         "size": 16
        },
        "xaxis": {
         "showgrid": false,
         "showticklabels": false,
         "zeroline": false
        },
        "yaxis": {
         "showgrid": false,
         "showticklabels": false,
         "zeroline": false
        }
       }
      },
      "text/html": [
       "<div id=\"f8ffe134-044a-47a0-9fda-5b35295c1af2\" style=\"height: 525px; width: 100%;\" class=\"plotly-graph-div\"></div><script type=\"text/javascript\">require([\"plotly\"], function(Plotly) { window.PLOTLYENV=window.PLOTLYENV || {};window.PLOTLYENV.BASE_URL=\"https://plot.ly\";Plotly.newPlot(\"f8ffe134-044a-47a0-9fda-5b35295c1af2\", [{\"type\": \"scatter\", \"x\": [0.5344886748258805, -0.2672444037040888, null, 0.5344886748258805, -0.26724427112179167, null], \"y\": [3.538828070760362e-08, 0.9999999646117192, null, 3.538828070760362e-08, -1.0, null], \"line\": {\"width\": 0.5, \"color\": \"#888\"}, \"hoverinfo\": null, \"mode\": \"lines\"}, {\"type\": \"scatter\", \"x\": [0.5344886748258805, -0.2672444037040888, -0.26724427112179167], \"y\": [3.538828070760362e-08, 0.9999999646117192, -1.0], \"text\": [\"App(23)\", \"Const(mathcomp.fingroup.fingroup.FinGroup.base)\", \"Var(gT)\"], \"mode\": \"markers\", \"hoverinfo\": \"text\", \"marker\": {\"showscale\": true, \"colorscale\": \"YIGnBu\", \"reversescale\": true, \"color\": [], \"size\": 10, \"line\": {\"width\": 2}}}], {\"title\": \"<br>Reconstruction of AST A(C(mathcomp.fingroup.fingroup.FinGroup.base, ), V ...\", \"titlefont\": {\"size\": 16}, \"showlegend\": false, \"hovermode\": \"closest\", \"margin\": {\"b\": 20, \"l\": 5, \"r\": 5, \"t\": 40}, \"xaxis\": {\"showgrid\": false, \"zeroline\": false, \"showticklabels\": false}, \"yaxis\": {\"showgrid\": false, \"zeroline\": false, \"showticklabels\": false}}, {\"showLink\": true, \"linkText\": \"Export to plot.ly\"})});</script>"
      ],
      "text/vnd.plotly.v1+html": [
       "<div id=\"f8ffe134-044a-47a0-9fda-5b35295c1af2\" style=\"height: 525px; width: 100%;\" class=\"plotly-graph-div\"></div><script type=\"text/javascript\">require([\"plotly\"], function(Plotly) { window.PLOTLYENV=window.PLOTLYENV || {};window.PLOTLYENV.BASE_URL=\"https://plot.ly\";Plotly.newPlot(\"f8ffe134-044a-47a0-9fda-5b35295c1af2\", [{\"type\": \"scatter\", \"x\": [0.5344886748258805, -0.2672444037040888, null, 0.5344886748258805, -0.26724427112179167, null], \"y\": [3.538828070760362e-08, 0.9999999646117192, null, 3.538828070760362e-08, -1.0, null], \"line\": {\"width\": 0.5, \"color\": \"#888\"}, \"hoverinfo\": null, \"mode\": \"lines\"}, {\"type\": \"scatter\", \"x\": [0.5344886748258805, -0.2672444037040888, -0.26724427112179167], \"y\": [3.538828070760362e-08, 0.9999999646117192, -1.0], \"text\": [\"App(23)\", \"Const(mathcomp.fingroup.fingroup.FinGroup.base)\", \"Var(gT)\"], \"mode\": \"markers\", \"hoverinfo\": \"text\", \"marker\": {\"showscale\": true, \"colorscale\": \"YIGnBu\", \"reversescale\": true, \"color\": [], \"size\": 10, \"line\": {\"width\": 2}}}], {\"title\": \"<br>Reconstruction of AST A(C(mathcomp.fingroup.fingroup.FinGroup.base, ), V ...\", \"titlefont\": {\"size\": 16}, \"showlegend\": false, \"hovermode\": \"closest\", \"margin\": {\"b\": 20, \"l\": 5, \"r\": 5, \"t\": 40}, \"xaxis\": {\"showgrid\": false, \"zeroline\": false, \"showticklabels\": false}, \"yaxis\": {\"showgrid\": false, \"zeroline\": false, \"showticklabels\": false}}, {\"showLink\": true, \"linkText\": \"Export to plot.ly\"})});</script>"
      ]
     },
     "metadata": {},
     "output_type": "display_data"
    }
   ],
   "source": [
    "from ml4tputils.visualize import *\n",
    "\n",
    "# tgtlem = \"focal_subgroup_gen\"\n",
    "# tgtlem = \"critical_odd\"\n",
    "# tgtlem = \"p_elt_gen_normal\"\n",
    "# tgtlem = \"chief_stab_sub_Fitting\"\n",
    "# tgtlem = \"nG\\'G\"\n",
    "# tgtlem = \"minnormal_solvable_Fitting_center\"\n",
    "tgtlem = \"minnormal_solvable_abelem\"\n",
    "# tgtlem = \"sol_chief_abelem\"\n",
    "file = \"/Users/dehuang/Documents/research/ml4tp/data/odd-order/BGsection1.v.dump\"\n",
    "\n",
    "# tgtlem = \"oU\"\n",
    "# file = \"/Users/dehuang/Documents/research/ml4tp/data/odd-order/PFsection14.v.dump\"\n",
    "\n",
    "# tgtlem = \"narrowJ\"\n",
    "# file = \"/Users/dehuang/Documents/research/ml4tp/data/odd-order/BGsection5.v.dump\"\n",
    "\n",
    "vis = Visualize(f_display=True, f_jupyter=True, f_verbose=False)\n",
    "tactr = vis.visualize_lemma(file, tgtlem)\n",
    "#print(tactr.bfs_traverse())\n",
    "print(str(tactr.decoder.decoded[23]))\n",
    "tactr.visualize_exp_by_key(23)"
   ]
  },
  {
   "cell_type": "code",
   "execution_count": null,
   "metadata": {
    "collapsed": true
   },
   "outputs": [],
   "source": [
    "from ml4tputils.exp_tactr_stats import *\n",
    "\n",
    "# Feit-Thompson (Odd-order theorem)\n",
    "stats, unique = load_tactr_stats(\"log/tactr-build-16-2.log\")\n",
    "tactr_stats = TacTrStats(stats)\n",
    "print(\"Unique const:\", unique['const'])\n",
    "print(\"Unique inductive:\", unique['ind'])\n",
    "print(\"Unique constructors:\", unique['conid'])\n",
    "_ = tactr_stats.descrip_tacs()\n",
    "_ = tactr_stats.descrip_tacsts()\n",
    "_ = tactr_stats.descrip_term()\n",
    "_ = tactr_stats.descrip_deadend()"
   ]
  },
  {
   "cell_type": "code",
   "execution_count": null,
   "metadata": {
    "collapsed": true
   },
   "outputs": [],
   "source": [
    "_ = tactr_stats.gather_have_info()"
   ]
  },
  {
   "cell_type": "code",
   "execution_count": null,
   "metadata": {
    "collapsed": true
   },
   "outputs": [],
   "source": [
    "import plotly\n",
    "import plotly.plotly as py\n",
    "import plotly.graph_objs as go\n",
    "\n",
    "coqexp_hist = tactr_stats.coqexp_hist()\n",
    "data = [go.Bar(x=[p[0] for p in coqexp_hist], y=[p[1] for p in coqexp_hist])]\n",
    "\n",
    "layout = go.Layout(\n",
    "    title='CoqExp Usage (all lemmas)',\n",
    "    xaxis=dict(\n",
    "        title='Coq Expression'\n",
    "    ),\n",
    "    yaxis=dict(\n",
    "        title='Usage',\n",
    "    ),\n",
    ")\n",
    "fig = go.Figure(data=data, layout=layout)\n",
    "plotly.offline.init_notebook_mode(connected=True)\n",
    "plotly.offline.iplot(fig, filename='coqexp-hist')"
   ]
  },
  {
   "cell_type": "code",
   "execution_count": null,
   "metadata": {
    "collapsed": true
   },
   "outputs": [],
   "source": [
    "import plotly\n",
    "import plotly.plotly as py\n",
    "import plotly.graph_objs as go\n",
    "\n",
    "hist_sh, maxsize = tactr_stats.coqexp_comp_p('static_sh_comp', f_avg=False, f_trunc=False)\n",
    "print(\"Maxsize\", maxsize)\n",
    "data = [go.Bar(x=[k for k, v in hist_sh.items()], y=[v for k, v in hist_sh.items()])]\n",
    "\n",
    "layout = go.Layout(\n",
    "    title='CoqExp Computation Static-Share',\n",
    "    xaxis=dict(\n",
    "        title='Size of Term'\n",
    "    ),\n",
    "    yaxis=dict(\n",
    "        title='Number of terms',\n",
    "    ),\n",
    ")\n",
    "fig = go.Figure(data=data, layout=layout)\n",
    "plotly.offline.init_notebook_mode(connected=True)\n",
    "plotly.offline.iplot(fig, filename='coqexp-sh-hist')"
   ]
  },
  {
   "cell_type": "code",
   "execution_count": null,
   "metadata": {
    "collapsed": true
   },
   "outputs": [],
   "source": [
    "import plotly\n",
    "import plotly.plotly as py\n",
    "import plotly.graph_objs as go\n",
    "\n",
    "hist_sf, maxsize = tactr_stats.coqexp_comp_p('static_full_comp', f_avg=False, f_trunc=False)\n",
    "print(\"Maxsize\", maxsize)\n",
    "data = [go.Bar(x=[k for k, v in hist_sf.items()], y=[v for k, v in hist_sf.items()])]\n",
    "\n",
    "layout = go.Layout(\n",
    "    title='CoqExp Computation Static-Full',\n",
    "    xaxis=dict(\n",
    "        title='Size'\n",
    "    ),\n",
    "    yaxis=dict(\n",
    "        title='Number',\n",
    "    ),\n",
    ")\n",
    "fig = go.Figure(data=data, layout=layout)\n",
    "plotly.offline.init_notebook_mode(connected=True)\n",
    "plotly.offline.iplot(fig, filename='coqexp-sf-hist')"
   ]
  },
  {
   "cell_type": "code",
   "execution_count": null,
   "metadata": {
    "collapsed": true
   },
   "outputs": [],
   "source": [
    "import plotly\n",
    "import plotly.plotly as py\n",
    "import plotly.graph_objs as go\n",
    "\n",
    "hist_nm, maxsize = tactr_stats.coqexp_comp_p('cbname_comp', f_avg=False, f_trunc=True)\n",
    "print(\"Maxsize\", maxsize)\n",
    "data = [go.Bar(x=[k for k, v in hist_nm.items()], y=[v for k, v in hist_nm.items()])]\n",
    "\n",
    "layout = go.Layout(\n",
    "    title='CoqExp Computation Call-By-Name',\n",
    "    xaxis=dict(\n",
    "        title='Size of Term'\n",
    "    ),\n",
    "    yaxis=dict(\n",
    "        title='Number of Terms',\n",
    "    ),\n",
    ")\n",
    "fig = go.Figure(data=data, layout=layout)\n",
    "plotly.offline.init_notebook_mode(connected=True)\n",
    "plotly.offline.iplot(fig, filename='coqexp-nm-hist')"
   ]
  },
  {
   "cell_type": "code",
   "execution_count": null,
   "metadata": {
    "collapsed": true
   },
   "outputs": [],
   "source": [
    "import plotly\n",
    "import plotly.plotly as py\n",
    "import plotly.graph_objs as go\n",
    "\n",
    "tactic_hist = tactr_stats.avg_hist(f_sort=True)\n",
    "data = [go.Bar(x=[p[0] for p in tactic_hist], y=[p[1] for p in tactic_hist])]\n",
    "\n",
    "layout = go.Layout(\n",
    "    title='Tactic Usage (all lemmas)',\n",
    "    xaxis=dict(\n",
    "        title='Tactic'\n",
    "    ),\n",
    "    yaxis=dict(\n",
    "        title='Usage',\n",
    "    ),\n",
    ")\n",
    "fig = go.Figure(data=data, layout=layout)\n",
    "plotly.offline.init_notebook_mode(connected=True)\n",
    "plotly.offline.iplot(fig, filename='tactic-hist')"
   ]
  },
  {
   "cell_type": "code",
   "execution_count": null,
   "metadata": {
    "collapsed": true
   },
   "outputs": [],
   "source": [
    "avg_depth_ctx_size = tactr_stats.avg_depth_size(DepthMode.AST_CTX).items()\n",
    "print(avg_depth_ctx_size)"
   ]
  },
  {
   "cell_type": "code",
   "execution_count": null,
   "metadata": {
    "collapsed": true
   },
   "outputs": [],
   "source": [
    "import plotly\n",
    "import plotly.plotly as py\n",
    "import plotly.graph_objs as go\n",
    "\n",
    "avg_depth_ctx_size = tactr_stats.avg_depth_size(DepthMode.AST_CTX).items()\n",
    "data = [go.Bar(x=[p[0] for p in avg_depth_ctx_size], y=[p[1] for p in avg_depth_ctx_size])]\n",
    "\n",
    "layout = go.Layout(\n",
    "    title='Average Context Size vs. Depth in Tree',\n",
    "    xaxis=dict(\n",
    "        title='Depth (proof tree)'\n",
    "    ),\n",
    "    yaxis=dict(\n",
    "        title='Size of context (char-length)',\n",
    "    ),\n",
    ")\n",
    "fig = go.Figure(data=data, layout=layout)\n",
    "plotly.offline.init_notebook_mode(connected=True)\n",
    "plotly.offline.iplot(fig, filename='average-context-size')"
   ]
  },
  {
   "cell_type": "code",
   "execution_count": null,
   "metadata": {
    "collapsed": true,
    "scrolled": true
   },
   "outputs": [],
   "source": [
    "import plotly\n",
    "import plotly.plotly as py\n",
    "import plotly.graph_objs as go\n",
    "\n",
    "avg_depth_goal_size = tactr_stats.avg_depth_size(DepthMode.CHAR_GOAL).items()\n",
    "data = [go.Bar(x=[p[0] for p in avg_depth_goal_size], y=[p[1] for p in avg_depth_goal_size])]\n",
    "\n",
    "layout = go.Layout(\n",
    "    title='Average Goal Size vs. Depth in Tree',\n",
    "    xaxis=dict(\n",
    "        title='Depth (proof tree)'\n",
    "    ),\n",
    "    yaxis=dict(\n",
    "        title='Size of goal (char-length)',\n",
    "    ),\n",
    ")\n",
    "fig = go.Figure(data=data, layout=layout)\n",
    "plotly.offline.init_notebook_mode(connected=True)\n",
    "plotly.offline.iplot(fig, filename='average-goal-size')"
   ]
  },
  {
   "cell_type": "code",
   "execution_count": null,
   "metadata": {
    "collapsed": true
   },
   "outputs": [],
   "source": [
    "import plotly\n",
    "import plotly.plotly as py\n",
    "import plotly.graph_objs as go\n",
    "\n",
    "avg_depth_astctx_size = tactr_stats.avg_depth_size(DepthMode.AST_CTX).items()\n",
    "data = [go.Bar(x=[p[0] for p in avg_depth_astctx_size], y=[p[1] for p in avg_depth_astctx_size])]\n",
    "\n",
    "layout = go.Layout(\n",
    "    title='Average Context Size vs. Depth in Tree',\n",
    "    xaxis=dict(\n",
    "        title='Depth (proof tree)'\n",
    "    ),\n",
    "    yaxis=dict(\n",
    "        title='Size of context (ast-size)',\n",
    "    ),\n",
    ")\n",
    "fig = go.Figure(data=data, layout=layout)\n",
    "plotly.offline.init_notebook_mode(connected=True)\n",
    "plotly.offline.iplot(fig, filename='average-context-size')"
   ]
  },
  {
   "cell_type": "code",
   "execution_count": null,
   "metadata": {
    "collapsed": true
   },
   "outputs": [],
   "source": [
    "import plotly\n",
    "import plotly.plotly as py\n",
    "import plotly.graph_objs as go\n",
    "\n",
    "avg_depth_astgoal_size = tactr_stats.avg_depth_size(DepthMode.AST_GOAL).items()\n",
    "data = [go.Bar(x=[p[0] for p in avg_depth_astgoal_size], y=[p[1] for p in avg_depth_astgoal_size])]\n",
    "\n",
    "layout = go.Layout(\n",
    "    title='Average Goal Size vs. Depth in Tree',\n",
    "    xaxis=dict(\n",
    "        title='Depth (proof tree)'\n",
    "    ),\n",
    "    yaxis=dict(\n",
    "        title='Size of context (ast-size)',\n",
    "    ),\n",
    ")\n",
    "fig = go.Figure(data=data, layout=layout)\n",
    "plotly.offline.init_notebook_mode(connected=True)\n",
    "plotly.offline.iplot(fig, filename='average-context-size')"
   ]
  },
  {
   "cell_type": "code",
   "execution_count": null,
   "metadata": {
    "collapsed": true
   },
   "outputs": [],
   "source": []
  }
 ],
 "metadata": {
  "kernelspec": {
   "display_name": "ragnarok3",
   "language": "python",
   "name": "ragnarok3"
  },
  "language_info": {
   "codemirror_mode": {
    "name": "ipython",
    "version": 3
   },
   "file_extension": ".py",
   "mimetype": "text/x-python",
   "name": "python",
   "nbconvert_exporter": "python",
   "pygments_lexer": "ipython3",
   "version": "3.6.2"
  }
 },
 "nbformat": 4,
 "nbformat_minor": 2
}
