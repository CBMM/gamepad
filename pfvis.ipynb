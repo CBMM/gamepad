{
 "cells": [
  {
   "cell_type": "code",
   "execution_count": null,
   "metadata": {},
   "outputs": [],
   "source": [
    "from ml4tputils.visualize import *\n",
    "\n",
    "#tgtlem = \"foo1\"\n",
    "#file = \"/Users/dehuang/Documents/research/ml4tp/ex/foo1.dump\"\n",
    "tgtlem = \"plus_comm\"\n",
    "file = \"/Users/dehuang/Documents/research/ml4tp/ex/foo9.dump\"\n",
    "vis = Visualize(f_display=True, f_jupyter=True, f_verbose=False, tgtlem=tgtlem)\n",
    "tactrs = vis.visualize_file(file)"
   ]
  },
  {
   "cell_type": "code",
   "execution_count": null,
   "metadata": {},
   "outputs": [],
   "source": [
    "from ml4tputils.visualize import *\n",
    "\n",
    "tgtlem = \"oU\"\n",
    "file = \"/Users/dehuang/Documents/research/ml4tp/data/odd-order/PFsection14.v.dump\"\n",
    "vis = Visualize(f_display=True, f_jupyter=True, f_verbose=False, tgtlem=tgtlem)\n",
    "tactrs = vis.visualize_file(file)"
   ]
  },
  {
   "cell_type": "code",
   "execution_count": null,
   "metadata": {},
   "outputs": [],
   "source": [
    "vis.tactrs[0].tacst_info"
   ]
  },
  {
   "cell_type": "code",
   "execution_count": 1,
   "metadata": {},
   "outputs": [
    {
     "name": "stdout",
     "output_type": "stream",
     "text": [
      "Statistics on number of tactics used (across lemmas)\n",
      "Min:       1\n",
      "Max:       6145\n",
      "Mean:      145.06267605633803\n",
      "Sdev:      404.2640412970173\n",
      "Kurtosis:  90.57377354216004\n",
      "Statistics on number of tactic states present (across lemmas)\n",
      "Min:       2\n",
      "Max:       6586\n",
      "Mean:      150.9556338028169\n",
      "Sdev:      419.7241668055994\n",
      "Kurtosis:  92.48311491042622\n",
      "Statistics on number of terminal states (across lemmas)\n",
      "Min:       1\n",
      "Max:       1460\n",
      "Mean:      30.240845070422534\n",
      "Sdev:      83.43188851884553\n",
      "Kurtosis:  106.0495960719804\n",
      "Statistics on number of deadend states (across lemmas)\n",
      "Min:       0\n",
      "Max:       1850\n",
      "Mean:      41.16549295774648\n",
      "Sdev:      119.56366713765885\n",
      "Kurtosis:  93.40984754731865\n"
     ]
    }
   ],
   "source": [
    "from ml4tputils.exp_tactr_stats import *\n",
    "\n",
    "# Feit-Thompson (Odd-order theorem)\n",
    "stats = load_tactr_stats(\"log/tactr-build-12-4.log\")\n",
    "tactr_stats = TacTrStats(stats)\n",
    "_ = tactr_stats.descrip_tacs()\n",
    "_ = tactr_stats.descrip_tacsts()\n",
    "_ = tactr_stats.descrip_term()\n",
    "_ = tactr_stats.descrip_deadend()"
   ]
  },
  {
   "cell_type": "code",
   "execution_count": null,
   "metadata": {},
   "outputs": [],
   "source": [
    "_ = tactr_stats.gather_have_info()"
   ]
  },
  {
   "cell_type": "code",
   "execution_count": 2,
   "metadata": {},
   "outputs": [
    {
     "name": "stdout",
     "output_type": "stream",
     "text": [
      "[('AppExp', 5215985), ('ConstExp', 4851576), ('VarExp', 2559340), ('ConstructExp', 516660), ('IndExp', 189047), ('RelExp', 74927), ('ProdExp', 40614), ('LambdaExp', 22942), ('CastExp', 1769), ('CaseExp', 1480), ('LetInExp', 606), ('SortExp', 534), ('FixExp', 55), ('EvarExp', 2), ('ProjExp', 0), ('MetaExp', 0), ('CoFixExp', 0)]\n"
     ]
    },
    {
     "data": {
      "text/html": [
       "<script>requirejs.config({paths: { 'plotly': ['https://cdn.plot.ly/plotly-latest.min']},});if(!window.Plotly) {{require(['plotly'],function(plotly) {window.Plotly=plotly;});}}</script>"
      ],
      "text/vnd.plotly.v1+html": [
       "<script>requirejs.config({paths: { 'plotly': ['https://cdn.plot.ly/plotly-latest.min']},});if(!window.Plotly) {{require(['plotly'],function(plotly) {window.Plotly=plotly;});}}</script>"
      ]
     },
     "metadata": {},
     "output_type": "display_data"
    },
    {
     "data": {
      "application/vnd.plotly.v1+json": {
       "data": [
        {
         "type": "bar",
         "x": [
          "AppExp",
          "ConstExp",
          "VarExp",
          "ConstructExp",
          "IndExp",
          "RelExp",
          "ProdExp",
          "LambdaExp",
          "CastExp",
          "CaseExp",
          "LetInExp",
          "SortExp",
          "FixExp",
          "EvarExp",
          "ProjExp",
          "MetaExp",
          "CoFixExp"
         ],
         "y": [
          5215985,
          4851576,
          2559340,
          516660,
          189047,
          74927,
          40614,
          22942,
          1769,
          1480,
          606,
          534,
          55,
          2,
          0,
          0,
          0
         ]
        }
       ],
       "layout": {
        "title": "CoqExp Usage (all lemmas)",
        "xaxis": {
         "title": "Coq Expression"
        },
        "yaxis": {
         "title": "Usage"
        }
       }
      },
      "text/html": [
       "<div id=\"3043de09-764b-4d3f-b47b-729664e03dc1\" style=\"height: 525px; width: 100%;\" class=\"plotly-graph-div\"></div><script type=\"text/javascript\">require([\"plotly\"], function(Plotly) { window.PLOTLYENV=window.PLOTLYENV || {};window.PLOTLYENV.BASE_URL=\"https://plot.ly\";Plotly.newPlot(\"3043de09-764b-4d3f-b47b-729664e03dc1\", [{\"type\": \"bar\", \"x\": [\"AppExp\", \"ConstExp\", \"VarExp\", \"ConstructExp\", \"IndExp\", \"RelExp\", \"ProdExp\", \"LambdaExp\", \"CastExp\", \"CaseExp\", \"LetInExp\", \"SortExp\", \"FixExp\", \"EvarExp\", \"ProjExp\", \"MetaExp\", \"CoFixExp\"], \"y\": [5215985, 4851576, 2559340, 516660, 189047, 74927, 40614, 22942, 1769, 1480, 606, 534, 55, 2, 0, 0, 0]}], {\"title\": \"CoqExp Usage (all lemmas)\", \"xaxis\": {\"title\": \"Coq Expression\"}, \"yaxis\": {\"title\": \"Usage\"}}, {\"showLink\": true, \"linkText\": \"Export to plot.ly\"})});</script>"
      ],
      "text/vnd.plotly.v1+html": [
       "<div id=\"3043de09-764b-4d3f-b47b-729664e03dc1\" style=\"height: 525px; width: 100%;\" class=\"plotly-graph-div\"></div><script type=\"text/javascript\">require([\"plotly\"], function(Plotly) { window.PLOTLYENV=window.PLOTLYENV || {};window.PLOTLYENV.BASE_URL=\"https://plot.ly\";Plotly.newPlot(\"3043de09-764b-4d3f-b47b-729664e03dc1\", [{\"type\": \"bar\", \"x\": [\"AppExp\", \"ConstExp\", \"VarExp\", \"ConstructExp\", \"IndExp\", \"RelExp\", \"ProdExp\", \"LambdaExp\", \"CastExp\", \"CaseExp\", \"LetInExp\", \"SortExp\", \"FixExp\", \"EvarExp\", \"ProjExp\", \"MetaExp\", \"CoFixExp\"], \"y\": [5215985, 4851576, 2559340, 516660, 189047, 74927, 40614, 22942, 1769, 1480, 606, 534, 55, 2, 0, 0, 0]}], {\"title\": \"CoqExp Usage (all lemmas)\", \"xaxis\": {\"title\": \"Coq Expression\"}, \"yaxis\": {\"title\": \"Usage\"}}, {\"showLink\": true, \"linkText\": \"Export to plot.ly\"})});</script>"
      ]
     },
     "metadata": {},
     "output_type": "display_data"
    }
   ],
   "source": [
    "import plotly\n",
    "import plotly.plotly as py\n",
    "import plotly.graph_objs as go\n",
    "\n",
    "coqexp_hist = tactr_stats.coqexp_hist()\n",
    "print(coqexp_hist)\n",
    "data = [go.Bar(x=[p[0] for p in coqexp_hist], y=[p[1] for p in coqexp_hist])]\n",
    "\n",
    "layout = go.Layout(\n",
    "    title='CoqExp Usage (all lemmas)',\n",
    "    xaxis=dict(\n",
    "        title='Coq Expression'\n",
    "    ),\n",
    "    yaxis=dict(\n",
    "        title='Usage',\n",
    "    ),\n",
    ")\n",
    "fig = go.Figure(data=data, layout=layout)\n",
    "plotly.offline.init_notebook_mode(connected=True)\n",
    "plotly.offline.iplot(fig, filename='coqexp-hist')"
   ]
  },
  {
   "cell_type": "code",
   "execution_count": null,
   "metadata": {},
   "outputs": [],
   "source": [
    "import plotly\n",
    "import plotly.plotly as py\n",
    "import plotly.graph_objs as go\n",
    "\n",
    "tactic_hist = tactr_stats.avg_hist(f_sort=True)\n",
    "data = [go.Bar(x=[p[0] for p in tactic_hist], y=[p[1] for p in tactic_hist])]\n",
    "\n",
    "layout = go.Layout(\n",
    "    title='Tactic Usage (all lemmas)',\n",
    "    xaxis=dict(\n",
    "        title='Tactic'\n",
    "    ),\n",
    "    yaxis=dict(\n",
    "        title='Usage',\n",
    "    ),\n",
    ")\n",
    "fig = go.Figure(data=data, layout=layout)\n",
    "plotly.offline.init_notebook_mode(connected=True)\n",
    "plotly.offline.iplot(fig, filename='tactic-hist')"
   ]
  },
  {
   "cell_type": "code",
   "execution_count": null,
   "metadata": {},
   "outputs": [],
   "source": [
    "avg_depth_ctx_size = tactr_stats.avg_depth_size(DepthMode.CONTEXT).items()\n",
    "orint(avg_depth_ctx_size)"
   ]
  },
  {
   "cell_type": "code",
   "execution_count": null,
   "metadata": {
    "collapsed": true
   },
   "outputs": [],
   "source": []
  },
  {
   "cell_type": "code",
   "execution_count": null,
   "metadata": {},
   "outputs": [],
   "source": [
    "import plotly\n",
    "import plotly.plotly as py\n",
    "import plotly.graph_objs as go\n",
    "\n",
    "avg_depth_ctx_size = tactr_stats.avg_depth_size(DepthMode.CHAR_CTX).items()\n",
    "data = [go.Bar(x=[p[0] for p in avg_depth_ctx_size], y=[p[1] for p in avg_depth_ctx_size])]\n",
    "\n",
    "layout = go.Layout(\n",
    "    title='Average Context Size vs. Depth in Tree',\n",
    "    xaxis=dict(\n",
    "        title='Depth (proof tree)'\n",
    "    ),\n",
    "    yaxis=dict(\n",
    "        title='Size of context (char-length)',\n",
    "    ),\n",
    ")\n",
    "fig = go.Figure(data=data, layout=layout)\n",
    "plotly.offline.init_notebook_mode(connected=True)\n",
    "plotly.offline.iplot(fig, filename='average-context-size')"
   ]
  },
  {
   "cell_type": "code",
   "execution_count": null,
   "metadata": {
    "scrolled": true
   },
   "outputs": [],
   "source": [
    "import plotly\n",
    "import plotly.plotly as py\n",
    "import plotly.graph_objs as go\n",
    "\n",
    "avg_depth_goal_size = tactr_stats.avg_depth_size(DepthMode.CHAR_GOAL).items()\n",
    "data = [go.Bar(x=[p[0] for p in avg_depth_goal_size], y=[p[1] for p in avg_depth_goal_size])]\n",
    "\n",
    "layout = go.Layout(\n",
    "    title='Average Goal Size vs. Depth in Tree',\n",
    "    xaxis=dict(\n",
    "        title='Depth (proof tree)'\n",
    "    ),\n",
    "    yaxis=dict(\n",
    "        title='Size of goal (char-length)',\n",
    "    ),\n",
    ")\n",
    "fig = go.Figure(data=data, layout=layout)\n",
    "plotly.offline.init_notebook_mode(connected=True)\n",
    "plotly.offline.iplot(fig, filename='average-goal-size')"
   ]
  },
  {
   "cell_type": "code",
   "execution_count": null,
   "metadata": {},
   "outputs": [],
   "source": [
    "import plotly\n",
    "import plotly.plotly as py\n",
    "import plotly.graph_objs as go\n",
    "\n",
    "avg_depth_astctx_size = tactr_stats.avg_depth_size(DepthMode.AST_CTX).items()\n",
    "data = [go.Bar(x=[p[0] for p in avg_depth_astctx_size], y=[p[1] for p in avg_depth_astctx_size])]\n",
    "\n",
    "layout = go.Layout(\n",
    "    title='Average Context Size vs. Depth in Tree',\n",
    "    xaxis=dict(\n",
    "        title='Depth (proof tree)'\n",
    "    ),\n",
    "    yaxis=dict(\n",
    "        title='Size of context (ast-size)',\n",
    "    ),\n",
    ")\n",
    "fig = go.Figure(data=data, layout=layout)\n",
    "plotly.offline.init_notebook_mode(connected=True)\n",
    "plotly.offline.iplot(fig, filename='average-context-size')"
   ]
  },
  {
   "cell_type": "code",
   "execution_count": null,
   "metadata": {},
   "outputs": [],
   "source": [
    "import plotly\n",
    "import plotly.plotly as py\n",
    "import plotly.graph_objs as go\n",
    "\n",
    "avg_depth_astgoal_size = tactr_stats.avg_depth_size(DepthMode.AST_GOAL).items()\n",
    "data = [go.Bar(x=[p[0] for p in avg_depth_astgoal_size], y=[p[1] for p in avg_depth_astgoal_size])]\n",
    "\n",
    "layout = go.Layout(\n",
    "    title='Average Goal Size vs. Depth in Tree',\n",
    "    xaxis=dict(\n",
    "        title='Depth (proof tree)'\n",
    "    ),\n",
    "    yaxis=dict(\n",
    "        title='Size of context (ast-size)',\n",
    "    ),\n",
    ")\n",
    "fig = go.Figure(data=data, layout=layout)\n",
    "plotly.offline.init_notebook_mode(connected=True)\n",
    "plotly.offline.iplot(fig, filename='average-context-size')"
   ]
  },
  {
   "cell_type": "code",
   "execution_count": null,
   "metadata": {
    "collapsed": true
   },
   "outputs": [],
   "source": []
  }
 ],
 "metadata": {
  "kernelspec": {
   "display_name": "ragnarok3",
   "language": "python",
   "name": "ragnarok3"
  },
  "language_info": {
   "codemirror_mode": {
    "name": "ipython",
    "version": 3
   },
   "file_extension": ".py",
   "mimetype": "text/x-python",
   "name": "python",
   "nbconvert_exporter": "python",
   "pygments_lexer": "ipython3",
   "version": "3.6.2"
  }
 },
 "nbformat": 4,
 "nbformat_minor": 2
}
