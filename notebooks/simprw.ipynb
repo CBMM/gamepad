{
 "cells": [
  {
   "cell_type": "code",
   "execution_count": null,
   "metadata": {},
   "outputs": [],
   "source": [
    "import numpy as np\n",
    "import json\n",
    "\n",
    "mystats = None\n",
    "# Replace with path to mllogs\n",
    "# 2018-06-01T183051.996951.pth (4th model parameters, which has lowest loss)\n",
    "mllog = \"simprw-2018-06-01T183051.996951.pth.log\"\n",
    "with open('../mllogs/{}'.format(mllog), 'rb') as f:\n",
    "    for line in f:\n",
    "        mystats = json.loads(line)\n",
    "if mystats is None:\n",
    "    raise NameError(\"Cannot load file: {}\".format(simprw_log))\n",
    "\n",
    "num_fully_solved = 0\n",
    "good_bad_ratio = []\n",
    "bad_ratio = []\n",
    "for stat in mystats:\n",
    "    print(stat)\n",
    "    if len(stat['bad_steps']) == 0:\n",
    "        num_fully_solved += 1\n",
    "        good_bad_ratio += [len(stat['bad_steps']) / stat['num_steps']]\n",
    "    bad_ratio += [len(stat['bad_steps']) / stat['num_steps']]\n",
    "\n",
    "print(\"# fully solved           :  {}/{}\".format(num_fully_solved, len(mystats)))\n",
    "print(\"Ratio of bad steps       :  {}\", bad_ratio)\n",
    "print(\"Avg. ratio of bad steps  :  {}\".format(np.mean(bad_ratio))) "
   ]
  },
  {
   "cell_type": "code",
   "execution_count": null,
   "metadata": {},
   "outputs": [],
   "source": []
  }
 ],
 "metadata": {
  "kernelspec": {
   "display_name": "ragnarok3",
   "language": "python",
   "name": "ragnarok3"
  },
  "language_info": {
   "codemirror_mode": {
    "name": "ipython",
    "version": 3
   },
   "file_extension": ".py",
   "mimetype": "text/x-python",
   "name": "python",
   "nbconvert_exporter": "python",
   "pygments_lexer": "ipython3",
   "version": "3.6.2"
  }
 },
 "nbformat": 4,
 "nbformat_minor": 2
}
