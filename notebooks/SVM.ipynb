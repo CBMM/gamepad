{
 "cells": [
  {
   "cell_type": "markdown",
   "metadata": {},
   "source": [
    "# Training SVM baseline on Feit-Thompson dataset\n",
    "We train a SVM baseline on a set of heuristic features like context size, goal size, number of hypothesis in context and the smallest edit distance between a hypothesis and the context."
   ]
  },
  {
   "cell_type": "code",
   "execution_count": 1,
   "metadata": {},
   "outputs": [
    {
     "name": "stdout",
     "output_type": "stream",
     "text": [
      "/Users/prafulla/openai/gamepad_org\n"
     ]
    }
   ],
   "source": [
    "cd .."
   ]
  },
  {
   "cell_type": "code",
   "execution_count": 2,
   "metadata": {},
   "outputs": [],
   "source": [
    "import argparse\n",
    "import pickle\n",
    "import torch\n",
    "import numpy as np\n",
    "\n",
    "from ml.fold_model import TacStModel\n",
    "from ml.fold_train import TacStTrainer\n",
    "# from ipdb import launch_ipdb_on_exception\n",
    "# from ml.rewrite.solver import to_goalattn_dataset, run\n",
    "from ml.rewrite.simprw import run_end2end\n",
    "from ml.rewrite.dataset_prep import to_goalattn_dataset\n",
    "from ml.tacst_prep import Dataset, TacStPt\n",
    "from coq.tactics import TACTICS_EQUIV"
   ]
  },
  {
   "cell_type": "markdown",
   "metadata": {},
   "source": [
    "## Loading dataset. \n",
    "Note that this is slightly smaller than the full dataset as the edit-distance calculation timed out on the biggest trees. "
   ]
  },
  {
   "cell_type": "code",
   "execution_count": 4,
   "metadata": {},
   "outputs": [],
   "source": [
    "with open(\"tacst_edit.pickle\", \"rb\") as f:\n",
    "    tacst_dataset, kern_tokens_to_idx, mid_tokens_to_idx = pickle.load(f)"
   ]
  },
  {
   "cell_type": "code",
   "execution_count": 5,
   "metadata": {},
   "outputs": [
    {
     "name": "stdout",
     "output_type": "stream",
     "text": [
      "Points Train=61297 Val=7503 Test=7622\n"
     ]
    }
   ],
   "source": [
    "print(\"Points Train={} Val={} Test={}\".format(len(tacst_dataset.train), len(tacst_dataset.val), len(tacst_dataset.test)))"
   ]
  },
  {
   "cell_type": "markdown",
   "metadata": {},
   "source": [
    "## Fitting SVM models\n",
    "We note that the features look approximately poisson, while the log features look approximately gaussian, hence we train the SVM models on the log features. "
   ]
  },
  {
   "cell_type": "code",
   "execution_count": 6,
   "metadata": {},
   "outputs": [],
   "source": [
    "from sklearn import svm\n",
    "\n",
    "def svm_models(dataset):\n",
    "    for typ in [\"mid_noimp\", \"kern\"]:\n",
    "        for targ in [\"subtr_bin\", \"tac_bin\"]:\n",
    "            \n",
    "            size_features = ['%s_concl_size' % typ, '%s_ctx_size' % typ]\n",
    "            len_features = ['len_ctx']\n",
    "            edit_dist_features = ['%s_str_dist' % typ]\n",
    "            features = size_features + len_features  + edit_dist_features\n",
    "            \n",
    "            def _get_features(pt, features = features):\n",
    "                return [getattr(pt, f) for f in features]\n",
    "            \n",
    "            def _get_targets(pt, targ = targ):\n",
    "                return getattr(pt, targ)\n",
    "            \n",
    "            def get_xy(dataset):\n",
    "                X = np.asarray([_get_features(pt) for (tactr_id,pt) in dataset])\n",
    "                Y = np.asarray([_get_targets(pt) for (tactr_id,pt) in dataset])\n",
    "                return X,Y\n",
    "            \n",
    "            x_t, y_t = get_xy(dataset.train)\n",
    "            x_v, y_v = get_xy(dataset.val)\n",
    "            x_s, y_s = get_xy(dataset.test)\n",
    "            \n",
    "            clf = svm.SVC()\n",
    "            clf.fit(np.log(1+x_t), y_t)\n",
    "            score_t = clf.score(np.log(1+x_t), y_t)\n",
    "            score_v = clf.score(np.log(1+x_v), y_v)\n",
    "            score_s = clf.score(np.log(1+x_s), y_s)\n",
    "            print(typ, targ, \"%.4f %.4f %.4f\" % (score_t, score_v, score_s))"
   ]
  },
  {
   "cell_type": "code",
   "execution_count": 8,
   "metadata": {},
   "outputs": [
    {
     "name": "stdout",
     "output_type": "stream",
     "text": [
      "mid_noimp subtr_bin 0.5994 0.6008 0.5752\n",
      "mid_noimp tac_bin 0.4933 0.5119 0.4945\n",
      "kern subtr_bin 0.5975 0.6039 0.5737\n",
      "kern tac_bin 0.4899 0.5045 0.4894\n"
     ]
    }
   ],
   "source": [
    "svm_models(tacst_dataset)"
   ]
  }
 ],
 "metadata": {
  "kernelspec": {
   "display_name": "Python 3",
   "language": "python",
   "name": "python3"
  },
  "language_info": {
   "codemirror_mode": {
    "name": "ipython",
    "version": 3
   },
   "file_extension": ".py",
   "mimetype": "text/x-python",
   "name": "python",
   "nbconvert_exporter": "python",
   "pygments_lexer": "ipython3",
   "version": "3.5.5"
  }
 },
 "nbformat": 4,
 "nbformat_minor": 2
}
