{
 "cells": [
  {
   "cell_type": "code",
   "execution_count": null,
   "metadata": {},
   "outputs": [],
   "source": [
    "import numpy as np\n",
    "import json\n",
    "\n",
    "mystats = None\n",
    "with open('mllogs/simprw-2018-05-16T212811.543397.log', 'rb') as f:\n",
    "    for line in f:\n",
    "        mystats = json.loads(line)\n",
    "if mystats is None:\n",
    "    raise NameError(\"Cannot load file: {}\".format(simprw_log))\n",
    "\n",
    "num_fully_solved = 0\n",
    "good_bad_ratio = []\n",
    "bad_ratio = []\n",
    "for stat in mystats:\n",
    "    print(stat)\n",
    "    if len(stat['bad_steps']) == 0:\n",
    "        num_fully_solved += 1\n",
    "        good_bad_ratio += [len(stat['bad_steps']) / stat['num_steps']]\n",
    "    bad_ratio += [len(stat['bad_steps']) / stat['num_steps']]\n",
    "\n",
    "print(\"# fully solved           :  {}/{}\".format(num_fully_solved, len(mystats)))\n",
    "print(\"Ratio of bad steps       :  {}\", bad_ratio)\n",
    "print(\"Avg. ratio of bad steps  :  {}\".format(np.mean(bad_ratio)))"
   ]
  }
 ],
 "metadata": {
  "kernelspec": {
   "display_name": "ragnarok3",
   "language": "python",
   "name": "ragnarok3"
  },
  "language_info": {
   "codemirror_mode": {
    "name": "ipython",
    "version": 3
   },
   "file_extension": ".py",
   "mimetype": "text/x-python",
   "name": "python",
   "nbconvert_exporter": "python",
   "pygments_lexer": "ipython3",
   "version": "3.6.2"
  }
 },
 "nbformat": 4,
 "nbformat_minor": 2
}
