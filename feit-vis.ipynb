{
 "cells": [
  {
   "cell_type": "markdown",
   "metadata": {},
   "source": [
    "## Exploring Feit-Thompson data set with GamePad\n",
    "\n",
    "You can use this Jupyter notebook to explore the Feit-Thompson data set extracted by TCoq. You will need to have successfully built TCoq, Mathcomponents, and Feit-Thompson, as well as have successfully generated a tactic tree pickle to use this notebook. In the first step, we can obtain some basic statistics of the data set."
   ]
  },
  {
   "cell_type": "code",
   "execution_count": null,
   "metadata": {},
   "outputs": [],
   "source": [
    "from gamepad.exp_tactr_stats import *\n",
    "\n",
    "# Change data/feit-tactr.log to where you saved <tactr.log>\n",
    "stats, unique = load_tactr_stats(\"data/feit-tactr.log\")\n",
    "tactr_stats = TacTrStats(stats)\n",
    "print(\"Unique constants:\", unique['const'])\n",
    "print(\"Unique inductive types:\", unique['ind'])\n",
    "print(\"Unique constructors:\", unique['conid'])\n",
    "_ = tactr_stats.descrip_tacs()\n",
    "_ = tactr_stats.descrip_tacsts()\n",
    "_ = tactr_stats.descrip_term()\n",
    "_ = tactr_stats.descrip_deadend()\n",
    "_ = tactr_stats.gather_have_info()"
   ]
  },
  {
   "cell_type": "markdown",
   "metadata": {},
   "source": [
    "### Visualizing proof trees\n",
    "\n",
    "We can begin by visualizing proof trees just to get a sense of what the raw data set looks like. Below, we have hardcoded an example file and lemma from the Feit-Thompson formalization. You can mouse over the resulting graphic to see each node (proof state, consisting of context and goal) and each edge (tactic invocation) of the proof tree."
   ]
  },
  {
   "cell_type": "code",
   "execution_count": null,
   "metadata": {},
   "outputs": [],
   "source": [
    "from gamepad.visualize import *\n",
    "\n",
    "# Change me to target file of interest\n",
    "file = \"./data/odd-order/BGsection1.v.dump\"\n",
    "# Change me to target lemma of interest\n",
    "tgtlem = \"coprime_cent_prod\"\n",
    "\n",
    "vis = Visualize(f_display=True, f_jupyter=True, f_verbose=False)\n",
    "tactr = vis.visualize_lemma(file, tgtlem)"
   ]
  },
  {
   "cell_type": "markdown",
   "metadata": {},
   "source": [
    "### Distribution of Coq AST nodes\n",
    "\n",
    "The proof trees above displayed pretty-printed proof states, but underneath, GamePad represents these objects as appropriate Python data structures. Coq proof states are encoded in a term language, which expresses logical formulas, computations, and proofs uniformly in the same language. Below, we can see just what the distribution of ASTs in the Coq term language are used in the Feit-Thompson formalization."
   ]
  },
  {
   "cell_type": "code",
   "execution_count": null,
   "metadata": {},
   "outputs": [],
   "source": [
    "import plotly\n",
    "import plotly.plotly as py\n",
    "import plotly.graph_objs as go\n",
    "\n",
    "coqexp_hist = tactr_stats.coqexp_hist()\n",
    "data = [go.Bar(x=[p[0] for p in coqexp_hist], y=[p[1] for p in coqexp_hist])]\n",
    "\n",
    "layout = go.Layout(\n",
    "    title='CoqExp Usage (all lemmas)',\n",
    "    xaxis=dict(\n",
    "        title='Coq Expression'\n",
    "    ),\n",
    "    yaxis=dict(\n",
    "        title='Usage',\n",
    "    ),\n",
    ")\n",
    "fig = go.Figure(data=data, layout=layout)\n",
    "plotly.offline.init_notebook_mode(connected=True)\n",
    "plotly.offline.iplot(fig, filename='coqexp-hist')"
   ]
  },
  {
   "cell_type": "markdown",
   "metadata": {},
   "source": [
    "### Scaling ASTs\n",
    "\n",
    "There are 1602 lemmas in the formalization. Combining this with the total sizes of the ASTs above, we see that proof states contain on the order of 10000 nodes. To scale machine-learning models to such large ASTs, GamePad represents the ASTs in a shared format. Note that it is standard to use a shared representation of ASTs to scale in modern compiler and language implementations. In the next three cells, we will see how three different representations of the ASTs affects the sizes of the average AST involved in a proof context and proof goal.\n",
    "1. Static-Share: a fully-shared representation\n",
    "2. Static-Full: an unshared representation\n",
    "3. Dynamic-Full: an unshared representation where we additionally eliminate lambdas/lets"
   ]
  },
  {
   "cell_type": "code",
   "execution_count": null,
   "metadata": {},
   "outputs": [],
   "source": [
    "import plotly\n",
    "import plotly.plotly as py\n",
    "import plotly.graph_objs as go\n",
    "\n",
    "hist_sh, maxsize = tactr_stats.coqexp_comp_p('static_sh_comp', f_avg=True, f_trunc=True)\n",
    "print(\"Maxsize\", maxsize)\n",
    "data = [go.Bar(x=[k for k, v in hist_sh.items()], y=[v for k, v in hist_sh.items()])]\n",
    "\n",
    "layout = go.Layout(\n",
    "    title='CoqExp Computation Static-Share',\n",
    "    xaxis=dict(\n",
    "        title='Size of Term'\n",
    "    ),\n",
    "    yaxis=dict(\n",
    "        title='Number of terms',\n",
    "    ),\n",
    ")\n",
    "fig = go.Figure(data=data, layout=layout)\n",
    "plotly.offline.init_notebook_mode(connected=True)\n",
    "plotly.offline.iplot(fig, filename='coqexp-sh-hist')"
   ]
  },
  {
   "cell_type": "code",
   "execution_count": null,
   "metadata": {},
   "outputs": [],
   "source": [
    "import plotly\n",
    "import plotly.plotly as py\n",
    "import plotly.graph_objs as go\n",
    "\n",
    "hist_sf, maxsize = tactr_stats.coqexp_comp_p('static_full_comp', f_avg=True, f_trunc=True)\n",
    "print(\"Maxsize\", maxsize)\n",
    "data = [go.Bar(x=[k for k, v in hist_sf.items()], y=[v for k, v in hist_sf.items()])]\n",
    "\n",
    "layout = go.Layout(\n",
    "    title='CoqExp Computation Static-Full',\n",
    "    xaxis=dict(\n",
    "        title='Size'\n",
    "    ),\n",
    "    yaxis=dict(\n",
    "        title='Number',\n",
    "    ),\n",
    ")\n",
    "fig = go.Figure(data=data, layout=layout)\n",
    "plotly.offline.init_notebook_mode(connected=True)\n",
    "plotly.offline.iplot(fig, filename='coqexp-sf-hist')"
   ]
  },
  {
   "cell_type": "code",
   "execution_count": null,
   "metadata": {},
   "outputs": [],
   "source": [
    "import plotly\n",
    "import plotly.plotly as py\n",
    "import plotly.graph_objs as go\n",
    "\n",
    "hist_nm, maxsize = tactr_stats.coqexp_comp_p('cbname_comp', f_avg=True, f_trunc=True)\n",
    "print(\"Maxsize\", maxsize)\n",
    "data = [go.Bar(x=[k for k, v in hist_nm.items()], y=[v for k, v in hist_nm.items()])]\n",
    "\n",
    "layout = go.Layout(\n",
    "    title='CoqExp Computation Call-By-Name',\n",
    "    xaxis=dict(\n",
    "        title='Size of Term'\n",
    "    ),\n",
    "    yaxis=dict(\n",
    "        title='Number of Terms',\n",
    "    ),\n",
    ")\n",
    "fig = go.Figure(data=data, layout=layout)\n",
    "plotly.offline.init_notebook_mode(connected=True)\n",
    "plotly.offline.iplot(fig, filename='coqexp-nm-hist')"
   ]
  },
  {
   "cell_type": "markdown",
   "metadata": {},
   "source": [
    "### Tactics\n",
    "\n",
    "We can also visualize the tactics used."
   ]
  },
  {
   "cell_type": "code",
   "execution_count": null,
   "metadata": {},
   "outputs": [],
   "source": [
    "import plotly\n",
    "import plotly.plotly as py\n",
    "import plotly.graph_objs as go\n",
    "\n",
    "tactic_hist = tactr_stats.avg_hist(f_sort=False)\n",
    "print(tactic_hist)\n",
    "data = [go.Bar(x=[p[0] for p in tactic_hist], y=[p[1] for p in tactic_hist])]\n",
    "\n",
    "layout = go.Layout(\n",
    "    title='Tactic Usage (all lemmas)',\n",
    "    xaxis=dict(\n",
    "        title='Tactic'\n",
    "    ),\n",
    "    yaxis=dict(\n",
    "        title='Usage',\n",
    "    ),\n",
    ")\n",
    "fig = go.Figure(data=data, layout=layout)\n",
    "plotly.offline.init_notebook_mode(connected=True)\n",
    "plotly.offline.iplot(fig, filename='tactic-hist')"
   ]
  },
  {
   "cell_type": "markdown",
   "metadata": {},
   "source": [
    "### Statistics on proof contexts and goals\n",
    "\n",
    "Finally, we can plot some of the properties of the proof context and sizes of the goals involved as a function of the depth in the proof tree that the context/goal occurs in. DepthMode.AST_CTX computes the sizes in terms of the size of the ASTs involved whereas DepthMode.AST_CHAR computes the sizes in terms of characters."
   ]
  },
  {
   "cell_type": "code",
   "execution_count": null,
   "metadata": {},
   "outputs": [],
   "source": [
    "import plotly\n",
    "import plotly.plotly as py\n",
    "import plotly.graph_objs as go\n",
    "\n",
    "avg_depth_ctx_size = tactr_stats.avg_depth_size(DepthMode.AST_CTX).items()\n",
    "data = [go.Bar(x=[p[0] for p in avg_depth_ctx_size], y=[p[1] for p in avg_depth_ctx_size])]\n",
    "\n",
    "layout = go.Layout(\n",
    "    title='Average Context Size vs. Depth in Tree',\n",
    "    xaxis=dict(\n",
    "        title='Depth (proof tree)'\n",
    "    ),\n",
    "    yaxis=dict(\n",
    "        title='Size of context (char-length)',\n",
    "    ),\n",
    ")\n",
    "fig = go.Figure(data=data, layout=layout)\n",
    "plotly.offline.init_notebook_mode(connected=True)\n",
    "plotly.offline.iplot(fig, filename='average-context-size')"
   ]
  },
  {
   "cell_type": "code",
   "execution_count": null,
   "metadata": {},
   "outputs": [],
   "source": [
    "import plotly\n",
    "import plotly.plotly as py\n",
    "import plotly.graph_objs as go\n",
    "\n",
    "avg_depth_goal_size = tactr_stats.avg_depth_size(DepthMode.CHAR_GOAL).items()\n",
    "data = [go.Bar(x=[p[0] for p in avg_depth_goal_size], y=[p[1] for p in avg_depth_goal_size])]\n",
    "\n",
    "layout = go.Layout(\n",
    "    title='Average Goal Size vs. Depth in Tree',\n",
    "    xaxis=dict(\n",
    "        title='Depth (proof tree)'\n",
    "    ),\n",
    "    yaxis=dict(\n",
    "        title='Size of goal (char-length)',\n",
    "    ),\n",
    ")\n",
    "fig = go.Figure(data=data, layout=layout)\n",
    "plotly.offline.init_notebook_mode(connected=True)\n",
    "plotly.offline.iplot(fig, filename='average-goal-size')"
   ]
  },
  {
   "cell_type": "code",
   "execution_count": null,
   "metadata": {},
   "outputs": [],
   "source": [
    "import plotly\n",
    "import plotly.plotly as py\n",
    "import plotly.graph_objs as go\n",
    "\n",
    "avg_depth_astctx_size = tactr_stats.avg_depth_size(DepthMode.AST_CTX).items()\n",
    "data = [go.Bar(x=[p[0] for p in avg_depth_astctx_size], y=[p[1] for p in avg_depth_astctx_size])]\n",
    "\n",
    "layout = go.Layout(\n",
    "    title='Average Context Size vs. Depth in Tree',\n",
    "    xaxis=dict(\n",
    "        title='Depth (proof tree)'\n",
    "    ),\n",
    "    yaxis=dict(\n",
    "        title='Size of context (ast-size)',\n",
    "    ),\n",
    ")\n",
    "fig = go.Figure(data=data, layout=layout)\n",
    "plotly.offline.init_notebook_mode(connected=True)\n",
    "plotly.offline.iplot(fig, filename='average-context-size')"
   ]
  },
  {
   "cell_type": "code",
   "execution_count": null,
   "metadata": {},
   "outputs": [],
   "source": [
    "import plotly\n",
    "import plotly.plotly as py\n",
    "import plotly.graph_objs as go\n",
    "\n",
    "avg_depth_astgoal_size = tactr_stats.avg_depth_size(DepthMode.AST_GOAL).items()\n",
    "data = [go.Bar(x=[p[0] for p in avg_depth_astgoal_size], y=[p[1] for p in avg_depth_astgoal_size])]\n",
    "\n",
    "layout = go.Layout(\n",
    "    title='Average Goal Size vs. Depth in Tree',\n",
    "    xaxis=dict(\n",
    "        title='Depth (proof tree)'\n",
    "    ),\n",
    "    yaxis=dict(\n",
    "        title='Size of context (ast-size)',\n",
    "    ),\n",
    ")\n",
    "fig = go.Figure(data=data, layout=layout)\n",
    "plotly.offline.init_notebook_mode(connected=True)\n",
    "plotly.offline.iplot(fig, filename='average-context-size')"
   ]
  },
  {
   "cell_type": "code",
   "execution_count": null,
   "metadata": {
    "collapsed": true
   },
   "outputs": [],
   "source": []
  }
 ],
 "metadata": {
  "kernelspec": {
   "display_name": "gamepad3",
   "language": "python",
   "name": "gamepad3"
  },
  "language_info": {
   "codemirror_mode": {
    "name": "ipython",
    "version": 3
   },
   "file_extension": ".py",
   "mimetype": "text/x-python",
   "name": "python",
   "nbconvert_exporter": "python",
   "pygments_lexer": "ipython3",
   "version": "3.6.2"
  }
 },
 "nbformat": 4,
 "nbformat_minor": 2
}
